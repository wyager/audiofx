{
 "cells": [
  {
   "cell_type": "markdown",
   "id": "263a750a-808f-4c9c-af75-eac7febd4981",
   "metadata": {},
   "source": [
    "# Training Neural Networks to Emulate Audio Effects\n",
    "\n",
    "I'm gearing up to start a new job at an AI lab, working on RL systems, and I want to do a bit of hands-on NN work to gear up.\n",
    "\n",
    "Let's figure out how to train a model to emulate various audio effects, like distortion units or reverbs or whatever. For boilerplate stuff like loading audio data, I'll write a type signature and comment and have Claude fill out the details.\n",
    "\n",
    "I haven't read any literature on how to do stuff like this, so I'll probably do some stupid stuff here, call things by the wrong name, etc., but I find it's often more educational to go in blind sometimes. \n",
    "\n",
    "I figure an architecture that might work pretty well is to have the previous `m` input samples, $[i_n, i_{n+1}, ..., i_{n+m-1}, i_{n+m}]$, and the previous `m-1` output samples, $[o_n, o_{n+1}, ..., o_{n+m-1}]$, and train the network to generate the next output sample, $o_{n+m}$\n",
    "\n",
    "```\n",
    "                     .-------.\n",
    "[m prev inputs]----->|  The  |\n",
    "[m-1 prev outputs]-->| Model |-->[next output]\n",
    "                     '-------'\n",
    "```\n",
    "\n",
    "This architecture seems good to me because:\n",
    "\n",
    "1. It's easy to generate examples of input data\n",
    "2. It gives the model enough context to (theoretically) recover information like \"what is the current phase of this oscillator\"\n",
    "\n",
    "\n",
    "As for how to actually represent the audio, some initial thoughts:\n",
    "\n",
    "1. You could just pass in and extract straight up $[-1,1]$ float audio into/out of the model.\n",
    "   1. The model will have to grow hardware to implement a threshold detector ADC or something, which seems kind of wasteful\n",
    "   2. This fails to accurately capture entropy density in human audio perception. A signal with peak amplitude 0.01 is often just as clear to humans as a signal with peak amplitude 1.0. Which brings us to a possible improvement\n",
    "2. Pre- and post-process the audio with some sort of compander, like a $\\mu$-law\n",
    "   1. This will probably help the model maintain perceptual accuracy across wide volume ranges\n",
    "3. Encode a binary representation of the audio. This feels to me like it will probably be difficult for the model to reason about.\n",
    "4. Use some sort of one-hot encoding for the amplitude, probably in combination with a companding algorithm. This might be too expensive on the input side (since we have a lot of inputs), but could work well on the output side. We could have 256 different outputs for 8-bit audio, for example.\n",
    "   1. We could also possibly allow the network to output a continuous \"residual\" value for adding additional accuracy on top of the one-hot value.\n",
    "  \n",
    "For now, let's just try the first thing and see how it goes. I expect it will work OK for well-normalized (loud) audio and poorly for quiet audio.\n",
    "\n",
    "As for our loss function: probably some sort of perceptual similarity metric would be best, but let's start with a super simple metric like squared error in $\\mu$-law space."
   ]
  },
  {
   "cell_type": "markdown",
   "id": "c4a8cb6e-486e-43a0-9935-4c501337382f",
   "metadata": {},
   "source": [
    "First up, I need a bunch of training data. I took a bunch of songs from my music library and put them in the `examples` folder. (I'm old enought that I have about 75GB of local music files.) \n",
    "\n",
    "When we want to train a new effect, we'll have a bunch of training runs of the form:\n",
    "\n",
    "1. Pick a bunch of random song slices from the library\n",
    "2. Feed the song slices through the reference implementation of the effect (could be software or hardware)\n",
    "3. Train the model to predict the next sample of the effect across all I/O examples in the batch"
   ]
  },
  {
   "cell_type": "code",
   "execution_count": 1,
   "id": "08e73757-ce9d-47a5-b8e7-c416baae255a",
   "metadata": {},
   "outputs": [],
   "source": [
    "import os\n",
    "import numpy as np\n",
    "import torchaudio\n",
    "import random\n",
    "from pathlib import Path\n",
    "from typing import List, Tuple\n",
    "\n",
    "def list_audio_files(examples_dir: str = \"examples\") -> List[str]:\n",
    "    \"\"\"\n",
    "    List all audio files in the examples directory.\n",
    "    \n",
    "    Args:\n",
    "        examples_dir: Path to the examples directory\n",
    "        \n",
    "    Returns:\n",
    "        List of audio file paths\n",
    "    \"\"\"\n",
    "    audio_extensions = {'.mp3', '.m4a', '.wav', '.flac', '.aac', '.ogg', '.mp4'}\n",
    "    audio_files = []\n",
    "    \n",
    "    examples_path = Path(examples_dir)\n",
    "    if not examples_path.exists():\n",
    "        raise FileNotFoundError(f\"Examples directory '{examples_dir}' not found\")\n",
    "    \n",
    "    for file_path in examples_path.rglob('*'):\n",
    "        if file_path.is_file() and file_path.suffix.lower() in audio_extensions:\n",
    "            audio_files.append(str(file_path))\n",
    "    \n",
    "    return sorted(audio_files)\n",
    "\n",
    "def read_audio_normalized(file_path: str) -> np.ndarray:\n",
    "    \"\"\"\n",
    "    Read an audio file, convert to mono, and normalize so peak absolute value is 1.0.\n",
    "    \n",
    "    Args:\n",
    "        file_path: Path to the audio file\n",
    "        \n",
    "    Returns:\n",
    "        Normalized mono audio as float32 numpy array with shape (samples,)\n",
    "    \"\"\"\n",
    "    # Load audio using torchaudio (handles many formats)\n",
    "    try:\n",
    "        waveform, sample_rate = torchaudio.load(file_path)\n",
    "        \n",
    "        # Convert to numpy float32\n",
    "        audio = waveform.numpy().astype(np.float32)\n",
    "        \n",
    "        # Convert to mono by averaging channels if stereo/multi-channel\n",
    "        if audio.shape[0] > 1:\n",
    "            audio = np.mean(audio, axis=0)\n",
    "        else:\n",
    "            audio = audio.squeeze(0)\n",
    "        \n",
    "        # Normalize to peak amplitude of 1.0\n",
    "        peak = np.max(np.abs(audio))\n",
    "        if peak > 0:  # Avoid division by zero for silent audio\n",
    "            audio = audio / peak\n",
    "            \n",
    "        return audio\n",
    "        \n",
    "    except Exception as e:\n",
    "        raise RuntimeError(f\"Failed to load audio file '{file_path}': {str(e)}\")\n",
    "\n",
    "\n",
    "    "
   ]
  },
  {
   "cell_type": "markdown",
   "id": "3056538a-a779-42bf-b9ec-d16581055df0",
   "metadata": {},
   "source": [
    "OK, now let's write some code to generate input/output data for training the network.\n",
    "\n",
    "Our input tensor will be of shape `(batch size, m input samples + m-1 output samples)` and our output tensor will\n",
    "be of shape `(batch size, 1)`."
   ]
  },
  {
   "cell_type": "code",
   "execution_count": 2,
   "id": "96ab8760-943c-4714-b133-689acefa5b7c",
   "metadata": {},
   "outputs": [],
   "source": [
    "# TODO WYAGER: check Claude's work\n",
    "def generate_audio_pairs(audio_effect, file_count: int = 64) -> List[Tuple[np.ndarray, np.ndarray]]:\n",
    "    \"\"\"\n",
    "    TODO CLAUDE: Read in random audio files from examples directory and apply the effect to them,\n",
    "    creating pairs of (dry, wet) audio for training.\n",
    "\n",
    "    Args:\n",
    "        audio_effect: Function which takes in clean audio (f32 mono array) and outputs a\n",
    "            processed array of the same size\n",
    "        file_count: How many files to read and process\n",
    "\n",
    "    Returns:\n",
    "        List of (dry_audio, wet_audio) pairs as numpy arrays\n",
    "        \n",
    "    Raises:\n",
    "        ValueError: If not enough audio files are available\n",
    "        RuntimeError: If audio processing fails\n",
    "    \"\"\"\n",
    "    audio_files = list_audio_files()\n",
    "    \n",
    "    if len(audio_files) < file_count:\n",
    "        raise ValueError(f\"Not enough audio files: found {len(audio_files)}, need {file_count}\")\n",
    "    \n",
    "    # Sample random files without replacement\n",
    "    selected_files = random.sample(audio_files, file_count)\n",
    "    \n",
    "    audio_pairs = []\n",
    "    failed_files = []\n",
    "    \n",
    "    for file_path in selected_files:\n",
    "        try:\n",
    "            # Read and normalize the dry audio\n",
    "            dry_audio = read_audio_normalized(file_path)\n",
    "            \n",
    "            # Apply the effect to get wet audio\n",
    "            wet_audio = audio_effect(dry_audio)\n",
    "            \n",
    "            # Validate that effect preserved array shape\n",
    "            if wet_audio.shape != dry_audio.shape:\n",
    "                raise RuntimeError(f\"Audio effect changed shape: {dry_audio.shape} -> {wet_audio.shape}\")\n",
    "            \n",
    "            audio_pairs.append((dry_audio, wet_audio))\n",
    "            \n",
    "        except Exception as e:\n",
    "            failed_files.append((file_path, str(e)))\n",
    "            print(f\"Warning: Failed to process {file_path}: {e}\")\n",
    "    \n",
    "    if failed_files and len(audio_pairs) == 0:\n",
    "        raise RuntimeError(f\"All audio files failed to process: {failed_files}\")\n",
    "    \n",
    "    print(f\"Successfully processed {len(audio_pairs)} audio files ({len(failed_files)} failed)\")\n",
    "    return audio_pairs\n",
    "\n",
    "# TODO WYAGER: check Claude's work  \n",
    "def generate_slices_from_pairs(audio_pairs: List[Tuple[np.ndarray, np.ndarray]],\n",
    "                               context_window: int,\n",
    "                               slices_per_pair: int\n",
    "                               ) -> Tuple[np.ndarray, np.ndarray]:\n",
    "    \"\"\"\n",
    "    TODO CLAUDE: Given reference input/output dry/wet audio pairs,\n",
    "    create numpy arrays suitable for training the neural network.\n",
    "    Will generate randomly-selected slices from each audio pair.\n",
    "\n",
    "    Args:\n",
    "        audio_pairs: A list of (dry,wet) mono audio arrays (entire processed songs)\n",
    "        context_window: The number of historical input samples the neural network gets\n",
    "        slices_per_pair: The number of example slices we want for each input/output pair\n",
    "\n",
    "    Returns:\n",
    "        Tuple of (input_features, target_outputs):\n",
    "        - input_features: f32 array of shape (total_slices, context_window * 2 - 1)\n",
    "            Each row contains `context_window` input samples concatenated with \n",
    "            `context_window - 1` previous output samples\n",
    "        - target_outputs: f32 array of shape (total_slices, 1)\n",
    "            The next output sample corresponding to each input block\n",
    "            \n",
    "    Raises:\n",
    "        ValueError: If audio pairs are too short for the context window\n",
    "    \"\"\"\n",
    "    if not audio_pairs:\n",
    "        raise ValueError(\"No audio pairs provided\")\n",
    "    \n",
    "    total_slices = len(audio_pairs) * slices_per_pair\n",
    "    feature_size = context_window * 2 - 1\n",
    "    \n",
    "    # Pre-allocate output arrays\n",
    "    input_features = np.zeros((total_slices, feature_size), dtype=np.float32)\n",
    "    target_outputs = np.zeros((total_slices, 1), dtype=np.float32)\n",
    "    \n",
    "    slice_idx = 0\n",
    "    \n",
    "    for dry_audio, wet_audio in audio_pairs:\n",
    "        # Check minimum length requirement\n",
    "        min_length = context_window * 2  # Need context_window for input + context_window for output history + 1 for target\n",
    "        if len(dry_audio) < min_length:\n",
    "            print(f\"Warning: Audio pair too short ({len(dry_audio)} samples), need at least {min_length}. Skipping.\")\n",
    "            continue\n",
    "            \n",
    "        # Generate random slice positions for this pair\n",
    "        # Valid range: from context_window to len-1 (need context_window previous samples)\n",
    "        max_start = len(dry_audio) - context_window\n",
    "        slice_positions = np.random.randint(context_window, max_start + 1, size=slices_per_pair)\n",
    "        \n",
    "        for pos in slice_positions:\n",
    "            # Extract input context: previous context_window input samples\n",
    "            input_context = dry_audio[pos - context_window:pos]\n",
    "            \n",
    "            # Extract output context: previous context_window-1 output samples  \n",
    "            output_context = wet_audio[pos - context_window:pos - 1]\n",
    "            \n",
    "            # Combine input and output contexts\n",
    "            input_features[slice_idx] = np.concatenate([input_context, output_context])\n",
    "            \n",
    "            # Target is the next output sample\n",
    "            target_outputs[slice_idx, 0] = wet_audio[pos]\n",
    "            \n",
    "            slice_idx += 1\n",
    "    \n",
    "    # Trim arrays if some pairs were skipped\n",
    "    if slice_idx < total_slices:\n",
    "        input_features = input_features[:slice_idx]\n",
    "        target_outputs = target_outputs[:slice_idx]\n",
    "        print(f\"Generated {slice_idx} slices (some audio pairs were too short)\")\n",
    "    else:\n",
    "        print(f\"Generated {slice_idx} slices from {len(audio_pairs)} audio pairs\")\n",
    "    \n",
    "    return input_features, target_outputs"
   ]
  },
  {
   "cell_type": "markdown",
   "id": "e30d7846-e051-4d54-9e10-53212669ef8c",
   "metadata": {},
   "source": [
    "Let's try this with a \"passthrough\" audio effect that does nothing."
   ]
  },
  {
   "cell_type": "code",
   "execution_count": 3,
   "id": "f02b6e12-2c77-45eb-9a0d-1362c546bc8c",
   "metadata": {},
   "outputs": [
    {
     "name": "stderr",
     "output_type": "stream",
     "text": [
      "Note: Illegal Audio-MPEG-Header 0x5420207d at offset 18166511.\n",
      "Note: Trying to resync...\n",
      "Note: Skipped 1024 bytes in input.\n",
      "[src/libmpg123/parse.c:wetwork():1349] error: Giving up resync after 1024 bytes - your stream is not nice... (maybe increasing resync limit could help).\n"
     ]
    },
    {
     "name": "stdout",
     "output_type": "stream",
     "text": [
      "Warning: Failed to process examples/04 Exhale.mp3: Failed to load audio file 'examples/04 Exhale.mp3': Unspecified internal error.\n"
     ]
    },
    {
     "name": "stderr",
     "output_type": "stream",
     "text": [
      "[src/libmpg123/id3.c:process_comment():587] error: No comment text / valid description?\n",
      "[src/libmpg123/id3.c:process_comment():587] error: No comment text / valid description?\n"
     ]
    },
    {
     "name": "stdout",
     "output_type": "stream",
     "text": [
      "Warning: Failed to process examples/Children (Dreams Version).mp3: Failed to load audio file 'examples/Children (Dreams Version).mp3': Unspecified internal error.\n"
     ]
    },
    {
     "name": "stderr",
     "output_type": "stream",
     "text": [
      "[src/libmpg123/id3.c:process_comment():587] error: No comment text / valid description?\n",
      "[src/libmpg123/id3.c:process_comment():587] error: No comment text / valid description?\n",
      "Note: Illegal Audio-MPEG-Header 0xd506317b at offset 21452619.\n",
      "Note: Trying to resync...\n",
      "Note: Skipped 1024 bytes in input.\n",
      "[src/libmpg123/parse.c:wetwork():1349] error: Giving up resync after 1024 bytes - your stream is not nice... (maybe increasing resync limit could help).\n"
     ]
    },
    {
     "name": "stdout",
     "output_type": "stream",
     "text": [
      "Warning: Failed to process examples/10 The Dark Ride.mp3: Failed to load audio file 'examples/10 The Dark Ride.mp3': Unspecified internal error.\n"
     ]
    },
    {
     "name": "stderr",
     "output_type": "stream",
     "text": [
      "[src/libmpg123/id3.c:process_comment():587] error: No comment text / valid description?\n",
      "[src/libmpg123/id3.c:process_comment():587] error: No comment text / valid description?\n",
      "[src/libmpg123/id3.c:process_comment():587] error: No comment text / valid description?\n",
      "[src/libmpg123/id3.c:process_comment():587] error: No comment text / valid description?\n",
      "[src/libmpg123/id3.c:process_comment():587] error: No comment text / valid description?\n",
      "[src/libmpg123/id3.c:process_comment():587] error: No comment text / valid description?\n",
      "Note: Illegal Audio-MPEG-Header 0xffe40606 at offset 1523.\n",
      "Note: Trying to resync...\n",
      "Note: Skipped 86 bytes in input.\n",
      "[src/libmpg123/id3.c:process_comment():587] error: No comment text / valid description?\n",
      "[src/libmpg123/id3.c:process_comment():587] error: No comment text / valid description?\n",
      "[src/libmpg123/id3.c:process_comment():587] error: No comment text / valid description?\n",
      "Note: Illegal Audio-MPEG-Header 0x00000000 at offset 2596872.\n",
      "Note: Trying to resync...\n",
      "Note: Hit end of (available) data during resync.\n",
      "[src/libmpg123/id3.c:process_comment():587] error: No comment text / valid description?\n",
      "Note: Illegal Audio-MPEG-Header 0xab780b63 at offset 4653202.\n",
      "Note: Trying to resync...\n",
      "Note: Skipped 964 bytes in input.\n",
      "[src/libmpg123/id3.c:process_comment():587] error: No comment text / valid description?\n",
      "[src/libmpg123/id3.c:process_comment():587] error: No comment text / valid description?\n",
      "Note: Illegal Audio-MPEG-Header 0x4c595249 at offset 14949070.\n",
      "Note: Trying to resync...\n",
      "Note: Hit end of (available) data during resync.\n"
     ]
    },
    {
     "name": "stdout",
     "output_type": "stream",
     "text": [
      "Successfully processed 509 audio files (3 failed)\n",
      "Generated 1042432 slices from 509 audio pairs\n"
     ]
    }
   ],
   "source": [
    "context_window = 128\n",
    "slices_per_pair = 2048\n",
    "file_count = 512\n",
    "\n",
    "effect = lambda x : x # Do nothing to the audio\n",
    "passthru_data = \\\n",
    "    generate_slices_from_pairs(generate_audio_pairs(effect, \n",
    "                                                    file_count = file_count),\n",
    "                               context_window, \n",
    "                               slices_per_pair)"
   ]
  },
  {
   "cell_type": "markdown",
   "id": "799b5bb0-bdd1-410f-ad38-999fd7ef9cbb",
   "metadata": {},
   "source": [
    "Now for our actual training:"
   ]
  },
  {
   "cell_type": "code",
   "execution_count": 45,
   "id": "26a7d6b8-fb07-4570-a37b-e04f41a6f666",
   "metadata": {},
   "outputs": [],
   "source": [
    "import torch\n",
    "import matplotlib.pyplot as plt\n",
    "from IPython.display import clear_output\n",
    "\n",
    "inner_layer_size = 256\n",
    "num_inner_layers = 5\n",
    "\n",
    "class Model:\n",
    "    def __init__(self, input_layer, input_biases, inner_layers, inner_biases, output_layer, output_bias, device):\n",
    "        self.input_layer, self.input_biases, self.inner_layers, self.inner_biases, self.output_layer, self.output_bias = \\\n",
    "            input_layer, input_biases, inner_layers, inner_biases, output_layer, output_bias\n",
    "        self.device = device\n",
    "    # TODO claude: Add a type here\n",
    "    def eval(self, inputs):\n",
    "        # Run the model forward\n",
    "        vec = torch.nn.functional.relu(inputs @ self.input_layer + self.input_biases)\n",
    "        for i,layer in enumerate(self.inner_layers):\n",
    "            bias = self.inner_biases[i]\n",
    "            vec = torch.nn.functional.relu(vec @ layer + bias)\n",
    "        vec = vec @ self.output_layer + self.output_bias\n",
    "        return vec\n",
    "    def to_numpy(self):\n",
    "        return Model(\n",
    "            self.input_layer.cpu().detach().numpy(), \n",
    "            self.input_biases.cpu().detach().numpy(), \n",
    "            [l.cpu().detach().numpy() for l in self.inner_layers], \n",
    "            [b.cpu().detach().numpy() for b in self.inner_biases], \n",
    "            self.output_layer.cpu().detach().numpy(), \n",
    "            self.output_bias.cpu().detach().numpy())\n",
    "    def apply_to_audio(self, audio):\n",
    "        inputs = np.zeros(context_window).astype('float32')\n",
    "        prev_outs = np.zeros(context_window - 1).astype('float32')\n",
    "        outputs = np.zeros(audio.shape).astype('float32')\n",
    "        for i,sample in enumerate(audio):\n",
    "            if i % 1000 == 0:\n",
    "                clear_output(wait=True)\n",
    "                # print(i)\n",
    "            # Shift on the new input sample\n",
    "            inputs[:-1] = inputs[1:]\n",
    "            inputs[-1] = sample\n",
    "            model_input = np.concatenate([inputs, prev_outs])\n",
    "            with torch.no_grad():\n",
    "                output = self.eval(torch.from_numpy(model_input).to(self.device)).item()\n",
    "            # Shift on the new output sample (which we just generated)\n",
    "            prev_outs[:-1] = prev_outs[1:]\n",
    "            prev_outs[-1] = output\n",
    "\n",
    "            # Save the output\n",
    "            outputs[i] = output\n",
    "            # print(model_input)\n",
    "        return outputs\n",
    "            \n"
   ]
  },
  {
   "cell_type": "markdown",
   "id": "be71615f-5b04-47ad-8377-4808135e6ec8",
   "metadata": {},
   "source": [
    "An issue I ran into during initial training: if you pick a bunch of gaussian initial weights, and each layer is a ReLU, you get a bunch of paths through the network where the expected \"gain\" is extremely large, probably on the order of something like `sqrt(width)^depth`, resulting in insanely large outputs that take forever to train away (at least with the Adam optimizer). As a hack, I just normalized the weights by `1/sqrt(width)`."
   ]
  },
  {
   "cell_type": "code",
   "execution_count": 49,
   "id": "2a5c453d-e109-47d0-9eac-9e050f2fead0",
   "metadata": {},
   "outputs": [],
   "source": [
    "batch_size = 1024*16\n",
    "\n",
    "weight_norm = 1.0/np.sqrt(inner_layer_size)\n",
    "\n",
    "def train(examples):\n",
    "    if torch.backends.mps.is_available():\n",
    "        device = torch.device(\"mps\")\n",
    "        print(\"Using MPS (GPU) device\")\n",
    "    elif torch.cuda.is_available():\n",
    "        device = torch.device(\"cuda\")\n",
    "        print(\"Using CUDA device\")\n",
    "    else:\n",
    "        device = torch.device(\"cpu\")\n",
    "        print(\"Using CPU device\")\n",
    "    training_losses = []\n",
    "    validation_losses = []\n",
    "    inputs, outputs = examples\n",
    "    inputs, outputs = torch.tensor(inputs).to(device), torch.tensor(outputs).to(device)\n",
    "    validation_inputs, inputs = inputs[:1000], inputs[1000:]\n",
    "    validation_outputs, outputs = outputs[:1000], outputs[1000:]\n",
    "    # Input layer maps from the input context to our inner layers\n",
    "    input_layer = (torch.randn((context_window * 2 - 1, inner_layer_size),device=device) * weight_norm).requires_grad_()\n",
    "    input_biases = (torch.randn(inner_layer_size, device=device) * weight_norm).requires_grad_()\n",
    "    # Inner layers do whatever\n",
    "    inner_layers = [(torch.randn((inner_layer_size, inner_layer_size), device=device) * weight_norm).requires_grad_() for _ in range(num_inner_layers)]\n",
    "    inner_biases = [(torch.randn(inner_layer_size, device=device) * weight_norm).requires_grad_() for _ in range(num_inner_layers)]\n",
    "    # Maps from our last layer to the next audio output value\n",
    "    output_layer = (torch.randn((inner_layer_size, 1), device=device) * weight_norm).requires_grad_()\n",
    "    output_bias = (torch.randn(1, device=device) * weight_norm).requires_grad_()\n",
    "    model = Model(input_layer, input_biases, inner_layers, inner_biases, output_layer, output_bias, device)\n",
    "    # Automatically adjusts learning rate for each param, uses momentum, etc.\n",
    "    optimizer = torch.optim.Adam([input_layer, input_biases] + inner_layers + inner_biases + [output_layer, output_bias], lr=0.001)\n",
    "    # Run a bunch of optimization steps\n",
    "    for epoch in range(50):\n",
    "        num_training_samps, _ = inputs.shape\n",
    "        epoch_indices = torch.randperm(num_training_samps)\n",
    "        # Shuffle the training inputs\n",
    "        inputs = inputs[epoch_indices]\n",
    "        outputs = outputs[epoch_indices]\n",
    "        epoch_training_losses = []\n",
    "        num_batches = num_training_samps//batch_size\n",
    "        for batch in range(num_batches):\n",
    "            #print(f\"batch {batch}/{num_batches}\")\n",
    "            batch_inputs = inputs[batch_size * batch : batch_size * (batch + 1)]\n",
    "            batch_outputs = outputs[batch_size * batch : batch_size * (batch + 1)]\n",
    "            # for inputs, outputs in \n",
    "            # Reset the gradients on each leaf node\n",
    "            optimizer.zero_grad()\n",
    "            # Run the model forward\n",
    "            vec = model.eval(batch_inputs)\n",
    "            error = vec - batch_outputs\n",
    "            loss = (error ** 2).mean()\n",
    "            loss.backward()\n",
    "            epoch_training_losses.append(loss.cpu().item())\n",
    "        training_losses.append(np.mean(epoch_training_losses))\n",
    "        with torch.no_grad():\n",
    "            vec = model.eval(validation_inputs)\n",
    "            error = vec - validation_outputs\n",
    "            loss = (error ** 2).mean()\n",
    "            validation_losses.append(loss.cpu().item())\n",
    "        if epoch % 1 == 0:\n",
    "            clear_output(wait=True)\n",
    "            plt.plot(training_losses, 'g')\n",
    "            plt.plot(validation_losses, 'r')\n",
    "            plt.yscale('log')\n",
    "            plt.show()\n",
    "        # Let the optimizer adjust the params\n",
    "        # Conceptually it's basically doing param -= param.grad * 0.01 for each param\n",
    "        # But it's doing stuff with momentum, normalization, etc. to make it converge faster\n",
    "        optimizer.step()\n",
    "    return model"
   ]
  },
  {
   "cell_type": "code",
   "execution_count": 50,
   "id": "90c13f15-56f6-4bb4-bc2d-502d1774d82c",
   "metadata": {},
   "outputs": [
    {
     "data": {
      "image/png": "[encoded data removed]",
      "text/plain": [
       "<Figure size 640x480 with 1 Axes>"
      ]
     },
     "metadata": {},
     "output_type": "display_data"
    }
   ],
   "source": [
    "model = train(passthru_data)"
   ]
  },
  {
   "cell_type": "markdown",
   "id": "bfc986b2-b707-43af-8534-dc608d1b7694",
   "metadata": {},
   "source": []
  },
  {
   "cell_type": "code",
   "execution_count": 51,
   "id": "0403b9e5-ded9-4ca5-aaf6-780dda49767c",
   "metadata": {},
   "outputs": [
    {
     "data": {
      "text/html": [
       "\n",
       "                <audio  controls=\"controls\" >\n",
       "                    <source src=\"data:audio/wav;base64,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\" type=\"audio/wav\" />\n",
       "                    Your browser does not support the audio element.\n",
       "                </audio>\n",
       "              "
      ],
      "text/plain": [
       "<IPython.lib.display.Audio object>"
      ]
     },
     "execution_count": 51,
     "metadata": {},
     "output_type": "execute_result"
    }
   ],
   "source": [
    "from IPython.display import Audio\n",
    "import numpy as np\n",
    "\n",
    "audio = read_audio_normalized(\"validation/1993.wav\")[:10000]\n",
    "\n",
    "sample_rate = 44100\n",
    "Audio(audio, rate=sample_rate)"
   ]
  },
  {
   "cell_type": "code",
   "execution_count": 52,
   "id": "19a0808c-9932-420f-8948-82ee4b26171f",
   "metadata": {},
   "outputs": [],
   "source": [
    "processed = model.apply_to_audio(audio)"
   ]
  },
  {
   "cell_type": "code",
   "execution_count": 53,
   "id": "3a2766a7-edc7-4cc2-ad3c-ec6d8c817394",
   "metadata": {},
   "outputs": [
    {
     "data": {
      "text/html": [
       "\n",
       "                <audio  controls=\"controls\" >\n",
       "                    <source src=\"data:audio/wav;base64,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\" type=\"audio/wav\" />\n",
       "                    Your browser does not support the audio element.\n",
       "                </audio>\n",
       "              "
      ],
      "text/plain": [
       "<IPython.lib.display.Audio object>"
      ]
     },
     "execution_count": 53,
     "metadata": {},
     "output_type": "execute_result"
    }
   ],
   "source": [
    "sample_rate = 44100\n",
    "Audio(processed, rate=sample_rate)"
   ]
  },
  {
   "cell_type": "code",
   "execution_count": 9,
   "id": "1e56ab47-5c1e-4efb-afbe-9f5aa1a380a4",
   "metadata": {},
   "outputs": [
    {
     "data": {
      "text/plain": [
       "array([-2.5503208e+03, -2.8200192e+08, -3.1123883e+13, -3.4350766e+18,\n",
       "       -3.7912238e+23, -4.1842906e+28, -4.6181205e+33,            nan,\n",
       "        1.8959191e+04,  1.8959191e+04,  1.8959191e+04,  1.8959191e+04,\n",
       "        1.8959191e+04,  1.8959191e+04,  1.8959191e+04,  1.8959191e+04,\n",
       "        1.8959191e+04,  1.8959191e+04,  1.8959191e+04,  1.8959191e+04,\n",
       "        1.8959191e+04,  1.8959191e+04,  1.8959191e+04,  1.8959191e+04,\n",
       "        1.8959191e+04,  1.8959191e+04,  1.8959191e+04,  1.8959191e+04,\n",
       "        1.8959191e+04,  1.8959191e+04,  1.8959191e+04,  1.8959191e+04,\n",
       "        1.8959191e+04,  1.8959191e+04,  1.8959191e+04,  1.8959191e+04,\n",
       "        1.8959191e+04,  1.8959191e+04,  1.8959191e+04,  1.8959191e+04,\n",
       "        1.8959191e+04,  1.8959191e+04,  1.8959191e+04,  1.8959191e+04,\n",
       "        1.8959191e+04,  1.8959191e+04,  1.8959191e+04,  1.8959191e+04,\n",
       "        1.8959191e+04,  1.8959191e+04], dtype=float32)"
      ]
     },
     "execution_count": 9,
     "metadata": {},
     "output_type": "execute_result"
    }
   ],
   "source": [
    "processed"
   ]
  },
  {
   "cell_type": "code",
   "execution_count": 10,
   "id": "97af1068-def9-408f-b9da-3c3df4ecf034",
   "metadata": {},
   "outputs": [
    {
     "data": {
      "text/plain": [
       "array([ 0.01637095,  0.00623655, -0.01016558, -0.02862578, -0.03731018,\n",
       "       -0.03012255, -0.02701986, -0.03349029, -0.03152577, -0.01713493,\n",
       "       -0.00818548, -0.00435   ,  0.00637687,  0.02394836,  0.03872899,\n",
       "        0.04972091,  0.05505317,  0.05329134,  0.04580748,  0.04300103,\n",
       "        0.04181609,  0.04134834,  0.04103652,  0.04346877,  0.04554242,\n",
       "        0.04736662,  0.04710156,  0.04396769,  0.03405157,  0.02503976,\n",
       "        0.02291933,  0.02192148,  0.01705697,  0.0169946 ,  0.02017525,\n",
       "        0.02316879,  0.03342792,  0.05396177,  0.07201659,  0.07572734,\n",
       "        0.07984346,  0.09000904,  0.08657894,  0.06626337,  0.05550532,\n",
       "        0.06755745,  0.08523808,  0.08957248,  0.08101282,  0.0703795 ],\n",
       "      dtype=float32)"
      ]
     },
     "execution_count": 10,
     "metadata": {},
     "output_type": "execute_result"
    }
   ],
   "source": [
    "audio[:50]"
   ]
  },
  {
   "cell_type": "code",
   "execution_count": 11,
   "id": "3cbf2040-9f4a-4ee0-b772-dc306353b11f",
   "metadata": {},
   "outputs": [
    {
     "data": {
      "text/plain": [
       "tensor([71, 69, 67,  5, 54, 88, 61, 30, 24, 57, 36, 32, 18, 92, 50, 76, 87, 40,\n",
       "        91, 79, 51, 94, 33, 44, 66,  9, 20, 81, 58, 72, 55, 37, 85,  0, 15, 46,\n",
       "        97, 12, 93, 59, 53, 14, 62, 42, 49,  6, 41, 21, 52, 43, 78, 98,  1, 13,\n",
       "        75, 19, 29, 38,  3, 83, 86, 11, 10, 89, 77, 60, 56, 65, 39,  8, 45, 73,\n",
       "         2, 96, 48, 31, 95, 70, 27, 84, 82, 47, 28,  4, 74, 34, 68, 17, 22, 99,\n",
       "        23, 64, 25,  7, 35, 63, 90, 26, 16, 80])"
      ]
     },
     "execution_count": 11,
     "metadata": {},
     "output_type": "execute_result"
    }
   ],
   "source": [
    "torch.randperm(100)"
   ]
  }
 ],
 "metadata": {
  "kernelspec": {
   "display_name": "Python 3 (ipykernel)",
   "language": "python",
   "name": "python3"
  },
  "language_info": {
   "codemirror_mode": {
    "name": "ipython",
    "version": 3
   },
   "file_extension": ".py",
   "mimetype": "text/x-python",
   "name": "python",
   "nbconvert_exporter": "python",
   "pygments_lexer": "ipython3",
   "version": "3.11.11"
  }
 },
 "nbformat": 4,
 "nbformat_minor": 5
}
