{
 "cells": [
  {
   "cell_type": "markdown",
   "id": "263a750a-808f-4c9c-af75-eac7febd4981",
   "metadata": {},
   "source": [
    "# Training Neural Networks to Emulate Audio Effects\n",
    "\n",
    "I'm gearing up to start a new job at an AI lab, working on RL systems, and I want to do a bit of hands-on NN work to gear up.\n",
    "\n",
    "Let's figure out how to train a model to emulate various audio effects, like distortion units or reverbs or whatever. For boilerplate stuff like loading audio data, I'll write a type signature and comment and have Claude fill out the details.\n",
    "\n",
    "I haven't read any literature on how to do stuff like this, so I'll probably do some stupid stuff here, call things by the wrong name, etc., but I find it's often more educational to go in blind sometimes. \n",
    "\n",
    "I figure an architecture that might work pretty well is to have the previous `m` input samples, $[i_n, i_{n+1}, ..., i_{n+m-1}, i_{n+m}]$, and the previous `m-1` output samples, $[o_n, o_{n+1}, ..., o_{n+m-1}]$, and train the network to generate the next output sample, $o_{n+m}$\n",
    "\n",
    "```\n",
    "                     .-------.\n",
    "[m prev inputs]----->|  The  |\n",
    "[m-1 prev outputs]-->| Model |-->[next output]\n",
    "                     '-------'\n",
    "```\n",
    "\n",
    "This architecture seems good to me because:\n",
    "\n",
    "1. It's easy to generate examples of input data\n",
    "2. It gives the model enough context to (theoretically) recover information like \"what is the current phase of this oscillator\"\n",
    "\n",
    "\n",
    "As for how to actually represent the audio, some initial thoughts:\n",
    "\n",
    "1. You could just pass in and extract straight up $[-1,1]$ float audio into/out of the model.\n",
    "   1. The model will have to grow hardware to implement a threshold detector ADC or something, which seems kind of wasteful\n",
    "   2. This fails to accurately capture entropy density in human audio perception. A signal with peak amplitude 0.01 is often just as clear to humans as a signal with peak amplitude 1.0. Which brings us to a possible improvement\n",
    "2. Pre- and post-process the audio with some sort of compander, like a $\\mu$-law\n",
    "   1. This will probably help the model maintain perceptual accuracy across wide volume ranges\n",
    "3. Encode a binary representation of the audio. This feels to me like it will probably be difficult for the model to reason about.\n",
    "4. Use some sort of one-hot encoding for the amplitude, probably in combination with a companding algorithm. This might be too expensive on the input side (since we have a lot of inputs), but could work well on the output side. We could have 256 different outputs for 8-bit audio, for example.\n",
    "   1. We could also possibly allow the network to output a continuous \"residual\" value for adding additional accuracy on top of the one-hot value.\n",
    "  \n",
    "For now, let's just try the first thing and see how it goes. I expect it will work OK for well-normalized (loud) audio and poorly for quiet audio.\n",
    "\n",
    "As for our loss function: probably some sort of perceptual similarity metric would be best, followe by a super simple perceptual-ish metric like squared error in $\\mu$-law space. However, to start with, let's just do linear mean squared error."
   ]
  },
  {
   "cell_type": "markdown",
   "id": "c4a8cb6e-486e-43a0-9935-4c501337382f",
   "metadata": {},
   "source": [
    "First up, I need a bunch of training data. I took a bunch of songs from my music library and put them in the `examples` folder. (I'm old enought that I have about 75GB of local music files.) \n",
    "\n",
    "When we want to train a new effect, we'll have a bunch of training runs of the form:\n",
    "\n",
    "1. Pick a bunch of random song slices from the library\n",
    "2. Feed the song slices through the reference implementation of the effect (could be software or hardware)\n",
    "3. Train the model to predict the next sample of the effect across all I/O examples in the batch"
   ]
  },
  {
   "cell_type": "code",
   "execution_count": 1,
   "id": "08e73757-ce9d-47a5-b8e7-c416baae255a",
   "metadata": {},
   "outputs": [],
   "source": [
    "import os\n",
    "import numpy as np\n",
    "import torchaudio\n",
    "import random\n",
    "from pathlib import Path\n",
    "from typing import List, Tuple\n",
    "\n",
    "# Mostly courtesy of Claude\n",
    "\n",
    "def list_audio_files(examples_dir: str = \"examples\") -> List[str]:\n",
    "    \"\"\"\n",
    "    List all audio files in the examples directory.\n",
    "    \"\"\"\n",
    "    # m4a doesn't work for some reason\n",
    "    audio_extensions = {'.mp3','.wav', '.flac', '.aac', '.ogg', '.mp4'}\n",
    "    audio_files = []\n",
    "    \n",
    "    examples_path = Path(examples_dir)\n",
    "    if not examples_path.exists():\n",
    "        raise FileNotFoundError(f\"Examples directory '{examples_dir}' not found\")\n",
    "    \n",
    "    for file_path in examples_path.rglob('*'):\n",
    "        if file_path.is_file() and file_path.suffix.lower() in audio_extensions:\n",
    "            audio_files.append(str(file_path))\n",
    "    \n",
    "    return sorted(audio_files)\n",
    "\n",
    "def read_audio_normalized(file_path: str) -> np.ndarray:\n",
    "    \"\"\"\n",
    "    Read an audio file, convert to mono, and normalize so peak absolute value is 1.0.\n",
    "    \"\"\"\n",
    "    # Load audio using torchaudio (handles many formats)\n",
    "    try:\n",
    "        waveform, sample_rate = torchaudio.load(file_path)\n",
    "        \n",
    "        # Convert to numpy float32\n",
    "        audio = waveform.numpy().astype(np.float32)\n",
    "        \n",
    "        # Convert to mono by averaging channels if stereo/multi-channel\n",
    "        if audio.shape[0] > 1:\n",
    "            audio = np.mean(audio, axis=0)\n",
    "        else:\n",
    "            audio = audio.squeeze(0)\n",
    "        \n",
    "        # Normalize to peak amplitude of 1.0\n",
    "        peak = np.max(np.abs(audio))\n",
    "        if peak > 0:  # Avoid division by zero for silent audio\n",
    "            audio = audio / peak\n",
    "            \n",
    "        return audio\n",
    "        \n",
    "    except Exception as e:\n",
    "        raise RuntimeError(f\"Failed to load audio file '{file_path}': {str(e)}\")"
   ]
  },
  {
   "cell_type": "markdown",
   "id": "3056538a-a779-42bf-b9ec-d16581055df0",
   "metadata": {},
   "source": [
    "OK, now let's write some code to generate input/output data for training the network.\n",
    "\n",
    "Our input tensor will be of shape `(batch size, m input samples + m-1 output samples)` and our output tensor will\n",
    "be of shape `(batch size, 1)`."
   ]
  },
  {
   "cell_type": "code",
   "execution_count": 2,
   "id": "96ab8760-943c-4714-b133-689acefa5b7c",
   "metadata": {},
   "outputs": [],
   "source": [
    "# Mostly courtesy of Claude\n",
    "\n",
    "def generate_audio_pairs(audio_effect, file_count: int = 64) -> List[Tuple[np.ndarray, np.ndarray]]:\n",
    "    \"\"\"\n",
    "    Read in random audio files from examples directory and apply the effect to them,\n",
    "    creating pairs of (dry, wet) audio for training.\n",
    "\n",
    "    Args:\n",
    "        audio_effect: Function which takes in clean audio (f32 mono array) and outputs a\n",
    "            processed array of the same size\n",
    "        file_count: How many files to read and process\n",
    "\n",
    "    Returns:\n",
    "        List of (dry_audio, wet_audio) pairs as numpy arrays\n",
    "        \n",
    "    Raises:\n",
    "        ValueError: If not enough audio files are available\n",
    "        RuntimeError: If audio processing fails\n",
    "    \"\"\"\n",
    "    audio_files = list_audio_files()\n",
    "    \n",
    "    if len(audio_files) < file_count:\n",
    "        raise ValueError(f\"Not enough audio files: found {len(audio_files)}, need {file_count}\")\n",
    "    \n",
    "    # Sample random files without replacement\n",
    "    selected_files = random.sample(audio_files, file_count)\n",
    "    \n",
    "    audio_pairs = []\n",
    "    failed_files = []\n",
    "    \n",
    "    for file_path in selected_files:\n",
    "        try:\n",
    "            # Read and normalize the dry audio\n",
    "            dry_audio = read_audio_normalized(file_path)\n",
    "            \n",
    "            # Apply the effect to get wet audio\n",
    "            wet_audio = audio_effect(dry_audio)\n",
    "            \n",
    "            # Validate that effect preserved array shape\n",
    "            if wet_audio.shape != dry_audio.shape:\n",
    "                raise RuntimeError(f\"Audio effect changed shape: {dry_audio.shape} -> {wet_audio.shape}\")\n",
    "            \n",
    "            audio_pairs.append((dry_audio, wet_audio))\n",
    "            \n",
    "        except Exception as e:\n",
    "            failed_files.append((file_path, str(e)))\n",
    "            print(f\"Warning: Failed to process {file_path}: {e}\")\n",
    "    \n",
    "    if failed_files and len(audio_pairs) == 0:\n",
    "        raise RuntimeError(f\"All audio files failed to process: {failed_files}\")\n",
    "    \n",
    "    print(f\"Successfully processed {len(audio_pairs)} audio files ({len(failed_files)} failed)\")\n",
    "    return audio_pairs\n",
    "\n",
    "def generate_slices_from_pairs(audio_pairs: List[Tuple[np.ndarray, np.ndarray]],\n",
    "                               context_window: int,\n",
    "                               slices_per_pair: int\n",
    "                               ) -> Tuple[np.ndarray, np.ndarray]:\n",
    "    \"\"\"\n",
    "    Given reference input/output dry/wet audio pairs,\n",
    "    create numpy arrays suitable for training the neural network.\n",
    "    Will generate randomly-selected slices from each audio pair.\n",
    "\n",
    "    Args:\n",
    "        audio_pairs: A list of (dry,wet) mono audio arrays (entire processed songs)\n",
    "        context_window: The number of historical input samples the neural network gets\n",
    "        slices_per_pair: The number of example slices we want for each input/output pair\n",
    "\n",
    "    Returns:\n",
    "        Tuple of (input_features, target_outputs):\n",
    "        - input_features: f32 array of shape (total_slices, context_window * 2 - 1)\n",
    "            Each row contains `context_window` input samples concatenated with \n",
    "            `context_window - 1` previous output samples\n",
    "        - target_outputs: f32 array of shape (total_slices, 1)\n",
    "            The next output sample corresponding to each input block\n",
    "            \n",
    "    Raises:\n",
    "        ValueError: If audio pairs are too short for the context window\n",
    "    \"\"\"\n",
    "    if not audio_pairs:\n",
    "        raise ValueError(\"No audio pairs provided\")\n",
    "    \n",
    "    total_slices = len(audio_pairs) * slices_per_pair\n",
    "    feature_size = context_window * 2 - 1\n",
    "    \n",
    "    # Pre-allocate output arrays\n",
    "    input_features = np.zeros((total_slices, feature_size), dtype=np.float32)\n",
    "    target_outputs = np.zeros((total_slices, 1), dtype=np.float32)\n",
    "    \n",
    "    slice_idx = 0\n",
    "    \n",
    "    for dry_audio, wet_audio in audio_pairs:\n",
    "        # Check minimum length requirement\n",
    "        min_length = context_window * 2  # Need context_window for input + context_window for output history + 1 for target\n",
    "        if len(dry_audio) < min_length:\n",
    "            print(f\"Warning: Audio pair too short ({len(dry_audio)} samples), need at least {min_length}. Skipping.\")\n",
    "            continue\n",
    "            \n",
    "        # Generate random slice positions for this pair\n",
    "        # Valid range: from context_window to len-1 (need context_window previous samples)\n",
    "        max_start = len(dry_audio) - context_window\n",
    "        slice_positions = np.random.randint(context_window, max_start + 1, size=slices_per_pair)\n",
    "        \n",
    "        for pos in slice_positions:\n",
    "            # Extract input context: previous context_window input samples\n",
    "            input_context = dry_audio[pos - context_window:pos]\n",
    "            \n",
    "            # Extract output context: previous context_window-1 output samples  \n",
    "            output_context = wet_audio[pos - context_window:pos - 1]\n",
    "            \n",
    "            # Combine input and output contexts\n",
    "            input_features[slice_idx] = np.concatenate([input_context, output_context])\n",
    "            \n",
    "            # Target is the next output sample\n",
    "            target_outputs[slice_idx, 0] = wet_audio[pos]\n",
    "            \n",
    "            slice_idx += 1\n",
    "    \n",
    "    # Trim arrays if some pairs were skipped\n",
    "    if slice_idx < total_slices:\n",
    "        input_features = input_features[:slice_idx]\n",
    "        target_outputs = target_outputs[:slice_idx]\n",
    "        print(f\"Generated {slice_idx} slices (some audio pairs were too short)\")\n",
    "    else:\n",
    "        print(f\"Generated {slice_idx} slices from {len(audio_pairs)} audio pairs\")\n",
    "    \n",
    "    return input_features, target_outputs"
   ]
  },
  {
   "cell_type": "markdown",
   "id": "e30d7846-e051-4d54-9e10-53212669ef8c",
   "metadata": {},
   "source": [
    "Let's try this with a \"passthrough\" audio effect that does nothing."
   ]
  },
  {
   "cell_type": "code",
   "execution_count": 3,
   "id": "f02b6e12-2c77-45eb-9a0d-1362c546bc8c",
   "metadata": {},
   "outputs": [],
   "source": [
    "from IPython.display import clear_output\n",
    "\n",
    "context_window = 128\n",
    "slices_per_pair = 1024*8\n",
    "file_count = 128\n",
    "\n",
    "effect = lambda x : x # Do nothing to the audio\n",
    "passthru_data = \\\n",
    "    generate_slices_from_pairs(generate_audio_pairs(effect, \n",
    "                                                    file_count = file_count),\n",
    "                               context_window, \n",
    "                               slices_per_pair)\n",
    "\n",
    "# We get a bunch of spam about our loader seeing issues in certain files. Not important\n",
    "clear_output()"
   ]
  },
  {
   "cell_type": "markdown",
   "id": "799b5bb0-bdd1-410f-ad38-999fd7ef9cbb",
   "metadata": {},
   "source": [
    "Let's define a model with an input layer, 5 middle layers, and an output layer that maps down to a scalar. ReLU between layers."
   ]
  },
  {
   "cell_type": "code",
   "execution_count": 4,
   "id": "26a7d6b8-fb07-4570-a37b-e04f41a6f666",
   "metadata": {},
   "outputs": [],
   "source": [
    "import torch\n",
    "import matplotlib.pyplot as plt\n",
    "\n",
    "# Each inner layer is this wide\n",
    "inner_layer_size = 256\n",
    "num_inner_layers = 5\n",
    "\n",
    "class Model:\n",
    "    def __init__(self, input_layer, input_biases, inner_layers, inner_biases, output_layer, output_bias, device):\n",
    "        self.input_layer, self.input_biases, self.inner_layers, self.inner_biases, self.output_layer, self.output_bias = \\\n",
    "            input_layer, input_biases, inner_layers, inner_biases, output_layer, output_bias\n",
    "        self.device = device\n",
    "    def eval(self, inputs):\n",
    "        # Run the model forward\n",
    "        vec = torch.nn.functional.relu(inputs @ self.input_layer + self.input_biases)\n",
    "        for i,layer in enumerate(self.inner_layers):\n",
    "            bias = self.inner_biases[i]\n",
    "            vec = torch.nn.functional.relu(vec @ layer + bias)\n",
    "        vec = vec @ self.output_layer + self.output_bias\n",
    "        return vec\n",
    "    # Run the model on CPU audio\n",
    "    # This is janky; in production, I would send an N-sample buffer of input audio to the GPU\n",
    "    # and do the model evaluation there, instead of going back-and-forth on every sample.\n",
    "    # Or just run the model entirely on CPU with appropriate acceleration instructions\n",
    "    def apply_to_audio(self, audio):\n",
    "        inputs = np.zeros(context_window).astype('float32')\n",
    "        prev_outs = np.zeros(context_window - 1).astype('float32')\n",
    "        outputs = np.zeros(audio.shape).astype('float32')\n",
    "        for i,sample in enumerate(audio):\n",
    "            # Shift on the new input sample\n",
    "            inputs[:-1] = inputs[1:]\n",
    "            inputs[-1] = sample\n",
    "            model_input = np.concatenate([inputs, prev_outs])\n",
    "            with torch.no_grad():\n",
    "                output = self.eval(torch.from_numpy(model_input).to(self.device)).item()\n",
    "            # Shift on the new output sample (which we just generated)\n",
    "            prev_outs[:-1] = prev_outs[1:]\n",
    "            prev_outs[-1] = output\n",
    "\n",
    "            # Save the output\n",
    "            outputs[i] = output\n",
    "            # print(model_input)\n",
    "        return outputs"
   ]
  },
  {
   "cell_type": "markdown",
   "id": "be71615f-5b04-47ad-8377-4808135e6ec8",
   "metadata": {},
   "source": [
    "Now for training.\n",
    "\n",
    "An issue I ran into during initial training runs: if you pick a bunch of gaussian initial weights, and each layer is a ReLU, you get a bunch of paths through the network where the expected \"gain\" is extremely large, probably on the order of something like `sqrt(width)^depth` if I had to guess, resulting in insanely large outputs that take forever to train away (at least with the Adam optimizer). As a hack, I just normalized the weights by `1/sqrt(width)`, which made the training converge quite quickly without having to tamp down excessive outputs."
   ]
  },
  {
   "cell_type": "code",
   "execution_count": 5,
   "id": "2a5c453d-e109-47d0-9eac-9e050f2fead0",
   "metadata": {},
   "outputs": [],
   "source": [
    "batch_size = 1024*16\n",
    "\n",
    "weight_norm = 1.0/np.sqrt(inner_layer_size)\n",
    "\n",
    "def train(examples):\n",
    "    if torch.backends.mps.is_available():\n",
    "        device = torch.device(\"mps\")\n",
    "        print(\"Using MPS (GPU) device\")\n",
    "    elif torch.cuda.is_available():\n",
    "        device = torch.device(\"cuda\")\n",
    "        print(\"Using CUDA device\")\n",
    "    else:\n",
    "        device = torch.device(\"cpu\")\n",
    "        print(\"Using CPU device\")\n",
    "    training_losses = []\n",
    "    validation_losses = []\n",
    "    inputs, outputs = examples\n",
    "    inputs, outputs = torch.tensor(inputs).to(device), torch.tensor(outputs).to(device)\n",
    "    validation_inputs, inputs = inputs[:1000], inputs[1000:]\n",
    "    validation_outputs, outputs = outputs[:1000], outputs[1000:]\n",
    "    # Input layer maps from the input context to our inner layers\n",
    "    input_layer = (torch.randn((context_window * 2 - 1, inner_layer_size),device=device) * weight_norm).requires_grad_()\n",
    "    input_biases = (torch.randn(inner_layer_size, device=device) * weight_norm).requires_grad_()\n",
    "    # Inner layers do whatever\n",
    "    inner_layers = [(torch.randn((inner_layer_size, inner_layer_size), device=device) * weight_norm).requires_grad_() for _ in range(num_inner_layers)]\n",
    "    inner_biases = [(torch.randn(inner_layer_size, device=device) * weight_norm).requires_grad_() for _ in range(num_inner_layers)]\n",
    "    # Maps from our last layer to the next audio output value\n",
    "    output_layer = (torch.randn((inner_layer_size, 1), device=device) * weight_norm).requires_grad_()\n",
    "    output_bias = (torch.randn(1, device=device) * weight_norm).requires_grad_()\n",
    "    model = Model(input_layer, input_biases, inner_layers, inner_biases, output_layer, output_bias, device)\n",
    "    # Automatically adjusts learning rate for each param, uses momentum, etc.\n",
    "    optimizer = torch.optim.Adam([input_layer, input_biases] + inner_layers + inner_biases + [output_layer, output_bias], lr=0.001)\n",
    "    # Run a bunch of optimization steps\n",
    "    for epoch in range(100):\n",
    "        # Shuffle the training inputs\n",
    "        num_training_samps, _ = inputs.shape\n",
    "        epoch_indices = torch.randperm(num_training_samps)\n",
    "        inputs = inputs[epoch_indices]\n",
    "        outputs = outputs[epoch_indices]\n",
    "\n",
    "        # Run a bunch of batches\n",
    "        epoch_training_losses = []\n",
    "        num_batches = num_training_samps//batch_size\n",
    "        for batch in range(num_batches):\n",
    "            #print(f\"batch {batch}/{num_batches}\")\n",
    "            batch_inputs = inputs[batch_size * batch : batch_size * (batch + 1)]\n",
    "            batch_outputs = outputs[batch_size * batch : batch_size * (batch + 1)]\n",
    "            # for inputs, outputs in \n",
    "            # Reset the gradients on each leaf node\n",
    "            optimizer.zero_grad()\n",
    "            # Run the model forward\n",
    "            vec = model.eval(batch_inputs)\n",
    "            error = vec - batch_outputs\n",
    "            loss = (error ** 2).mean()\n",
    "            loss.backward()\n",
    "            epoch_training_losses.append(loss.cpu().item())\n",
    "\n",
    "        # Record the average training loss\n",
    "        training_losses.append(np.mean(epoch_training_losses))\n",
    "\n",
    "        # Calculate the validation lass\n",
    "        with torch.no_grad():\n",
    "            vec = model.eval(validation_inputs)\n",
    "            error = vec - validation_outputs\n",
    "            loss = (error ** 2).mean()\n",
    "            validation_losses.append(loss.cpu().item())\n",
    "\n",
    "        # Update the loss graph\n",
    "        if True:\n",
    "            clear_output(wait=True)\n",
    "            plt.plot(training_losses, 'g')\n",
    "            plt.plot(validation_losses, 'r')\n",
    "            plt.yscale('log')\n",
    "            plt.show()\n",
    "            \n",
    "        # Let the optimizer adjust the params\n",
    "        # Conceptually it's basically doing param -= param.grad * 0.01 for each param\n",
    "        # But it's doing stuff with momentum, normalization, etc. to make it converge faster\n",
    "        optimizer.step()\n",
    "    return model"
   ]
  },
  {
   "cell_type": "markdown",
   "id": "caa4827d-333b-4ee0-be37-57f85152ff07",
   "metadata": {},
   "source": [
    "We'll train the model on our \"does nothing\" effect."
   ]
  },
  {
   "cell_type": "code",
   "execution_count": 6,
   "id": "90c13f15-56f6-4bb4-bc2d-502d1774d82c",
   "metadata": {
    "scrolled": true
   },
   "outputs": [
    {
     "data": {
      "image/png": "[encoded data removed]",
      "text/plain": [
       "<Figure size 640x480 with 1 Axes>"
      ]
     },
     "metadata": {},
     "output_type": "display_data"
    }
   ],
   "source": [
    "model = train(passthru_data)"
   ]
  },
  {
   "cell_type": "markdown",
   "id": "38835546-f5da-46fa-8632-03af0863f0ed",
   "metadata": {},
   "source": [
    "That actually looks better than I expected with linear IO. On the order of 2% error on the validation data. Let's listen to it. First, a short clip from some validation data from Emancipator's *1993*."
   ]
  },
  {
   "cell_type": "code",
   "execution_count": 7,
   "id": "0403b9e5-ded9-4ca5-aaf6-780dda49767c",
   "metadata": {},
   "outputs": [
    {
     "data": {
      "text/html": [
       "\n",
       "                <audio  controls=\"controls\" >\n",
       "                    <source src=\"data:audio/wav;base64,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\" type=\"audio/wav\" />\n",
       "                    Your browser does not support the audio element.\n",
       "                </audio>\n",
       "              "
      ],
      "text/plain": [
       "<IPython.lib.display.Audio object>"
      ]
     },
     "execution_count": 7,
     "metadata": {},
     "output_type": "execute_result"
    }
   ],
   "source": [
    "from IPython.display import Audio\n",
    "import numpy as np\n",
    "\n",
    "audio = read_audio_normalized(\"validation/1993.wav\")[:10000]\n",
    "\n",
    "sample_rate = 44100\n",
    "Audio(audio, rate=sample_rate)"
   ]
  },
  {
   "cell_type": "markdown",
   "id": "bd3eaed4-d68e-4bbc-95e5-0f27a82f529e",
   "metadata": {},
   "source": [
    "Let's run it through the model."
   ]
  },
  {
   "cell_type": "code",
   "execution_count": 8,
   "id": "3a2766a7-edc7-4cc2-ad3c-ec6d8c817394",
   "metadata": {},
   "outputs": [
    {
     "data": {
      "text/html": [
       "\n",
       "                <audio  controls=\"controls\" >\n",
       "                    <source src=\"data:audio/wav;base64,UklGRkROAABXQVZFZm10IBAAAAABAAEARKwAAIhYAQACABAAZGF0YSBOAAB9A9cCOP/4+oz4dfm7+rn5o/kK/fX/CQE+AsQFaQkDDLUMzwvGCmUKxgkvCQ8JDwk1Cs0LEgz0C9UJLAfuBesFWAXIBAIF2wSFBp8K0Q7CD78QqRPzFDkRlA37DjsUvRZlFLQQ5g8+ET8RUQ95CwYJNQk/Cx4KZwa1ArIA3f8C/9/8zPsD/ET7Gvmu9Yjze/OZ8/vxdu1l6PPkVOU66Ynt8e+j8Ivx4/TZ+Vf8kvy9//UFaQmJCKcIzQ2fExYUHREtEAYS+hNgFEARhAykCm0MNA6YC20HPAfFCfgKmgoZC34MlQq7B64HQgqyCzgLpAvRDGYLFAmpCxsQbQ+/C9gKAw13DVcLWwm0CYYKywuBDasNVQuiC10OYg7CChcI4AixCLAGCAWABMMDPwLW/ir7Tvgb+TH73fvt+hn6/vli+In3UvkT/Kz8YfyM/W//rgAjA0MFaQVqAoMBbgIWAjYBwABS/5L96/1vAQMClP9r/Ff77vsL/T391fo49BTscOVi46vjq+E13lvcbd584YDhLt/P3BfbJdt/4OzmDOhC5s3mk+kQ6rXpvuq97qfxqPJY8mDyJ/Rg+Wj8aPyu+qz4Bvdm9iv3ffmg+lb3lPIW7pbrr+y27sTwgfO/9i/5sPnJ+Vn7yfzW/Kn84/yR/FL6RfgV+rf9IQDcAWADuQS3BMIEiQXuBCYEgQSoBVAGiQaEB9YIpQpzDD4Ncg2EDvcPXQ8AEKkTGxZzFIAS5RPwF+obkx3GHJ4bPhrJGT0ahRtsGRsVDhHJD5gRYxWIFXAQWQsbCngJ5gbcBZYEewG+/nL/BgDR/oD9TP1u/R8A1wPhAk/+cf0gALkF5Ax9EGUPNA0qDDIN9Qw6DJoNIRDYElwWBBmUGqIb2xtxHDEcXhtLGk8aBBitEpYNDwroBu0EbwLO/an2ee+T6sTk4+B53rTexOMe6i/raOh16HTr0OgD4LzZyNtZ5GfsAe8J7ZDpqOk/7uj1tfkY/SEBMwTlBQMHkgkJDaIPIQ3zCOIK3hQxH3cg7RuPGD0ZYRt0Hl8gCCCpHtQcSBgEFQsUExitHKwctBdeEugNxw+eEroSlg2pBYABGACQ/WT7ev2b/wP8TfZd80byWe4g5u3fON2v2tnZCt034OjaDtHZ0AHXMduW2SPUb8tMw2bFPdLh5NrvzuoI4JLZAt5P55DvV/eQ+WX1BfK69ZgBAxCLFAoMUP6b+KP9ywXECrcMtAxpEAcUEhdMF9wP3AcrA1QBtAWDDzUWCBbGD2wGJgO3A5gB//0mAdQGUgPj+pX4awOlCRv/RO5D6B3t+fGh957/jP2y75Lg0t3Q6Gn4Kf8c/r4ARgbWBav/RvmG9FP0Q/cE/SwOix+tKEIt9S8EMhU2wDfpMUQoKyKoHAIaJhwxILAi8iZ8L/8zTS+9KDch3RTqBRMAz/1E94/xZvR8+Mj4ZPQt7izmEuOv4ZTgFt0a10PTldlM4H7iAOm07u7pXeI43vDhfuv+78znIN8A4r3nw+gK53LqKu//617prurY617qvu2Q9cX+1AAs+m34RgC2C3IRGxGGD5wLmAT2ACUGLQttCGEDegOtB7kKnQtiEyog6ietIaQVUxItE7cW0xsXJrI0FUC0PTA2vTQONtU0ZC5OKFMlMyS8J90sNyq6IFkWHxbZHckhjhxMGJYcUx5qGu8Wfhr9IgUiyRf/Dm8Rjh14I8MY7AkUCHER1xU5ExULxQAW+Zz2kfZr92/69vaL7tno+d7X1W3PssxAybe/yrxCwiTELrp1rdaql66xrkmrgaVYqKG4e8Yny4PMK9IY1unZBt9h5ObpB+2r9IH+WQcZDPYKHQhECKEOsRLdEZMTxhq6IAYh5RgGDvgLlxL8G1IakRVPGEoh6SKhGGIMYgvKFiAmKCifICsaQRxLJQUtqy2UJoAfPiWoLNoo4R6nHZEnGjCOLYgm4ijfLxUvXiY/H54gNCRhG2gHE/fE+lYEYgcTAjn5Nvk3/nkF1AH78nXuWfUk/e76mPPJ8LrubfAs9lr82QHEAMMAMwECAj8GkAqZC2cKuQvtC+4ISwQZBKgGkAQkAZn9pPlX96j85gbfDjMOxgMO/I/9PwR/CsoJ9f+m/DIEdg9HFKIYnht8FQ4QOBXUG+kb8hn9GEIWbBKpErAPhQukCVcN7xOkEH4GRv/N+4r8+/v58SzmvOMA5sDo8OYi3cPdkuK43FrNOcYDzSrWCNIVy4bC1b2nvrbBWMHPvbC5Gbvqv+3AEb3cuqm9WMR+ytHNWtHE1Q/WpNCX0fPWEODr5gLl+uMb6oPsieN02FXcEeXs5dTkBOPM48zo0PB6+kr+o/uV+a/8agNWBez/8P18BkYP4Ay1CBMLqg5PCoIFeAShBlYGTQGC+EPvhepc7K7t9OnI5HPfluFx5VrkBt2T2DjbI92x3cnj/+iM7Ub2Zf2F/04DogjMCDoHxQkmFCYhvyaVJ4ArHzLAOVs+kEH2SK1LkUf5Rz5NSVApTmRE3ThMN5Y9+T/5OOoxHy15JaIjwCo3L8IqayYlKRso/B5cFqUXXSN6KEgafAdxAlELdhQ/DyD/Qv1UDNEXfROMFGMbth8IH08ZohHtFW8hMisNLG0vxzk7Qy5Ezz+PQG1IilFaUBlP21D1UF1NoEzbTu1OYky1S3xL9EwIUARQvEWZPrlA4T4kOMw2XjapLOwfMx40Jk4lEROSAI8Akgn3CEr/2ftfAEQBWgGRAUb9gfXs8sDzvveh/A0AoPrL8DbouebV62bzYvqC+b7zrvIO+dX9hvxb+9H+9fvk8ZPq7uu+8T30qO8S69vpX+Fo1xfXMtmX18HVWdVW0nTM/Mg7xiXD4sBuwOm/jLxGuZi3ObtFvRK4JrBjrOuqxatkrRewgq/EroqtbK78pXKbopqOqIW2T7E5ocefVaYHq1asy6oeqkWrdqdWo42kRKddqcqmcKSapQeoVa3ut4nBy8TxwqC8Ube9uprCdsgqz8jUY9LuzdvJeMt3zrvRT9Vk3HriceTr4ufituOU5Inni+il41rjCOr36w3k4t6k5YftWOTD05LTqeGB6tTpvuT34Q7iUuZK7aHvSe+P9CD8RvzF+Bf+4gb+DU0SSRXTF+cbPx1gGi8cxCnnO/0/zjaiMXk8y07IVphUoE1DTdxawWT+YpFbJVrmY/xnZWLIYwlt8W6aZkJlqXBadsttc2WZZs5ssXK6ebZ9an0peG5263RMbxZuCXJUdE1wbmZQZbVrbm+0aXFgwV+PZB9nIWKZWglYU1qKYMxhvWBoYRZg/lizUdZOHE6mTJxMLkpRQAozaTHJNmUwlyFRG74cLR5JHIwe5iDGH60cmBbpEI0QERUKFUgOtgiQCpUITgGr+jP8Uf/R/of8p/hv98z6l/5OA/gF3QRO/nz6N/4gBYQEXfyX/JQHRw+YC9wAAPw6Ab8Drv+c+b/31P3XATj/OfTp7+rvGPCf7jXtwudi4Pve+N/33uXb8dzW3krc/tee1n7XC9Wbzz3L4sqEzJrNhMyfyQXHisrO0B3QfMpDx/XJ5c1by6vH3cgqygfCGLlotTq0c7Hyrf2sJ62prWSnep5SmoKd1qMppUqfnZillxubJaC0oIeWBo1kjXuSlpZymbSbUp5tn1CgEaagruyxPK8zrM+wILn6wDTEn8FPuhm367tlxcHL5svXyWPIg8fAx9nJ8c5h0STSTNSi1w/bVN6n3vffPuc+81r3EfBo6oDsuvIK91b45fly/Cr9vACKBUgF/QHkAgAHlAhvBWIEDgmbEnQb2Ry1Gi4d9CC5IIAdlh+TKOEyEzfGM1kxCzS2OeQ6DzjkOLI7oz/HQq5B+z14QehLaFSxUp5KbUZGSfpN31I1U1FO0EpAS9NNnE/yUFFPZko9R8tM3lIrUNdI90S9RJdFgUdrSbVK30tNTgRSMFMYUpFRIVOnVflWh1WmUYlQBlNXVY9TkUw7R4FHG01/UDRLCkHmPKRBLEOsPa46BT7bQFw9uzaXL7UqOCjIJ38pZyzGK9gmpiQ7JwgqeSrlK8MtEyz3J8EnHCm5Kk4tNC3+K7Yv9jC3J+Acgh19JKQkKRyJFGcUgxXNEE4IBAQuA4n/+PlV9QrySOs25GrfstxF2+bafd9m5RDjFd3Q2a/XW9XX00zUzNbe2C/Xv9JK0fLXOuBw3qnX09dY2wrbTdxj4ljlwd8B1+TWad7u4DLaB9Wa2NHd0d2m3Ozdst/D39bfsODH5V3vo/bA9Ojts+lq6RPoP+mD7mzyGu0h47rghOih73TslOWm4XXfu95P4Lbjut+N05zJ28sY0MjKb8PnwRDBDr5vt3OwUa3qrmGwY61kqVKotqo2raitpq6csfKySLNCtW253brsvDi+JL9TvdO9zcEQxZ/D5sHGwtjD08IIwu3DzcbGx1jKcs8z1YTZ+NjA0hvU+9wz5H3lX+VI5ifocPBn+hD8zvSU8sr57QR+CrYKwQyuEOASChJ0EbEUlRwJIhse/BhoFmIZQx4GH1obxxyXIl0irBvuGzkk5ys+LEonkCR2JJEqlzXzOQYymytYMRM+qEYRRK0+tD9hRa9IYUjnR0hJF0scSQBDL0CvQRdDXUAWOow37ji5OK04JTjCNh03SzctMuQqpSktLsIxai6dKGsnDCjeKHgr4Sw5KBQluSrcMmwvJSfMIsEnmi9ALm0n4CSpJOch9xq2FLkVLRijFGINKAvPDMILZAeTAYj+P/48/QL7w/pt/cD9w/yH9/jzH/dL+3P7RPol/lIEAQfeBY8DGQTBB/AIOwYOBqsKFw/MDzoQzxMQGC0ZXBh7GJEabRx0HKYbERuAG4cbUxsTGD4VRRMcE4oSHxFUEX8TWhOPEXYRnxA5DX0LsAlHCZgL4gvOCZQFXgHO/5b+Ifwv+176IPiq9JHx6/DX7hPrnOn96Mzjmd6O4WnmoOQ62lzVo9cH2gbZFNsY2/7WHNML1Izaid834IjfUN6I2n/Yc9wc5ALprOga6brtKvHZ8Dju4+tz6hvs8+2t74nujus251Dk4uMG5WDjkt3n1xbWUNfH1wLVmNBIyYvD0sQSyRDJbccJxmPGbMsA07PWF9SE0J/S/dkE4pvloeZU7KDxcO/X7O/0JP+7ArD/tPtD/LL9xfzX/lMC4AH3/xf8h/dF9kP6Uv+1/qf4s/a5+UD6YvkA+zP9n/00/Kv8PAA9At4BDAPVBDcFMAZqCfoIcwbbBFsLvhWPGBIUVhH4FJwajB0WIPkhpiFPILQhrSXCI2sdRR0xI5clciRRJbkmJydHJScgzxy7IKsnwCr6KAQpUi9hMyEyTi+0LZ8tqi3uKsMnvCfBKEgp6idaJdchHh8+Hj0dhhgNFNsT0hMoEvcO6g2bD3AQWA4JChEFTACU/nAA2gJ2AY/9Nfhy9EH0VvU/9qv4CftD+xT6X/ol/aMBwQPeALUBqQe9CaAG7AS3BtYGlgM7Ad8Af/9+++/3UvYh9WX0KPQ+9fv24/Xd88v0vfd9+YX7Hv+H/0/6jvTR8mnwg/CH9gn8l/wk+JnyifDh8PnyEfdp+bf45PRR8nrzSPSV8GbrDevq7A7rQOZJ5MTmMulJ50/pbO717znt3ujc5rjq9/CA9An5oP0B/jD8PP9IBxwM8g5XEbQRghMvFzkaNhzYGvoUbBAvELMQhxBQE8YW5hUzEvcNTAqvCS0NShJkEJwKHQfVBgQFRf+L+lX5Tft7/un9mPi+9Xz2evKa7Kfsl+8g8qjxHvPw9VX2Y/Nt8sj0dPfG+/H9AfpZ9enz4/EF8Fjv9u457+3uY+006xztve9p7efqeu+l9BLzAfGj9Eb8m/+B/7T+8/6s/w//7/58/bz9agAnAj0BMgCE/zT/Bf6B/HX8nPsN/R//L/9I/Nz3SfS988DzAfMc8NHrjejx59zpYewx60jqye1D8xLzpPDA82P8OgI+AykCCQQYB64IuQrFDV4QdxMnFNARvxFhFoQYyBHbCfUI1gu0CZsEaAJKAXX/tf25/C37g/ii+Iv7cv5c/Q73F/Jg80r1X/Kl78fzCPkz93fwze2g9ez8Iv6J/Bz8Mv5AAQMFiQjkCmAP6w6pCbEF2AU1BfUCdQFLAaT+OvzY/YYAlgHz/5D9YfxY/Hv/hwOGBKMChP+A/94AegHo/9H+yP9wAYQBaAM3CJQJnwVJA6ICiwHT/0AA+v/j/58ATwAz+yz3IPjs+HjzWvCG9XX7Ofio8PfuJ/Xa9nvxou0p8HTyM/Si9tf2VPSS80D3K/t+/fT+6f8zANH/YgKQB/AKwQwJDoQNiA2AD/wP1g99EAcT8BOYD1cJSwaLCI8MRAwHCSIJkQ0YDm4KbwqkCzYLiAxbEOcQig4XENUVShmVGAgVehSpFoEY9xgXG1whaCdiKO4mFCq3Lo4xoTAJMGYy4zPtMlMw0zCeNek2IjZiNoQ3gzbVMigwxy9ML4wuPS/zMA0wtSxRLKktfCy/I4YbBhx3Hkwd3xSACycHeAOx+0T0KfKh857zMvBe64znCuTU4LLdZ9pl2FHV+tLU0RHUddnN2HvTFNLF09zRXNDwz6XQqdLS10zdKuKE5gPqKexJ7jPyK/iG/3QENAoFECkPNwqYB6sI/ggpCRII/AZcBjsGDgM7/jL5fPXA9VH0Y/Dd7RvrQej05WbiK92V1+TVdNYZ1KHTbdh73PfZ4ded22Tf49+Y36Pjnur+70HxaPEI8mX0lPgH+i367/po+nz70/95AssFfgcxBT3/mfzP/WMAQAEZApYC8QOOCXIM6AkVCMEHDAjqCD0IMga7AwIDAgKq/7X/+/9K+mfxP+5t8WPyKe877VntkOlO5K3jz+Q+5RPnZuZ34b3eC+Ri6rjqO+X84TzjjOSU5e3lWOYf5q/nQuua76zxmfGu8w74vPyU/m//MgC0AgsGoAdpBQoA3/qy+1z/rAGY/xn9rvoj+pz4IPb/8rTxNPFa8l7xTPDP7/Dvl/DW8ETyK/PX8m3xJfOT+En8ifwd/0wDFAVuBKgFMwv0Ec4XRx4GIzsl8CUNJp0mmyhAK2QurC9+L6UxCTR7NPkzhTOlMsA0MDlNO6U5zTYmNss1wDaxOLk4GDbqN7U70DyqOmU3cTQjNwk8Qzt1NmI18jhWOE4yNi7iL0oxky8OLkouoyqwIT4aQRseIMUhcxy3Fv4VvRjlGAATkQ1KDrYQ8g6NDKYMKA7kDYMO/xDTExwVZRSsFEMYEh2sIMghPiPxJaQnGydNJu4m0iccKHImuSQHJSAmnSPEHOsU/Q2jCJsELQF9/Xj2Wewj4/ne991m2W3UrdMU1fXUmdIO0RTSg9HSzkvMvcu2zZvPONHH07PW/9h+2BPW19Ko0lfWJNsn3aXbTtvu3HneqN7y3hzdUNpo2A7Zb9lb2SjZmtic2FfY1thS2UDZR9mr3Pzg9uJ84wTlIub85UTlPudA65HtUexx6oPqwur76VXpb+jQ58Xmh+VQ49bfutya20zZRtQG093UItVB0hHOsssbyNXBbL80wknGu8n6zM3P6s3HyYvKTdHP14PbPd2134rgEt/43Jvahdoz3qfjv+UG5drj+OHv4fPi/eEP4Wzh/uA734vefuDa44PlYeQB5NXlvunC7zn11ffg+Db7zv7+AQUEBwTCBXgKhg5KD8IPyxKRF1kcTiCJIvoiViG1HmweMCE1IxwikR/gHG0a2hcSFVkSXBFMEaASjBJmEfwOpg6sEH0TVBSwEzEUlBbCFjgT7hDhEa4TRBQCFBwTIRLCEpIVTBghF6gTzxHIEgITahLUEWcR3w8NDyAPjw8mEigV8RR/FLkT6xMrFcsVQRfsGEYYhxfgGbgfliTeJkspOywEL/8xYDXhNvo2tjjdPO4/C0L7QvZCvUK8Q9RFIUU1QhtBBEHLPu059zbmNQ00jTCnKxUmSyDlGl8Y/RcCF24Tmw71CjMJSwhOB2kFngHX/bL8h/37/mX/2P7O/GD7y/y2AO0CXAO8A7YCPgDo/vn/KQGaAEP/nf1R/FH9+f0y/dn6q/ot/Er8WPqh+Ej5x/kL+bn44vl7+2D8zPto+x/76PpK+0z6tfhZ91v1Q/OT8RXwTe4D7BPqBOl05wTmjua853TnSOR/4DPdv9oZ2iTZDtdQ1BnSmM+5zLjL2swUzVHMqMwNzzLS2dRO1u/Y3tx94DvjMea56VntnvBC83P1i/lK/pUBGwQwBmwHAwjDCFEKRQ06EEcTphWTFjwX6BhBGtIbch7jH30ejhyHHTEg/SEEIbUfjSHnJMElYyMJIlgkkSYTJnAlRymNLoswLy+yLgExITQBNno29DYlORw7pjpZOb443Dg0OKo1fjKAMAstainwJiEmBCaqJhMoZCnMKlUr+Cg5Jeok0iW6JAIjuSPEIxIgxRsxGwodux2xHbgeeyHWJD4nsCdhJx8oQioNKrEmWyMlIlwhAyHOH/8cHBvEG2UcBRzOGyYbwxtfH5QjtyQ4JPgk2ibEJ/UnsinNLHovJzErM0016jaANwI3rjeiOGM44jcpN6Y15jLkL1ksuShEJUkhnRxoGKAUpg56B9kDxAPdAkX+/Pe38qTu3ekH5jHld+PJ3UrWoNKV0iTSvtAM0fbRmtKV0yvVoNb+1x/Zjdnn2NXXYtjV1+XRyMwCzKfM3ctiy3DLzMqXyErFMcJDwjvDSMMKxCrGNMi5yOrHEMZ0xDzFI8ctyIzHWcajxVfDEMBdvim9n7pvuPC2tbMDsO6tgK3orJyqZKfVo4GgJJ4rnFKbSZvqmNiTAY+8jMqLTYqQhjiCAYDhgESDJ4VchI+EQYeujD2TOZnXnMCefqGMpZuq9K8btUm3ALaEtuK8UsJTwEG81b0sxCfJTcnoyALLuc4I0vfTC9VL1g7XMdnd3EffEOFS5CvnTeg16Prox+q96kjpIuhL5+foHOz57h/uNOzB7Pnuue9q7+nvF/Kw8ybza/LG8pzzgPOW8sTwqPDS89D2IPaH80j02/hR/Mz7SPvZ/mQFYAkWCtcJxQxrET8TvRBuD/YQZxM9FSkVzBMgFIIX2xujHTYdDR4QIQsjbSJ9IrAjUyWuJisotycDJ9MoQiypLvQvnjE+M9g0UzVyNTw3SzoCPJY87j49Qg1EnUYESQ9KxUrlTMhRTVWEVX9VkVcoWpFam1kcWMZUe1G9TvRMvUlLRmhD+D4WOYYzDzGiLzwskSjIJ5YmWCJVG64VthImEWMOfwofCIUHuwbeBIoDdgPXBHMHtQpiDhETCxelG5UfOCG+IhglbCdkKTwqZyvfLVIwbTGtMWQzWjahN7U1QzQANXU2KzckN8o2TzcMN501TTOmMW4xuDBKLkgrainSKHAnpCWXJUUl/yMbInggJB8gHQsasxfDFskVmBTaEwkUThMAEd4Omw6+DS0KCQWLAID8Qvlg9eXwtu0k7Mrrsuu37A7vR/GB8ijypPK29E73y/gq+h/8jf1Q/90B7AWeCLcJjAliCdEJfApFCxUNWA//EA0RKg+eDX4Nuw0ADhQOtw5nEOsQrg4oDH8L/gssCx4KDgtRDfYNLg2WDI8NvA7aDoIPjhIFFikXRBboFTMWcRYXFT0T0RG8ECsPyQypCoYH3wOJAZIA9f9U/8n9+PvW+oj7ifyK/F37Jfu2+4b7Z/kH+M73gPeK9on1QfQy81jzN/Te9Lj0GfRZ8pzwH/Al8Ifva++A8KnwM++c7Ubt2uyg6rPnWOaV5vDl2eS25EzlUOV35KzjSuPt4sXijeNn5RHoiOsC7wry3fT99/f5avvt/DH+Pf8mASMDpQM3Avb/Q/7W/Kf6IfhZ9aXyye8n7ObnyeQe48bgJNwa1rDRus6jyynJtMZDwzLAur7rviq/xr7HvozAxsSKyWzMR83XzdzOR9GB1E7Xn9mZ2x3fLeJ/5DXm4OdR6mfuePJ39Jn0FfRN9GL1BPaz9vD3P/o7/bwAwQM+BuYGkgaHBhYH9wj1CsEKEQmvBgwFowQoBLcBVf5b+7z5A/mJ9z32mPZS92H2rvRn81fyaPD97JzpKOdj5SvjceGO4EThTOLD4QHhyuIr5m7peOtl7APtDO9F8kz2Vfqv/c7+rP6DANcDBgjZCxwO2g4aEBQSHBQ3FbcWSRfqF5EYnBnnGSMZNxdaFIESURLGEn4SixEkEVARPxFNEXURVxEdEDkPNw+sEEsSUxFDDr8LvAuKDYMPAxA+DxUOiA3RDB4N+w0iDhcONAyABykDrv+l+yH4J/Yw9TfzKfFw73DuHO7y7nDvoe8E78TuD/CC8TnyX/Lg8gzzRvMa8yXzVPSn9rn5kv1wAb8D7ANSBNIF3AeqCDIIWggsCjUMVg0iDtAOPhCfEjMUmxPGE4YUOhXMFcIWrhbFFU0TqRBlDqAMGAxqDPMN/Q4OD4kPvhGZFbQXyxY5FtEXmBr+HP4dHh5jHgQfmh72GgkY4RcWGQEasRkkGCsWOxV0FX4VSRSlEk4ReRBvDggMsQomCn4J8wgcCBMHDAbkBMMDWgPvA8QE8wUeBigGYgh/DFUQxhHoDxEOWxBOFNAWZhZzFUkWKBk2GpcY3RWgFEUV2BZTGDoZzRgFGBkYbhnJGtQbOh0LHtIdax35HGcdFh6eHvweCh5AHAcbERoSGYAYJxhiF5wVjhPFEfUQLhEOEXcPmwx0CfYGwQRWAWf9gfnR9or0u/KD8DvumO097sLu+O3x66HqsuoD7ATuSfDw8iH1dPfW+n3+xAKPBqcInQq8C3cMAA5OEREWTBogHUQgMCTQJhEn3yUsJf8layfaJkolbSQuJCYjlCDCHc0b0RqqGggb/BrHGU8XoBTbEv4RExG4D6gNvAzgDLoN8A5bD9IODw55DPIK/wlCCJsFxQMYAhgA3v6o/nv9jvlJ9a7zcfPd8iLydPG38QrzgvTp9PX0gvaR+Mn4Bfi19/b2wvQI8oTv8e1f7Urtb+0+7gHwx/Ga8hDylfC+72XwU/BD7qjrCulw5vviaeBo3zvfqd5M3TbcAduD2BPXB9bw1MrTVtGqzlXOG9DK0gzV39Tl0zHUA9ZG2HbY6NjK237eZt/G3vPdCd1g2y/ZKNYX01LQ7c1GzGTKC8hwxb/CWMDVvWW7I7qquO62BrYLtrG2RbhwuRe6ernEuQu9zMAwxM/IG83m0HjTOtax2uLft+Oy5lHpDexN71bx9PFM8jbylfKv83b0Z/MX8171s/ey+DX5/fm7+qb8bgBUBXkJuAvWDHgNCA0qDI8LcgorCWAIrAhLCZ0ISgcNBnAGyAevCSoKeQdwAzkBUAF3AT8ASP7t/Ff72/hr98X3qfja9zr18PHU75fuzO4J7yft9uiq5U7km+Oq4pXip+Qq6GLs5++/8oj1U/ks/3gFtgpYD4sSNxWdF7wbdB++IbEjsCU6J38oTCqvLdAx4DRFNZw0tDTMNt05YjyQPRk9TjxOO5o6WTq0OlI7iTu1Ovc5wjnyOPc3sDflN1k3+DXFNOQ0+jReNW82EjdtNS0yhC8ELv0sHCx2K5wpwic+JyonlCXoI3Yj+SQ2KMgqWys2K+8rRC1LLioubi6VLrouOC/eMBozBjVRNnc3cDi0OVA7YjxAPAI7/jlsOkI7DDxlPKc80Dt4Ovw4fTfqNZo0nDM+MfQtNCrOJXohEB54HIsbmBkhF4MVHhS+EiQSKBNfFO0UnBS5FIEV+RZAGIMYEhhZF6wWnBXzE/0ROA/zCzYJ9AbwA0IBjP/s/Ur7WveG8ynwMe2p6a3lLOIt36/b29dZ1MHR587vy0LJ/MaQxQrFYMU3xkHHVMhmyGvHxMbkx0TKosuZy2nLkcs+y6LJwserxuLF9MTcwpjAwb6ovXm8TbrUt8W1drQIs0uyybIEtfC2abfXtmC2erbktoC3FrgbueK58blFuc+4EbmduXC5o7j3uPa5errquj67w7uZvAK+S78ZwK2/mL6hvN+6Orq4uTW54bhkueG5FrqFuuK7i7z1vLm+DsJkxZfIfsxR0RLWidm+3MDgo+Ql6ADrg+3Y72jy4vRk9rj2dfdu+Yj8pv7l/hn+bf5QAMoCjQSLBREGTwYoBgEGdQY2B2cH3gfcCGYJUQj7BdgCVACi/mD9Wvzy+qj5M/h19v/zDPFO7+bvB/Ll83T0ovMH8uHvi+6v7tvuvO467sjrrOkk63jwZffh/Fb/5v4Z/1sGNhJXG6YcIhcVD0oIgAoqFfkgwSdNJxgi6B6SILQnzDJIPG07GDFFKiwuxD0eT2hVHFBhRxtGXUunT+xMwEWkPVI39TSXOKA8YDrXMkgreCd1JW8j1iJ6JJYlfCNCIv8iFiQ+JRsmlSeYKJ8o1idqKGIrkS6rLyku3CmLJFkifiDyGnQVSRMQE4kRjxA6EMsPKRGHEc4NYwc6A5oDIwmODQoQQw4xCqkH3QorD+UPgg7jC0MJyQnPCnYMWA8dESMSHRM2FN0UKBnWHcofgCAxHvwaNhhnFp8VShYBGEoZMhv0HJQbSRnlFbEVEBcJF/0W2BghGeAYwRkuG0Qa2xmWFowTrBGjDqAKAAfEBbkEaQG7/jT84fos+rb5YfiG9B7u2OVj38Xc0tsa3E3aC9aD0yPUxNdh2zbeJd3D2vrbuODF5lDtE/J69E/1N/e3+pb+hgGZAy0GJQtrEb0UCBXuFSEZEB1ZHlMeCR77HU4d5RzEHAIePR8UH18dUxtpGpIaxRpVHZ4eUx+/HjUfrx/oH6gg/SCIHzQcTxoQG60aBxdTE+MQRBGSERARLRFHFAYa2x57IR8imCDFHMUXVRQ9E4kTDxMcEnMTnRfBHMEfeB9sHmEfGyHBIt0juSQnJh0oliugLkUwBTE4MW0xATJWNKw3dzk2Ouw6DDxLPW09ozwcPXI/f0FkQc0+azvHN7E1RjXSNT81azO8L4sqPyT0Hg8ajBUCESIMNgfNAk//xft1+P71j/VX9uD3uvg7+Yn5QPtS/7UDeQevCQoKDAq2CfIIbgfwBSAFpwQzBI8DdwLwARECTAJVAk4B4v+c/cH6aPbf8vHwy+9t7Vzq6OeM58/oIOkE6Tbo0ubf5ZHmlOjR6tzrZeuF6gbrtew675DwIO/c603os+T74QvfrdxC2+zad9lf1dTQQ8wDyDvEPsJbwfC/dL0vupG3Pbj1uSm8dr2gvUO+3b/JwULDpsNKw13EmsaLyN7JD8msxrjDZMKewr/DvcTaxKXDWMLhwCC/nrzvuca36LbJtoe2dbWCtMG0jrapuJK6ILyhvNm8IL0rvtS/dsHfwijE2sXKx9TJ4Mp1y8PML8/b0QHU39Tu1DLVzNWw1sPXyNgw2rPcJuAD4/fkJeYk55no/Oo77YPuzO5y7/bwv/PC9tn4EvoD+6H7pfvR+kH66PoW/CL8t/ul+8X80f1K/sj+DgAwArQEmAZNB2UH/AaiB8IJXQznDT0OFA6vDucP6RBtEUwRHxFTEU0S6BM7Fu0YeBv5HAQdWxyvGw8b3BqOGuca/hqYGsgZaxnQGQYaBBnwFrEVuhVqFpsXOxmpGgIc6R2oH4kgxSAuIZghzyFoIvEiDSM7Ii8hOSB7H+wepB6QHk8fsCD5IR4jqySgJycrXi6dMYw0XzfDOYw6/zlGOVs6cjzoPb09HjyQOog5czmTOQk60zmEOHc2GTV4NMU0LjUDNQM0KjIYMS4xzTEAMhkxQTCaLxEvRy6CLastNi+aMT0zHjTwNHA2hTj3OTw6RDm0N0829jUaNfcz8jETL9srVSjpI+ce+xlOFkIT9hDQDtkMLwu6CUEJSQquC70K2ggTB6UFwAMDAigARf8F/4n/wP8//5P+rf6X/zQAgAADAWEBRAHgAIQAUwCd/xn+QfyS+vL3VfPZ7YHoteLq3HXXHtTs0e3QkdDKz2nO1My4yx3MDM3yzubQwtEN0qTS9dP01JPV5dVU1vHWMddP14jXOtgD2t3ba91k3c3b2dlC2JDXVtcg1tzThdBGzTHK0sbPwgi/+ruVufy3MrbJs3ywY60nrAasSay6rEStxK0Tr+SxubXkuUq95sCrxJfHAspqy7bMIs5jz9fPF9Bc0K3QitD7z6XPu8870CnRmtLX1L/Yc9134bHk9ed46v/rFO4n8R70qPY/+Tn7gfuZ+qn5OPo9+/v7IfzH/Dj9ePs1+GX13/QG9QP1qPTg9Dr0WPNv8irxy+/Q7uPthuzb6kfpd+nT6XLpLOj/5y/os+ch5hjlPOUO5xHpbOrQ6yjvT/Pq9QT4YPoz/bP/lwF/A7MFvwhfDEoP2BGGEn8SUhKpEvUT3BTtFJYULxSfE+wSXxIQEvwRShNUFakXOxmXGtIbIR2LHc4dhh2oHF8cDB2KHkQgAyIlJPkmEilEKUYoNSd8JoImdibLJTIkPiMdI5IiriGoIEYgJCAiIN8fCyDCHzQfSR6/HU0dgB02HhYf6x+5IJAhmiJlJLQmGSl4K0ctZi0bLvovuTIxNUM3nDiqObs6FjyYPXo+WT4PPhE+3z3KPAk7tjnqN+Y1EjN2MN4t0SrHJuQi6h+yHfAaVhe5E9YR4RHoEfURuxGGERgSjhNmFCsUcRMsE80SuhFDD5AMDArhBiMD/P/k/W38avoD+Kn1oPM98R3ub+sC6kDqBOvG66LssO0n71jws/Au8ajxk/EN8afwafE58yP2Ufl5/Or+twBVAqkExQbMCH4Kdwt5C1oKvwjaBpgFpwRgBPMD5wKrABH+lPzE/Jn96v71/5MANQCd/+j++P4E/17+j/z8+W33J/Za9Vb18vW59sz29/YG+Pj5Wfwx/oP/wP/m/nv9ZPxZ/Nf8nf2Q/XL85Ppn+Sr3+vQ387fypfLq8svyjfLD8oDyvfLQ8yf1E/ci+oL9pAC5Ax0Hewv1D6QTGhdmGt0d+SHrJbco4SoBLOksYS1hLTwtWS0XLWcsiCtWKn8pWCgOJ/Al5ySkI0UieyGPIJkfSh6bHDga5hYwE2QQHA55DG8KQAimBnAGtwc/CWsKEgvoCioKGQnnBiIEswHy/2r+Wv1B/BP83vvh+mz5yPcv9hD0VPHQ7prtie0C7rPujO8n8Bfx8/IR9kb5cPvw+wX8a/0/AF4DrgX5BrkHlAgdCQgJ5whMCYIJaQl1CTgJ8wiVCFcIKQkaClsL5wytDZgNMg2PC5oJMwi3B1kIsQlDCwkMjwsbCvIIwwgJCWgJgwk6CR8IWAYJBmsH0AloCy8KpgaWA3oB3P/7/lH+Qf3J+2L6yPhU97j1zvRi9RD3lPj4+Lv46Phk+fX65fza/dn+Wf8t/6L/PAC6AB4B8AG3AqAD3gTTBQcHsAcdCCQIBQiSB/MGGgbpA3oAqfww+UT19vDB7GbogOTT4CfdNtky1grVadVO1rfWNtY01XjUctQk1fPVJdYE1SPS3c49zGHLvMu2zBPOuM810nHUydSM0wfSPtAlz4jOl82iyynJd8YRxMTBtb8rvky9GLw2u1W6b7gFtquzbLIrsyu1NrezuM658bquvY3BrsZ+y6LPNtOM1qvZHd2N4VPnce2v8tT2uPlp/Dn/HgGHAswDhgTVBVAH4wjCCiwLGgrLCFgH7gWgBJwEoQQgBJ8DJgNxAj0BrP/0/XX8K/rB9zH1lPO78r7y8fN19cb26Pgc++78+/2b/7UB1wN+BfkGZgmaC9QNfQ+6EPIQeRGVEkIU4hWHFtoWBxdjF98XJRkdG18d/R78ICQjlyXUJx8qBSyrLkYxxTO2NZE37DlqPCY+0z7DP59BKkM3Q2dC3ECrPwQ/Qz/JPzxALT9qPfM7NjrMN9w1YTR0MwszlzIPMoowhS4sK34o2yZ5JgwmwST4ImcilCIJI24iOiJoIhUjEyRlJAMlZSUoJaMjLyHwHqEdqhwTHDYbKRuDGzccIBy2G5IbXhx4HQUe8h1UHZsc6BtHHL0cBR39HNUckhxzHZ0efR90H84fnyBFIo0jkiR3JhQprireKnIqzigRJ8ElbSVaJdskFiMUIYMeeBvDGNQWKBXPE20S0hAsD04NXgvDCGYGngMIAVr+AvxJ+e/29fRy84HxNe917BDp9uSG4QXgI+DM3+neft1i28LYHdb00/7SVNMB1FjUeNNQ0kXRm9AI0KfP7M9P0BzQIM+1zSHMv8rbyVzJssgMyPfH3sgXyuLKQstiy+bLU80Dz1/QxdAp0GLPn86AzTLMmMu4y1/LGcmkxX3C17/KvDi5brbhs7KwGa0DqqGozKjaqeuqU6tNqo+oTKcCp+qokat/rmqwFLMztsG5kbwPv+jB68SFyJrMPdCD0YvR79Fo06PU/dSX1VzW+9Zh17/XSdh/2ELZktp63OHeZ+KZ5vLqve5a8S700/ah+M35/Pv7/qoBMQOVBFUG9gjrC7YO/RCjEtwTLhXKFvEYExsaHDsdgB4UHzcfpx/tH3wf9B0RHTsc2xr2GLgWfRVmFCUThBHfD6INxAsaClgJewg7BzEG1wZRCMwKPg4WEoIVnxdAGP4YsBlQGm0bdRzfHbwfuiGJI8QlSyhEK9MstyyPLLUtbTBIMxs1uTYGOVo88D8lQtBDrkXoRohHLkhMSKxIo0iZSPRIoEnSSuZMIk/RUDRSTVLOUJdOJE0ITFlKNUi4RpdFZkQPQ9NBAUB5PWo5WzXbMWsvRS2AKvknCyaBI7AgcB6MHJ0aaBhZFiYVGxUsFc8U6xOBE6wTNBTpFDUVtxQ3FCwTNxF6D7YOcg7VDbIN1A1vDgoPOg+dDjANlAvLCpYKFgrtCW8JewkFCZwIyweCB28HfwcDCPoIWgqoC3IMUQ3WDuMQgRLYEvER4RBFEAEQdg/HDgYOow1hDH4KywfDBVgECwO9AHH9FPm19D/xLu9E7sDtA+3/6p/nQORR4ereW9yc2TLXkNVg1FbTotKQ0j3TONQa1rzYE9ya31zizONS5AjlQuYK6LHpreqW6hnpwean5CXjB+Lb4IzfQ9503Srd1d2s3xziB+WV5wXpyunP6mDsFe4Y72HvOPDN8bn0lfg8/Mv+vQBnAiEE0wUtB84HZAhrCNUHKgd2B9cIogrKC2oLCQpqCCkH5QVCBFcCMQDA/tX9b/xB+7D6jPom+4L7FvvT+iv79fsx/df+uv/m/8n/Tf8o/6P/BwEVAi4CqQELAYgAOAA/AIQBfwOVBd4GeAdyB60HSgijCPIICQmKCYwK0gsxDNULSwxMDk4R5RR7F3cZsRvAHQ4fTiCIIQQjrSQOJhMnoydYJ2wm5SVgJagkVSPLIRwgRR6NHEkaVReNFMcRiw+tDQMMAgohCN0GgQX6BPQEIAUMBtMGhwajBt0GqAfzCKoJXwoMC+4LRAw7DFIMjgy2DOYMVg1ODiUPog82DzUPqg+MEMoRdBJGEi4RGg+nDKEKKgl1B4cFjwN9AWAAa/9k/rv9ZP0p/UX9Gf0z/cH9hP71/gj/WP9OAM8BswM+BesF8gVwBYIEOQNqAXv+aPuK+N31yPIA78jqbubB4p7fIN2u2qfXwtP9z7DMi8oNyWDHSsaPxbfEMsOOwcG/E745vda8rr3lv2bDG8cFyhPM6c2y0BLUcNeR2vjcI97Y3u/ert9I4YjifeIe4bDfMt+m3yXhzOPY5i3pW+qh6hLrketf7IbtJu5e7ortS+wz6zfr2usN7KbrausQ7Cjtu+6m777vtu9+7xLveO4Z7iTuYe6B7qDuCu9/7ovtX+yo6xbrbOph6TfoB+jL6O7pF+ui7JTujfA78v/z5PVi95/4+PmQ+3X9L/9TAC4BywK9BBkGtAYBB60HXQjDCAwIlAboBKADGgMPA6kDvgQ/BawFUgb0BmUHCAgGCdcKxQ1CEV8U+BZBGWcbch2iH78ibSblKXksvC6xMYA16Tg8OqM5azhKN/41pTS5M08zOzKAMGcuLiyMKdEmXSTTIUMf8hyxG5YbrRsGG6EZ/hejFkQVGBQbE/8SZBMYE5kSVhKDEusSTRNSEzAUHhYYGDoZaRpPG5EcCh1tHPsbgxzhHZ0eyh3IHDUc9BulG/0a5xk7GDEW8xRQFUoWCxesF8YYABrhGiIbPRt7Gz8cPx1WHl0ffSDDIYgiKiPKIwgkYiNBIl8hNSCuHqYcQxuUGvEZWxiAFtMUVxPAEdsPXw7tDHELhwl2B0EFwwIXAFj9J/uj+GL2kfQ089rxr/B078Huie4q74rvNfCS8djz8PXY9rz2Q/ZN9a3zufEw8BbvVO4O7SfrtOjZ5Wnjq+Do3YDbytm/2NHXjNaw1bLU9NNY07vS0dHt0KjPfM2kyjLIR8ftx6rIKsnMyE3Izseex5bHdch0ye3JW8oDypbIlsZLxCnCQcBVvqK8Ibtfud+33rZdtVezubEqsaGxzbJOs5KzcrSEtmW5Q7xzvmrAM8NGxrzJ+cyU0DHUVtf02VHbBtxl3ETd3d0o3knemN/M4V3jO+RG5QPnMulW69DtxPC080r2ivjT+mr9bgDdA+IGWglFC28M7QwcDX0NtA6eEQ8Vuhf1GBYamhvYHQEg1yGKI5clWydUKDQo2CcqJ7cmeyacJeMjqiFqH1gdchthGcEWQRRlEvgQYQ+nDUoMEgvuCc8I7AdRBkEFMwZ6CHoKIgxNDbwOjhDVEdYSGRNVEyEU/RXpF6EZLBs3HZsf+CGpI3ElfyfcKegrPy1ZLjUvZzA8MZ0xejF4MZcxUDGMMQUzDTX8Nr44HTpdO+U7DjwuPKM8zzxlPC887DurOw47eTqZOXg4GTeUNYw0JzMgMWcv5i5HL+EvhC8xLposGiu+KMwlSCOZIbwgjR8wHlQcBRqbF7IVSxVKFo8XbRhlGfca4hyAHxYifyQzJl8ndyhCKQwqVivWLLEt6C17LbkswysIK90p9idHJdEiXyBWHoccHBuGGo4auxoDGqoYGRfqFdsU2BPwEqYS0BKxEj4SsREmEUUQ9w57DWYMhwwYDVINIg2rDMQLnwlMBzQFfwO2Aa7/Lv3f+Qb2MPKR7hbrauj35R/kZOFF3jHbAtnT10jXe9Y51YHUI9TG05HT7NPU1GTWa9js2TjbXdzE3WPfUuGL48Hl5ubr5jHmIOVe5Njj7uN/5CblIOXl4/Ph4d9P383fHOHF4mDkseVs5qvmiebT5YvlWuV05Y7lO+XS5Frl+uYr6YfrPe678OHy3vRX9sT3YPnh+sz7V/uq+Y33/PQ08jTw0O4R7pHtYO297eLujvCA8vbzTPVC9nv3x/hN+qD7vfzX/dv+0P/AAFcCqwSaBusHIQjjCM4JbQolCvQKpgw7DjoPLRA2ETcSUxJsER4QjA6FDR8N/QxoDHwLgQqDCTAICAfnBqsHKwm9CusLbQ2MD7kRxRN+FUUX+hhqGq4bhhx9Hc8dUx1YGwMYIxWREjMQ4g3AC6cJMAdyBNkCiwJLAiwB1f9q/ov8qPmO9v/ydfDZ8ODyjfHP7cDrX+tx6mjqFe148Gvzufa4+hH/3AJcBt4JQA7XEh8WiRhYG5MeoyGEIkcimiKOIiwi3iJxJKMkpiKYIZ8hBCDDHbUcAhwFG10ayRhQFlwVQBabFSsTMxJMFNgVGxPYDsYNVQ4mDXYLKAuJDMgLhQbtAckDMQdcB34GXgbyBfwEyQNCA8oCPwB6+5D2RvUl9tn1SPTB8zX0m/SB9MbzJfIZ8Gzueu4h8BTxx+7u69vq/etd7uHuQu3N64bq/+lT7KDule486+zoQugR6Ljop+oN7HHqKedX5vrnaOdI5SnloOaf513mW+Wm57Hqtevt6rfqTegz5QPkMuMk4pni+eOL5Sbn8udF6d3qseqC6vvqLuug6APk4uEu5NbkfN5Y0W3Iz9CO62L+o/eE2wq84Kl5sdfKzeRW6pDZEMNdxrDolgxUEP/wg9GW1L3kst4VzF7Le+iACQUS4P+i4lPR3tOq53IK5Rw3FCD+b+0W6z7vy+dy4XbmPPaSDm0ZiBVjCmH5ne6o6W/1qwZeCbP6vOq763ryS/33A5oC+/0/AmENnBf+IAQkhBx2GBYW4g++CYMJpw0NDysTJhsEFi4GXgK9Cq0V2hw0HfIZ9hRnDKIBPP1wAS8LFhENDQICNwlcFl8hxSRcIcEauhVpGkgcnCIxJUcdEwvACSERbyqkPNQ4pCtYI64pGjPFLHciYR34HIMjziSHJKkjkRj5CWwJWhHzGGQVdBOoDkYORhJ6HpEeCRfvDjgK+g2rGrAiuRzLCDP2a/abAGoE9f/l+wf8IQF4AJICug24Hj4oTiTjGGgQQQa7/5H4w/a0/lgJJBKgDsEIVAnjFAYfqyQ9HeEMswMlBtAQvA+H/hnxCfjSCB0WPBfoFhUckiHcILcZARUnFBgMkP5O8OfvC/z1/gH9zf1p9QjmHeRc74rySu7H73L7JgKX/Kr1ifH38izt8ORH5LHtwO4x6fTdadXD1bXeqOXq6M3qmehG7bnzwvRU9ELwBO2g6M/mx+Zq41Le1d1g4wnob+MU2mfTDNvl6Rbw3+nQ2/bOg87w2QLoce2G55LVbshqxKbMcduK6a/pYuWi4Jfcfdq+4ernF9/r3xnkMukZ7djt+erN5Sjgo+XW9ZIAi/uM9b7wCOkg5grqzutN7RLkRN5d4+LmceW+57Tv4/e392Tw6OZ04yTwuwS5Dm0Ei/Sk7ETx6/po/2sCxwTpAwn9f/Ol6xzlxuqq9lv8zPgn8B3lsuId5Irpz/Eb+Sj3Ie9B66HmUeaY6/7r/O2W8j3yVe+T7CflUuVd890AggQP+0T11f3gDeAdhCaSJj8hrxY1ChAHwxKoIDwn3yhEJgohzRr/GTwh2CaiH0sZQRhsGcUSCBDRH48xSTHYIFgTaBHVE28jfTe2OQYzhiyxIssbwRntGzMkCCnbJyUpeiw/KbwdMxHvB/gJMxm7JCosTTr4QmA6KCgnIKEjjy6PM7ooWh3UH6InXirRLX4zejqfQhw8NSb1H+cqCjZ/PBpBd0YCRL83+S4DLRwxxTGgKOwfGSEGM0hBMEi/SYxJl0PDOQo2ODRvJpsYmB97POJQ006DPgEkqBQ3H9IxTTbCM+w2+CrCGTQVyCBKMxE0mzq4Rsw5VBUY9XTzbxJ4KW0jQx7VG5kVJxI5CtsALQIx/aLw+/EVCfwSuAoTDc0N/AXz9nbsgO5VAx4XjxMu+KHqge5U51XdItpC4KngOtZL1G7klwQIFggA3t9zyoO+Xsth6ITwE+T/7IEJMwmM3XDAJtSrBpgV+/PdyYy8r8QrzdbE9s9k/wAfDhAE5uu/ZrCXpmSk8b6yyNTMqdwN6ZnjxujP5aXqtvVf/sDuvNOxuA+qZcCs3OHF/bRvtpHB5N3U8t8JWht3C+HtX9/y3/bUptCZ1bTdjebT6h7q+vGG6xPWWN635DXpOPpeCjcLmgS741LKLdYO/skHigE3/eL3/OqgAE8QXCgbHdT6I/J2AkcQ2Q/2+230MwDcEkgIs+rX4GDtiP/gE4oGj/nv66/bz+s9Dh8Zwg2w9dPhvOQt5IznNe+w5THd1N4D8XDvGu/J8TUENf5m9ucDJwwgBIPgytSB1qzjQ/gj+ID/pQaGECEFngJy+yH9YAq9GkYrey9xGn4k3z0IO7QkSQ3E/6wN8CcyMeJFLUvEOVkSXfem/O8GFQQPGWQkgyILG48YricxNNYnAQQk8hAF/DDrN1sffgkzErYx+UBbQkpF/D8AMYEUKRqqQeVTkD6zKE4fTRyoJNQtRCYpGcghDTEHRg46OB/UFEMWdClKOr1GBTxNKQInny+LLdEtsTGqKWUgghkxDTkRnxNtD5MPgBhCJzgmNyBfFNAdlSO8AwfbIN3v7QX6Jv709Wvto+pp21HBd7+t1SvhW+CD1t3sQQcR8q3ZFO+j/CPsa9aL0cnlUve++nro7Nz14Z/UrredtBnN9us686zgO9rq20Dj9eSj18nLQNjp44june1I+ur0t+jm6un9gQ/YAC3hTdCh4Br8Ce2gw0LA9dIny0q+wMqc2VLnCOPL3mrpjO9u6wD5wfnI8FvZLslXuX+0acsG9nL9cdjdtVDcSxKWKtwfwgA9/d0Eef7G/tn+OwVw943ufO3u7wnnxtgk0VjptQLPGIEUz+pk2kL3dgyJC/r8wuBJyyDeifNj+Q/2MfNSBTUKHf8++8/39PQj+jMA9wJMA6UHjg1JBYz0uei39rcpG0HaHXsCoRifLhgO/OrQAkUpwjn7EKbj3dggAVwYOPuf4izzIQJvFCUcQANw2tXcsg+3LaQJXO5n8cL9RfbS+Cb+peId2Tv1sQIe+xHlt9Ye5z7oCtsKzqziUf0R/wX9a/O89KD5ZvG86vvgFuWbCz8OUwAl+ODqZvIJErsXDRi0DqwSeQtlDb4URhRWFtwt3jn/OEQsAQb3BfUf5DE3GUv0QvRpGRAykycNG6QW8xYmHaYjaC5XJkQPTRdrFRcNugRSAD4I9QzBBu8KhRkOH2sRqQAx8sf5SwtIHdktlifFGrwYWDW3OkEdFwBrB4ElQRqJ/xHoFvJkGHEVogCgCGwhpjQRLSMK6AzYF0gUiQfeDf4mfjtoLZwLo/WX+NQKFBo5GDMVjv8GBHcJMPsM/zwVdib7IfgFwPIW+DL74ACnBZAQsgkN9RfqffG4/IEFW/b94XLbWu3aBH4WjAa86gzne+cp7Y//aQPB/mT7k/s86VjRG9JA3aXap92s24fdH94Q3n/rWOT30wzRfdTMxYe8FbopxCLXe+NK32PME7pFtlfBw9Gnym21crDcxAvSgdYE6NLunt4izlDBHM6H6xfsmuV23evhSerR5q7okwBoEFAC6ezJ5wz4JwdZCbcNpwznC6MP3Qc1Ef8lgC9tJPkRBfIS5bD4/A5hEdIIKAo3GLAZzBN0B9MD3/09BKkMBApO/Ozrs+lKDDwhbhweDQkJtwVs88XloOaA8Qby4Pn0BesNrgn89rrl8ekSAOcSNB/hG6QV7Q3DFjQrBy5EH68RsxH+HLgk+BiCFNoSBRcILUYxpS7RIAoWihhuHTsdSRdpE9cfHBzREFYRGxu0Gj0csyfGMYk47zBuIXMcfRUsFMsVExP4HDwubDVWPtwu7xV1FxApbzVzMJEcCx1VMJk+lzLeIJMiWSY7DL78Ug7zI9cjyhgsFkwa5RzhDzwL7AQNB7gUYBIBCgMBCgXDB0b/RvVB9gIHsBQ8FScWUBxsFE4RdRbFF1gNvBF4HI8goh+OIukulzLbKAIcnBsMLDk4/TN2GqAFlQB9F7A8mEx/N6EFues2/4wSRx85JRgephX1Av/41v8DCTgXCRh9EvwAS/Z/BFUFIO2h2l3nQv7iDKYKzAtdB6cBXfow9ETopvBKCacLwf7U8fTpN+nv6WvtU+737AD2Dfo3+tP9qPRv6lPxbvT99tTr/eFv51P1MPzt+m7v5/H38JrvGfJq8oL11vee7pHu3/XN+APzbPCa7uLr7Oxh9l39uwR/AKn3NfQo+M75jPbw+AsD3wjC/Q/tJ+DE56f2ywJMA6T+QgBS+iDwf/Os+Uz2/es26kH4FP/n8C7fk9vC3xXfTtnF1eTmdfzfAtvyQNVWytfLj82Q0DXgDADpDkv3ltQ2x6LCfMUczAXpTwiqFw4Tiv0u7ProrvKbCIcTURPJDDARsRRmFrQNtf52AOEUYiqPKyseuBOoFRMZghPyBZT4FQFACaEEtf6gBSwQcBa9Bj0BGwdcDD8MkQd+CQQGbP089/rwt+5H/SIM3A+1+lLsoOUg5wMEBB2VIgAfZQ1R+SvyFv22BcgOGgqc/Y8CAQuvA24BmAgcEGgR5f5H/BwRbhdGCb0BiwsxDk0BrPwGBKsJaAjzDBkUxxEZC5wM6BOqE2ELzwjdBXYLcwt//hLzrvL8AIgDlvrI8ZDt+ewa7ETxJQCzAuj32fNZAVsSXxehFocCEen25kD3PASQ+vvlH+Ow7233qvey7vnmNN/u0wnjmvd58u7uDfCa8Dbs1tiqzg7O3cxTzEHRT9ts3DrTRcQWujy14bDHw0/VgsS4r2WwH7Moun7GUctjy4PCb7l0vGDEwdFK3rHf3NVIyoG+uby9x8XUpNle1cTRaNnz7CT1J+sV3cPYetjl0czOCtxq75n0fug93njaitUm0gLelufx617hqdgo14XbVuMF7kzvLOE/z5HIJM3t3MDutPw8+anqm+9FAmcC2Ou+1HHYbOTD53ThZeCW49HvQ/W68Unphd8v5Qb2Qvx89fPuofHuAmIRJBf2IqEjuBpOF70XPBjKHZcgVxjfEUoU7yuCP91Eb0G2PsE4yDjDMVArtzMgQgZI+EV7Ql9C0EDtNQYuaTTHQ3pQ31R7TWZFfT7fMzY1Wz6GSVhO2k+iVS9cdlv8VTlIejlJNsk57zmSQD1HM0cWRc9BTDApKWUrgy9vMfAuAjBPLhIwuTPKMpkvzTFyM3Ux5CiHJYwkTBg7E7Af1iijKIIobjJ4Q5xGfzfLKkctbDXyNjo4hEQbT35FRzb7OHlGRU8bTHBGdz9VO7A8qEgcVVZSM0f2RKBK3klBQSM6oEHaSf5Q2k6uRBQ1bjKzQClFGD9nP0JDI0PJP2c5WDLUMSI7TDsWNnEyBzlNP185czFIMt0xsDDrMe456EHDP4AwEiRBKeAyCjgIOOo24jCaLeYqtCcEI/smTS6QLU8qiiTLHlQeix3TGkIXrxUIFhUXGxcDEKAE0gHCDBwZyB1PFOgEwP3lArwFdQPQ/0cBWQZw/kvzy/KZ9o33uPGk6ejlw+cP6QvqYep25DHds9kZ3LLbg9sj2gHY8dnx23PaL9mE19DazuOj5NvXmM0vy4zLO8SquZm6U8SrzevQMtD2y3rFIcF1vRO3AK/Xqwesfq4QrY+mAaBmoeGsSLrJwlHAbrqBsVWwrbYhvCK+LL8twFrDCMnYyQ7DOsIJxRjCT8AAyv7SxdWx1R7YNd9A4u3Yos0CxlK9iLbjtDG+ocs4zwTPu9K81v3V0Nal163WQNEmzHnLeMyMyh/IbMW4xPfIG8wfz6/TbtOa0u/QgcrexsLIGc/70IPL88d6yVHHjMLTwmDHwM3v0zXW59VB2hvbptFGzlDZfee87k3yyO9Q62nqTudg4o7gAOb16gnyuAN4CrL/HPNA7+TzZ/RC7Z7o9e9l/goBvv20/+oGhAvQBaz5Z/RH76Dr0u91+1UDAALL/L8ArQumEP4Q6w94CzkEbv40AksPABuHFyERjxL2E9sQngx2CBwPihUhD5ADAv1w/o8GnwyxFrocAhbMEKEPVga//1L/Ov+S/5T/fQMgCEMJygRrAeX8bvsZArkOgBkFF7sL7QQ5B3sP2xbqEqYMmhAgHIUiISSdKE4yZzOIKjss+TjTQrw8kTNEMRY0IzLUKUAhlxwsHYweayBkJiAxsDWJMtQrYiZjHt4cuyH3I2UeKBf/FdoVwRRfEaUOBRL8E0MScxS7GcIe1xnpD3UMnBSLHJsXswriAKUErQ0WCAP+vvnY+eb+NgJ+Bp0J3AHr+hX88v72/pn4g/jPBOQJfwJs/yn++/2i/UL8BQWqDH4JhwGX+O/zDPTT7XPobeys88D24vFm6ZrlXuZ75RzfuNy234XoG+/17ank89xt3Z7pju2E4VDUsdWp3rjisOLZ403mLeGO3GbdXtt400DLPsmryfnLu9Fy1ULWptYB1cHTHdLvy4nGHcZfy0bN58tLzIfQd9gB20TUF8wzyNfNatdH3Krd3OGd5cPqbu757onv3O4n8PPuGetZ7RH11fYf9ar0lvqKAXwITxVFI4klBSIEGssQ/A8fEvgOZw5LDqgNSBBTGvcfOhr2EhQXaRpZFOQMLQleCGIJFAZeB5wOSxYdHD4aVA6YB3YLrhQ8GAoW7xWQGYsc1yMWLuAsjyipJ60oWiqhJ20iRSBDI/UsljXwNlcytC8DMCouMDJHOYA4djF9KugmFyUMKzg2hD8BRChCIT8TOuk1JjVuNck3ZDtLOu05MzsmO5U5UTpHPKtAJkmyTalN7kk0Qkw7TD3qSsFUW1QdUKNQB1upXeJZBFyZW3VWTlNkVA1Wf1afVFxWhFsAYb5jLGP9X3NehlyyXDZgsl9nVZBKLUktUTRUI01XRopGikUWPKk1AzS0M3oyzzGqL2QtqjFZNMgznTbkNn0wUyyTMTM4hjQKLBkrPi7KLGcnZSNhHmsbYCKkKCEnqCBdHLgdMCNGJ44l+CNwJRollxyyEhkNWAsACI0EeQM8Bb4JmgwwDsgOkAcE+QPxRvggBHcCg/Sy55/hKOEc32PbOtxV4HnkF+G/2F3XNdt/2eDTr84Bzf/O6NN903bQh8kiv7q7jcDJyKHMgMtKxY29krgdtO2wkLFDtQK3S7X1t4e5u7K9qhqp+auIrnOxjbiRwZrA27pJwKHGQ8PUuAutAarjr2q13rVes2e01bNlsxq0dbLPrdSnu6aBqxquWKgWpNCmhKr9qeumkaXzp4Kpjaabpi+qHKtCqIyr8LMRulS2erH1ty29R7bcrfmrT6+HsOirtqaXpg2laKRnqZ2vAq43pgOe+ph7mCaZOZgxmxme5ZtgmS+dQKV8rcSuKajSplusa7G4slSuD6r2rAa0N7NHsFu1s7pcvIq9RcA4wiTGzslCy2HJAMcLx2/Kas9i0fvLrsbayJnN8M8rzWXLRtH72qziFeMo3oTa2dmo2SLayds14Zbn3Omx5Yzf6ONy8E/4vPWb8YH0Ivzu/RD9UgDHBL0FAAQ4Br4Lvw+1EC4QshGwGeohtinhKzAqXStBKxUqKimvKA==\" type=\"audio/wav\" />\n",
       "                    Your browser does not support the audio element.\n",
       "                </audio>\n",
       "              "
      ],
      "text/plain": [
       "<IPython.lib.display.Audio object>"
      ]
     },
     "execution_count": 8,
     "metadata": {},
     "output_type": "execute_result"
    }
   ],
   "source": [
    "processed = model.apply_to_audio(audio)\n",
    "sample_rate = 44100\n",
    "Audio(processed, rate=sample_rate)"
   ]
  },
  {
   "cell_type": "markdown",
   "id": "5cdc360c-b638-4e36-810e-e34b44827829",
   "metadata": {},
   "source": [
    "Wow, nice! That actually sounds pretty close. As long as we're happy with only handling loud audio, we don't even need to deal with companding or anything."
   ]
  },
  {
   "cell_type": "code",
   "execution_count": 14,
   "id": "8e941aa4-72e0-4928-b0a6-4f5f2623b5ff",
   "metadata": {},
   "outputs": [
    {
     "name": "stdout",
     "output_type": "stream",
     "text": [
      "Audio average: 0.12966328859329224\n",
      "Average error: 0.016328822821378708\n",
      "Audio max: 0.5160747170448303\n",
      "Error max: 0.14204718172550201\n"
     ]
    }
   ],
   "source": [
    "avg = np.abs(audio).mean()\n",
    "err = processed - audio\n",
    "avg_err = np.abs(err).mean()\n",
    "print(f\"Audio average: {avg}\")\n",
    "print(f\"Average error: {avg_err}\")\n",
    "print(f\"Audio max: {audio.max()}\")\n",
    "print(f\"Error max: {err.max()}\")"
   ]
  },
  {
   "cell_type": "code",
   "execution_count": null,
   "id": "196d1b35-5d53-41f3-a18a-599ba48556be",
   "metadata": {},
   "outputs": [],
   "source": []
  }
 ],
 "metadata": {
  "kernelspec": {
   "display_name": "Python 3 (ipykernel)",
   "language": "python",
   "name": "python3"
  },
  "language_info": {
   "codemirror_mode": {
    "name": "ipython",
    "version": 3
   },
   "file_extension": ".py",
   "mimetype": "text/x-python",
   "name": "python",
   "nbconvert_exporter": "python",
   "pygments_lexer": "ipython3",
   "version": "3.11.11"
  }
 },
 "nbformat": 4,
 "nbformat_minor": 5
}
