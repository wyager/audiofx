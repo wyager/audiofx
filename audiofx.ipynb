{
 "cells": [
  {
   "cell_type": "markdown",
   "id": "263a750a-808f-4c9c-af75-eac7febd4981",
   "metadata": {},
   "source": [
    "# Training Neural Networks to Emulate Audio Effects\n",
    "\n",
    "I'm gearing up to start a new job at an AI lab, working on RL systems, and I want to do a bit of hands-on NN work to gear up.\n",
    "\n",
    "Let's figure out how to train a model to emulate various audio effects, like distortion units or reverbs or whatever. For boilerplate stuff like loading audio data, I'll write a type signature and comment and have Claude fill out the details.\n",
    "\n",
    "I haven't read any literature on how to do stuff like this, so I'll probably do some stupid stuff here, call things by the wrong name, etc., but I find it's often more educational to go in blind sometimes. \n",
    "\n",
    "I figure an architecture that might work pretty well is to have the previous `m` input samples, $[i_n, i_{n+1}, ..., i_{n+m-1}, i_{n+m}]$, and the previous `m-1` output samples, $[o_n, o_{n+1}, ..., o_{n+m-1}]$, and train the network to generate the next output sample, $o_{n+m}$\n",
    "\n",
    "```\n",
    "                     .-------.\n",
    "[m prev inputs]----->|  The  |\n",
    "[m-1 prev outputs]-->| Model |-->[next output]\n",
    "                     '-------'\n",
    "```\n",
    "\n",
    "This architecture seems good to me because:\n",
    "\n",
    "1. It's easy to generate examples of input data\n",
    "2. It gives the model enough context to (theoretically) recover information like \"what is the current phase of this oscillator\"\n",
    "\n",
    "\n",
    "As for how to actually represent the audio, some initial thoughts:\n",
    "\n",
    "1. You could just pass in and extract straight up $[-1,1]$ float audio into/out of the model.\n",
    "   1. The model will have to grow hardware to implement a threshold detector ADC or something, which seems kind of wasteful\n",
    "   2. This fails to accurately capture entropy density in human audio perception. A signal with peak amplitude 0.01 is often just as clear to humans as a signal with peak amplitude 1.0. Which brings us to a possible improvement\n",
    "2. Pre- and post-process the audio with some sort of compander, like a $\\mu$-law\n",
    "   1. This will probably help the model maintain perceptual accuracy across wide volume ranges\n",
    "3. Encode a binary representation of the audio. This feels to me like it will probably be difficult for the model to reason about.\n",
    "4. Use some sort of one-hot encoding for the amplitude, probably in combination with a companding algorithm. This might be too expensive on the input side (since we have a lot of inputs), but could work well on the output side. We could have 256 different outputs for 8-bit audio, for example.\n",
    "   1. We could also possibly allow the network to output a continuous \"residual\" value for adding additional accuracy on top of the one-hot value.\n",
    "  \n",
    "For now, let's just try the first thing and see how it goes. I expect it will work OK for well-normalized (loud) audio and poorly for quiet audio.\n",
    "\n",
    "As for our loss function: probably some sort of perceptual similarity metric would be best, but let's start with a super simple metric like squared error in $\\mu$-law space."
   ]
  },
  {
   "cell_type": "markdown",
   "id": "c4a8cb6e-486e-43a0-9935-4c501337382f",
   "metadata": {},
   "source": [
    "First up, I need a bunch of training data. I took a bunch of songs from my music library and put them in the `examples` folder. (I'm old enought that I have about 75GB of local music files.) \n",
    "\n",
    "When we want to train a new effect, we'll have a bunch of training runs of the form:\n",
    "\n",
    "1. Pick a bunch of random song slices from the library\n",
    "2. Feed the song slices through the reference implementation of the effect (could be software or hardware)\n",
    "3. Train the model to predict the next sample of the effect across all I/O examples in the batch"
   ]
  },
  {
   "cell_type": "code",
   "execution_count": 1,
   "id": "08e73757-ce9d-47a5-b8e7-c416baae255a",
   "metadata": {},
   "outputs": [],
   "source": [
    "import os\n",
    "import numpy as np\n",
    "import torchaudio\n",
    "import random\n",
    "from pathlib import Path\n",
    "from typing import List, Tuple\n",
    "\n",
    "def list_audio_files(examples_dir: str = \"examples\") -> List[str]:\n",
    "    \"\"\"\n",
    "    List all audio files in the examples directory.\n",
    "    \n",
    "    Args:\n",
    "        examples_dir: Path to the examples directory\n",
    "        \n",
    "    Returns:\n",
    "        List of audio file paths\n",
    "    \"\"\"\n",
    "    audio_extensions = {'.mp3', '.m4a', '.wav', '.flac', '.aac', '.ogg', '.mp4'}\n",
    "    audio_files = []\n",
    "    \n",
    "    examples_path = Path(examples_dir)\n",
    "    if not examples_path.exists():\n",
    "        raise FileNotFoundError(f\"Examples directory '{examples_dir}' not found\")\n",
    "    \n",
    "    for file_path in examples_path.rglob('*'):\n",
    "        if file_path.is_file() and file_path.suffix.lower() in audio_extensions:\n",
    "            audio_files.append(str(file_path))\n",
    "    \n",
    "    return sorted(audio_files)\n",
    "\n",
    "def read_audio_normalized(file_path: str) -> np.ndarray:\n",
    "    \"\"\"\n",
    "    Read an audio file, convert to mono, and normalize so peak absolute value is 1.0.\n",
    "    \n",
    "    Args:\n",
    "        file_path: Path to the audio file\n",
    "        \n",
    "    Returns:\n",
    "        Normalized mono audio as float32 numpy array with shape (samples,)\n",
    "    \"\"\"\n",
    "    # Load audio using torchaudio (handles many formats)\n",
    "    try:\n",
    "        waveform, sample_rate = torchaudio.load(file_path)\n",
    "        \n",
    "        # Convert to numpy float32\n",
    "        audio = waveform.numpy().astype(np.float32)\n",
    "        \n",
    "        # Convert to mono by averaging channels if stereo/multi-channel\n",
    "        if audio.shape[0] > 1:\n",
    "            audio = np.mean(audio, axis=0)\n",
    "        else:\n",
    "            audio = audio.squeeze(0)\n",
    "        \n",
    "        # Normalize to peak amplitude of 1.0\n",
    "        peak = np.max(np.abs(audio))\n",
    "        if peak > 0:  # Avoid division by zero for silent audio\n",
    "            audio = audio / peak\n",
    "            \n",
    "        return audio\n",
    "        \n",
    "    except Exception as e:\n",
    "        raise RuntimeError(f\"Failed to load audio file '{file_path}': {str(e)}\")\n",
    "\n",
    "\n",
    "    "
   ]
  },
  {
   "cell_type": "markdown",
   "id": "3056538a-a779-42bf-b9ec-d16581055df0",
   "metadata": {},
   "source": [
    "OK, now let's write some code to generate input/output data for training the network.\n",
    "\n",
    "Our input tensor will be of shape `(batch size, m input samples + m-1 output samples)` and our output tensor will\n",
    "be of shape `(batch size, 1)`."
   ]
  },
  {
   "cell_type": "code",
   "execution_count": 2,
   "id": "96ab8760-943c-4714-b133-689acefa5b7c",
   "metadata": {},
   "outputs": [],
   "source": [
    "# TODO WYAGER: check Claude's work\n",
    "def generate_audio_pairs(audio_effect, file_count: int = 64) -> List[Tuple[np.ndarray, np.ndarray]]:\n",
    "    \"\"\"\n",
    "    TODO CLAUDE: Read in random audio files from examples directory and apply the effect to them,\n",
    "    creating pairs of (dry, wet) audio for training.\n",
    "\n",
    "    Args:\n",
    "        audio_effect: Function which takes in clean audio (f32 mono array) and outputs a\n",
    "            processed array of the same size\n",
    "        file_count: How many files to read and process\n",
    "\n",
    "    Returns:\n",
    "        List of (dry_audio, wet_audio) pairs as numpy arrays\n",
    "        \n",
    "    Raises:\n",
    "        ValueError: If not enough audio files are available\n",
    "        RuntimeError: If audio processing fails\n",
    "    \"\"\"\n",
    "    audio_files = list_audio_files()\n",
    "    \n",
    "    if len(audio_files) < file_count:\n",
    "        raise ValueError(f\"Not enough audio files: found {len(audio_files)}, need {file_count}\")\n",
    "    \n",
    "    # Sample random files without replacement\n",
    "    selected_files = random.sample(audio_files, file_count)\n",
    "    \n",
    "    audio_pairs = []\n",
    "    failed_files = []\n",
    "    \n",
    "    for file_path in selected_files:\n",
    "        try:\n",
    "            # Read and normalize the dry audio\n",
    "            dry_audio = read_audio_normalized(file_path)\n",
    "            \n",
    "            # Apply the effect to get wet audio\n",
    "            wet_audio = audio_effect(dry_audio)\n",
    "            \n",
    "            # Validate that effect preserved array shape\n",
    "            if wet_audio.shape != dry_audio.shape:\n",
    "                raise RuntimeError(f\"Audio effect changed shape: {dry_audio.shape} -> {wet_audio.shape}\")\n",
    "            \n",
    "            audio_pairs.append((dry_audio, wet_audio))\n",
    "            \n",
    "        except Exception as e:\n",
    "            failed_files.append((file_path, str(e)))\n",
    "            print(f\"Warning: Failed to process {file_path}: {e}\")\n",
    "    \n",
    "    if failed_files and len(audio_pairs) == 0:\n",
    "        raise RuntimeError(f\"All audio files failed to process: {failed_files}\")\n",
    "    \n",
    "    print(f\"Successfully processed {len(audio_pairs)} audio files ({len(failed_files)} failed)\")\n",
    "    return audio_pairs\n",
    "\n",
    "# TODO WYAGER: check Claude's work  \n",
    "def generate_slices_from_pairs(audio_pairs: List[Tuple[np.ndarray, np.ndarray]],\n",
    "                               context_window: int,\n",
    "                               slices_per_pair: int\n",
    "                               ) -> Tuple[np.ndarray, np.ndarray]:\n",
    "    \"\"\"\n",
    "    TODO CLAUDE: Given reference input/output dry/wet audio pairs,\n",
    "    create numpy arrays suitable for training the neural network.\n",
    "    Will generate randomly-selected slices from each audio pair.\n",
    "\n",
    "    Args:\n",
    "        audio_pairs: A list of (dry,wet) mono audio arrays (entire processed songs)\n",
    "        context_window: The number of historical input samples the neural network gets\n",
    "        slices_per_pair: The number of example slices we want for each input/output pair\n",
    "\n",
    "    Returns:\n",
    "        Tuple of (input_features, target_outputs):\n",
    "        - input_features: f32 array of shape (total_slices, context_window * 2 - 1)\n",
    "            Each row contains `context_window` input samples concatenated with \n",
    "            `context_window - 1` previous output samples\n",
    "        - target_outputs: f32 array of shape (total_slices, 1)\n",
    "            The next output sample corresponding to each input block\n",
    "            \n",
    "    Raises:\n",
    "        ValueError: If audio pairs are too short for the context window\n",
    "    \"\"\"\n",
    "    if not audio_pairs:\n",
    "        raise ValueError(\"No audio pairs provided\")\n",
    "    \n",
    "    total_slices = len(audio_pairs) * slices_per_pair\n",
    "    feature_size = context_window * 2 - 1\n",
    "    \n",
    "    # Pre-allocate output arrays\n",
    "    input_features = np.zeros((total_slices, feature_size), dtype=np.float32)\n",
    "    target_outputs = np.zeros((total_slices, 1), dtype=np.float32)\n",
    "    \n",
    "    slice_idx = 0\n",
    "    \n",
    "    for dry_audio, wet_audio in audio_pairs:\n",
    "        # Check minimum length requirement\n",
    "        min_length = context_window * 2  # Need context_window for input + context_window for output history + 1 for target\n",
    "        if len(dry_audio) < min_length:\n",
    "            print(f\"Warning: Audio pair too short ({len(dry_audio)} samples), need at least {min_length}. Skipping.\")\n",
    "            continue\n",
    "            \n",
    "        # Generate random slice positions for this pair\n",
    "        # Valid range: from context_window to len-1 (need context_window previous samples)\n",
    "        max_start = len(dry_audio) - context_window\n",
    "        slice_positions = np.random.randint(context_window, max_start + 1, size=slices_per_pair)\n",
    "        \n",
    "        for pos in slice_positions:\n",
    "            # Extract input context: previous context_window input samples\n",
    "            input_context = dry_audio[pos - context_window:pos]\n",
    "            \n",
    "            # Extract output context: previous context_window-1 output samples  \n",
    "            output_context = wet_audio[pos - context_window:pos - 1]\n",
    "            \n",
    "            # Combine input and output contexts\n",
    "            input_features[slice_idx] = np.concatenate([input_context, output_context])\n",
    "            \n",
    "            # Target is the next output sample\n",
    "            target_outputs[slice_idx, 0] = wet_audio[pos]\n",
    "            \n",
    "            slice_idx += 1\n",
    "    \n",
    "    # Trim arrays if some pairs were skipped\n",
    "    if slice_idx < total_slices:\n",
    "        input_features = input_features[:slice_idx]\n",
    "        target_outputs = target_outputs[:slice_idx]\n",
    "        print(f\"Generated {slice_idx} slices (some audio pairs were too short)\")\n",
    "    else:\n",
    "        print(f\"Generated {slice_idx} slices from {len(audio_pairs)} audio pairs\")\n",
    "    \n",
    "    return input_features, target_outputs"
   ]
  },
  {
   "cell_type": "markdown",
   "id": "e30d7846-e051-4d54-9e10-53212669ef8c",
   "metadata": {},
   "source": [
    "Let's try this with a \"passthrough\" audio effect that does nothing."
   ]
  },
  {
   "cell_type": "code",
   "execution_count": 3,
   "id": "f02b6e12-2c77-45eb-9a0d-1362c546bc8c",
   "metadata": {},
   "outputs": [
    {
     "name": "stderr",
     "output_type": "stream",
     "text": [
      "Note: Illegal Audio-MPEG-Header 0x5420207d at offset 18166511.\n",
      "Note: Trying to resync...\n",
      "Note: Skipped 1024 bytes in input.\n",
      "[src/libmpg123/parse.c:wetwork():1349] error: Giving up resync after 1024 bytes - your stream is not nice... (maybe increasing resync limit could help).\n"
     ]
    },
    {
     "name": "stdout",
     "output_type": "stream",
     "text": [
      "Warning: Failed to process examples/04 Exhale.mp3: Failed to load audio file 'examples/04 Exhale.mp3': Unspecified internal error.\n"
     ]
    },
    {
     "name": "stderr",
     "output_type": "stream",
     "text": [
      "[src/libmpg123/id3.c:process_comment():587] error: No comment text / valid description?\n",
      "[src/libmpg123/id3.c:process_comment():587] error: No comment text / valid description?\n"
     ]
    },
    {
     "name": "stdout",
     "output_type": "stream",
     "text": [
      "Warning: Failed to process examples/Children (Dreams Version).mp3: Failed to load audio file 'examples/Children (Dreams Version).mp3': Unspecified internal error.\n"
     ]
    },
    {
     "name": "stderr",
     "output_type": "stream",
     "text": [
      "[src/libmpg123/id3.c:process_comment():587] error: No comment text / valid description?\n",
      "[src/libmpg123/id3.c:process_comment():587] error: No comment text / valid description?\n",
      "Note: Illegal Audio-MPEG-Header 0xd506317b at offset 21452619.\n",
      "Note: Trying to resync...\n",
      "Note: Skipped 1024 bytes in input.\n",
      "[src/libmpg123/parse.c:wetwork():1349] error: Giving up resync after 1024 bytes - your stream is not nice... (maybe increasing resync limit could help).\n"
     ]
    },
    {
     "name": "stdout",
     "output_type": "stream",
     "text": [
      "Warning: Failed to process examples/10 The Dark Ride.mp3: Failed to load audio file 'examples/10 The Dark Ride.mp3': Unspecified internal error.\n"
     ]
    },
    {
     "name": "stderr",
     "output_type": "stream",
     "text": [
      "[src/libmpg123/id3.c:process_comment():587] error: No comment text / valid description?\n",
      "[src/libmpg123/id3.c:process_comment():587] error: No comment text / valid description?\n",
      "[src/libmpg123/id3.c:process_comment():587] error: No comment text / valid description?\n",
      "[src/libmpg123/id3.c:process_comment():587] error: No comment text / valid description?\n",
      "[src/libmpg123/id3.c:process_comment():587] error: No comment text / valid description?\n",
      "[src/libmpg123/id3.c:process_comment():587] error: No comment text / valid description?\n",
      "Note: Illegal Audio-MPEG-Header 0xffe40606 at offset 1523.\n",
      "Note: Trying to resync...\n",
      "Note: Skipped 86 bytes in input.\n",
      "[src/libmpg123/id3.c:process_comment():587] error: No comment text / valid description?\n",
      "[src/libmpg123/id3.c:process_comment():587] error: No comment text / valid description?\n",
      "[src/libmpg123/id3.c:process_comment():587] error: No comment text / valid description?\n",
      "Note: Illegal Audio-MPEG-Header 0x00000000 at offset 2596872.\n",
      "Note: Trying to resync...\n",
      "Note: Hit end of (available) data during resync.\n",
      "[src/libmpg123/id3.c:process_comment():587] error: No comment text / valid description?\n",
      "Note: Illegal Audio-MPEG-Header 0xab780b63 at offset 4653202.\n",
      "Note: Trying to resync...\n",
      "Note: Skipped 964 bytes in input.\n",
      "[src/libmpg123/id3.c:process_comment():587] error: No comment text / valid description?\n",
      "[src/libmpg123/id3.c:process_comment():587] error: No comment text / valid description?\n",
      "Note: Illegal Audio-MPEG-Header 0x4c595249 at offset 14949070.\n",
      "Note: Trying to resync...\n",
      "Note: Hit end of (available) data during resync.\n"
     ]
    },
    {
     "name": "stdout",
     "output_type": "stream",
     "text": [
      "Successfully processed 509 audio files (3 failed)\n",
      "Generated 1042432 slices from 509 audio pairs\n"
     ]
    }
   ],
   "source": [
    "context_window = 128\n",
    "slices_per_pair = 2048\n",
    "file_count = 512\n",
    "\n",
    "effect = lambda x : x # Do nothing to the audio\n",
    "passthru_data = \\\n",
    "    generate_slices_from_pairs(generate_audio_pairs(effect, \n",
    "                                                    file_count = file_count),\n",
    "                               context_window, \n",
    "                               slices_per_pair)"
   ]
  },
  {
   "cell_type": "markdown",
   "id": "799b5bb0-bdd1-410f-ad38-999fd7ef9cbb",
   "metadata": {},
   "source": [
    "Now for our actual training:"
   ]
  },
  {
   "cell_type": "code",
   "execution_count": 37,
   "id": "26a7d6b8-fb07-4570-a37b-e04f41a6f666",
   "metadata": {},
   "outputs": [],
   "source": [
    "import torch\n",
    "import matplotlib.pyplot as plt\n",
    "from IPython.display import clear_output\n",
    "\n",
    "inner_layer_size = 256\n",
    "num_inner_layers = 5\n",
    "\n",
    "class Model:\n",
    "    def __init__(self, input_layer, input_biases, inner_layers, inner_biases, output_layer, output_bias, device):\n",
    "        self.input_layer, self.input_biases, self.inner_layers, self.inner_biases, self.output_layer, self.output_bias = \\\n",
    "            input_layer, input_biases, inner_layers, inner_biases, output_layer, output_bias\n",
    "        self.device = device\n",
    "    # TODO claude: Add a type here\n",
    "    def eval(self, inputs):\n",
    "        # Run the model forward\n",
    "        vec = torch.nn.functional.relu(inputs @ self.input_layer + self.input_biases)\n",
    "        for i,layer in enumerate(self.inner_layers):\n",
    "            bias = self.inner_biases[i]\n",
    "            vec = torch.nn.functional.relu(vec @ layer + bias)\n",
    "        vec = vec @ self.output_layer + self.output_bias\n",
    "        return vec\n",
    "    def to_numpy(self):\n",
    "        return Model(\n",
    "            self.input_layer.cpu().detach().numpy(), \n",
    "            self.input_biases.cpu().detach().numpy(), \n",
    "            [l.cpu().detach().numpy() for l in self.inner_layers], \n",
    "            [b.cpu().detach().numpy() for b in self.inner_biases], \n",
    "            self.output_layer.cpu().detach().numpy(), \n",
    "            self.output_bias.cpu().detach().numpy())\n",
    "    def apply_to_audio(self, audio):\n",
    "        inputs = np.zeros(context_window).astype('float32')\n",
    "        prev_outs = np.zeros(context_window - 1).astype('float32')\n",
    "        outputs = np.zeros(audio.shape).astype('float32')\n",
    "        for i,sample in enumerate(audio):\n",
    "            if i % 1000 == 0:\n",
    "                clear_output(wait=True)\n",
    "                # print(i)\n",
    "            # Shift on the new input sample\n",
    "            inputs[:-1] = inputs[1:]\n",
    "            inputs[-1] = sample\n",
    "            model_input = np.concatenate([inputs, prev_outs])\n",
    "            with torch.no_grad():\n",
    "                output = self.eval(torch.from_numpy(model_input).to(self.device)).item()\n",
    "            # Shift on the new output sample (which we just generated)\n",
    "            prev_outs[:-1] = prev_outs[1:]\n",
    "            prev_outs[-1] = output\n",
    "\n",
    "            # Save the output\n",
    "            outputs[i] = output\n",
    "            # print(model_input)\n",
    "        return outputs\n",
    "            \n",
    "batch_size = 1024*16\n",
    "\n",
    "def train(examples):\n",
    "    if torch.backends.mps.is_available():\n",
    "        device = torch.device(\"mps\")\n",
    "        print(\"Using MPS (GPU) device\")\n",
    "    elif torch.cuda.is_available():\n",
    "        device = torch.device(\"cuda\")\n",
    "        print(\"Using CUDA device\")\n",
    "    else:\n",
    "        device = torch.device(\"cpu\")\n",
    "        print(\"Using CPU device\")\n",
    "    training_losses = []\n",
    "    validation_losses = []\n",
    "    inputs, outputs = examples\n",
    "    inputs, outputs = torch.tensor(inputs).to(device), torch.tensor(outputs).to(device)\n",
    "    validation_inputs, inputs = inputs[:1000], inputs[1000:]\n",
    "    validation_outputs, outputs = outputs[:1000], outputs[1000:]\n",
    "    # Input layer maps from the input context to our inner layers\n",
    "    input_layer = (torch.randn((context_window * 2 - 1, inner_layer_size),device=device) / 10).requires_grad_()\n",
    "    input_biases = (torch.randn(inner_layer_size, device=device) / 10).requires_grad_()\n",
    "    # Inner layers do whatever\n",
    "    inner_layers = [(torch.randn((inner_layer_size, inner_layer_size), device=device) / 10).requires_grad_() for _ in range(num_inner_layers)]\n",
    "    inner_biases = [(torch.randn(inner_layer_size, device=device)/10).requires_grad_() for _ in range(num_inner_layers)]\n",
    "    # Maps from our last layer to the next audio output value\n",
    "    output_layer = (torch.randn((inner_layer_size, 1), device=device) / 10).requires_grad_()\n",
    "    output_bias = (torch.randn(1, device=device) / 10).requires_grad_()\n",
    "    model = Model(input_layer, input_biases, inner_layers, inner_biases, output_layer, output_bias, device)\n",
    "    # Automatically adjusts learning rate for each param, uses momentum, etc.\n",
    "    optimizer = torch.optim.Adam([input_layer, input_biases] + inner_layers + inner_biases + [output_layer, output_bias], lr=0.001)\n",
    "    # Run a bunch of optimization steps\n",
    "    for epoch in range(50):\n",
    "        num_training_samps, _ = inputs.shape\n",
    "        epoch_indices = torch.randperm(num_training_samps)\n",
    "        # Shuffle the training inputs\n",
    "        inputs = inputs[epoch_indices]\n",
    "        outputs = outputs[epoch_indices]\n",
    "        epoch_training_losses = []\n",
    "        num_batches = num_training_samps//batch_size\n",
    "        for batch in range(num_batches):\n",
    "            #print(f\"batch {batch}/{num_batches}\")\n",
    "            batch_inputs = inputs[batch_size * batch : batch_size * (batch + 1)]\n",
    "            batch_outputs = outputs[batch_size * batch : batch_size * (batch + 1)]\n",
    "            # for inputs, outputs in \n",
    "            # Reset the gradients on each leaf node\n",
    "            optimizer.zero_grad()\n",
    "            # Run the model forward\n",
    "            vec = model.eval(batch_inputs)\n",
    "            error = vec - batch_outputs\n",
    "            loss = (error ** 2).mean()\n",
    "            loss.backward()\n",
    "            epoch_training_losses.append(loss.cpu().item())\n",
    "        training_losses.append(np.mean(epoch_training_losses))\n",
    "        with torch.no_grad():\n",
    "            vec = model.eval(validation_inputs)\n",
    "            error = vec - validation_outputs\n",
    "            loss = (error ** 2).mean()\n",
    "            validation_losses.append(loss.cpu().item())\n",
    "        if epoch % 1 == 0:\n",
    "            clear_output(wait=True)\n",
    "            plt.plot(training_losses, 'g')\n",
    "            plt.plot(validation_losses, 'r')\n",
    "            plt.yscale('log')\n",
    "            plt.show()\n",
    "        # Let the optimizer adjust the params\n",
    "        # Conceptually it's basically doing param -= param.grad * 0.01 for each param\n",
    "        # But it's doing stuff with momentum, normalization, etc. to make it converge faster\n",
    "        optimizer.step()\n",
    "    return model"
   ]
  },
  {
   "cell_type": "code",
   "execution_count": 38,
   "id": "90c13f15-56f6-4bb4-bc2d-502d1774d82c",
   "metadata": {},
   "outputs": [
    {
     "data": {
      "image/png": "[encoded data removed]",
      "text/plain": [
       "<Figure size 640x480 with 1 Axes>"
      ]
     },
     "metadata": {},
     "output_type": "display_data"
    }
   ],
   "source": [
    "model = train(passthru_data)"
   ]
  },
  {
   "cell_type": "markdown",
   "id": "bfc986b2-b707-43af-8534-dc608d1b7694",
   "metadata": {},
   "source": []
  },
  {
   "cell_type": "code",
   "execution_count": 39,
   "id": "0403b9e5-ded9-4ca5-aaf6-780dda49767c",
   "metadata": {},
   "outputs": [
    {
     "data": {
      "text/html": [
       "\n",
       "                <audio  controls=\"controls\" >\n",
       "                    <source src=\"data:audio/wav;base64,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\" type=\"audio/wav\" />\n",
       "                    Your browser does not support the audio element.\n",
       "                </audio>\n",
       "              "
      ],
      "text/plain": [
       "<IPython.lib.display.Audio object>"
      ]
     },
     "execution_count": 39,
     "metadata": {},
     "output_type": "execute_result"
    }
   ],
   "source": [
    "from IPython.display import Audio\n",
    "import numpy as np\n",
    "\n",
    "audio = read_audio_normalized(\"validation/1993.wav\")[:5000]\n",
    "\n",
    "sample_rate = 44100\n",
    "Audio(audio, rate=sample_rate)"
   ]
  },
  {
   "cell_type": "code",
   "execution_count": 40,
   "id": "19a0808c-9932-420f-8948-82ee4b26171f",
   "metadata": {},
   "outputs": [],
   "source": [
    "processed = model.apply_to_audio(audio)"
   ]
  },
  {
   "cell_type": "code",
   "execution_count": 41,
   "id": "3a2766a7-edc7-4cc2-ad3c-ec6d8c817394",
   "metadata": {},
   "outputs": [
    {
     "data": {
      "text/html": [
       "\n",
       "                <audio  controls=\"controls\" >\n",
       "                    <source src=\"data:audio/wav;base64,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\" type=\"audio/wav\" />\n",
       "                    Your browser does not support the audio element.\n",
       "                </audio>\n",
       "              "
      ],
      "text/plain": [
       "<IPython.lib.display.Audio object>"
      ]
     },
     "execution_count": 41,
     "metadata": {},
     "output_type": "execute_result"
    }
   ],
   "source": [
    "sample_rate = 44100\n",
    "Audio(processed, rate=sample_rate)"
   ]
  },
  {
   "cell_type": "code",
   "execution_count": 9,
   "id": "1e56ab47-5c1e-4efb-afbe-9f5aa1a380a4",
   "metadata": {},
   "outputs": [
    {
     "data": {
      "text/plain": [
       "array([-2.5503208e+03, -2.8200192e+08, -3.1123883e+13, -3.4350766e+18,\n",
       "       -3.7912238e+23, -4.1842906e+28, -4.6181205e+33,            nan,\n",
       "        1.8959191e+04,  1.8959191e+04,  1.8959191e+04,  1.8959191e+04,\n",
       "        1.8959191e+04,  1.8959191e+04,  1.8959191e+04,  1.8959191e+04,\n",
       "        1.8959191e+04,  1.8959191e+04,  1.8959191e+04,  1.8959191e+04,\n",
       "        1.8959191e+04,  1.8959191e+04,  1.8959191e+04,  1.8959191e+04,\n",
       "        1.8959191e+04,  1.8959191e+04,  1.8959191e+04,  1.8959191e+04,\n",
       "        1.8959191e+04,  1.8959191e+04,  1.8959191e+04,  1.8959191e+04,\n",
       "        1.8959191e+04,  1.8959191e+04,  1.8959191e+04,  1.8959191e+04,\n",
       "        1.8959191e+04,  1.8959191e+04,  1.8959191e+04,  1.8959191e+04,\n",
       "        1.8959191e+04,  1.8959191e+04,  1.8959191e+04,  1.8959191e+04,\n",
       "        1.8959191e+04,  1.8959191e+04,  1.8959191e+04,  1.8959191e+04,\n",
       "        1.8959191e+04,  1.8959191e+04], dtype=float32)"
      ]
     },
     "execution_count": 9,
     "metadata": {},
     "output_type": "execute_result"
    }
   ],
   "source": [
    "processed"
   ]
  },
  {
   "cell_type": "code",
   "execution_count": 10,
   "id": "97af1068-def9-408f-b9da-3c3df4ecf034",
   "metadata": {},
   "outputs": [
    {
     "data": {
      "text/plain": [
       "array([ 0.01637095,  0.00623655, -0.01016558, -0.02862578, -0.03731018,\n",
       "       -0.03012255, -0.02701986, -0.03349029, -0.03152577, -0.01713493,\n",
       "       -0.00818548, -0.00435   ,  0.00637687,  0.02394836,  0.03872899,\n",
       "        0.04972091,  0.05505317,  0.05329134,  0.04580748,  0.04300103,\n",
       "        0.04181609,  0.04134834,  0.04103652,  0.04346877,  0.04554242,\n",
       "        0.04736662,  0.04710156,  0.04396769,  0.03405157,  0.02503976,\n",
       "        0.02291933,  0.02192148,  0.01705697,  0.0169946 ,  0.02017525,\n",
       "        0.02316879,  0.03342792,  0.05396177,  0.07201659,  0.07572734,\n",
       "        0.07984346,  0.09000904,  0.08657894,  0.06626337,  0.05550532,\n",
       "        0.06755745,  0.08523808,  0.08957248,  0.08101282,  0.0703795 ],\n",
       "      dtype=float32)"
      ]
     },
     "execution_count": 10,
     "metadata": {},
     "output_type": "execute_result"
    }
   ],
   "source": [
    "audio[:50]"
   ]
  },
  {
   "cell_type": "code",
   "execution_count": 11,
   "id": "3cbf2040-9f4a-4ee0-b772-dc306353b11f",
   "metadata": {},
   "outputs": [
    {
     "data": {
      "text/plain": [
       "tensor([71, 69, 67,  5, 54, 88, 61, 30, 24, 57, 36, 32, 18, 92, 50, 76, 87, 40,\n",
       "        91, 79, 51, 94, 33, 44, 66,  9, 20, 81, 58, 72, 55, 37, 85,  0, 15, 46,\n",
       "        97, 12, 93, 59, 53, 14, 62, 42, 49,  6, 41, 21, 52, 43, 78, 98,  1, 13,\n",
       "        75, 19, 29, 38,  3, 83, 86, 11, 10, 89, 77, 60, 56, 65, 39,  8, 45, 73,\n",
       "         2, 96, 48, 31, 95, 70, 27, 84, 82, 47, 28,  4, 74, 34, 68, 17, 22, 99,\n",
       "        23, 64, 25,  7, 35, 63, 90, 26, 16, 80])"
      ]
     },
     "execution_count": 11,
     "metadata": {},
     "output_type": "execute_result"
    }
   ],
   "source": [
    "torch.randperm(100)"
   ]
  }
 ],
 "metadata": {
  "kernelspec": {
   "display_name": "Python 3 (ipykernel)",
   "language": "python",
   "name": "python3"
  },
  "language_info": {
   "codemirror_mode": {
    "name": "ipython",
    "version": 3
   },
   "file_extension": ".py",
   "mimetype": "text/x-python",
   "name": "python",
   "nbconvert_exporter": "python",
   "pygments_lexer": "ipython3",
   "version": "3.11.11"
  }
 },
 "nbformat": 4,
 "nbformat_minor": 5
}
