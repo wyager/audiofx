{
 "cells": [
  {
   "cell_type": "markdown",
   "id": "263a750a-808f-4c9c-af75-eac7febd4981",
   "metadata": {},
   "source": [
    "# Training Neural Networks to Emulate Audio Effects\n",
    "\n",
    "I'm gearing up to start a new job at an AI lab, working on RL systems, and I want to do a bit of hands-on NN work to gear up.\n",
    "\n",
    "Let's figure out how to train a model to emulate various audio effects, like distortion units or reverbs or whatever. For boilerplate stuff like loading audio data, I'll write a type signature and comment and have Claude fill out the details.\n",
    "\n",
    "I haven't read any literature on how to do stuff like this, so I'll probably do some stupid stuff here, call things by the wrong name, etc., but I find it's often more educational to go in blind sometimes. Basically everything I know about NNs is just from discussions with [my friend who works on neural compression codecs](https://danjacobellis.net).\n",
    "\n",
    "I figure an architecture that might work pretty well is to have the previous `m` input samples, $[i_n, i_{n+1}, ..., i_{n+m-1}, i_{n+m}]$, and the previous `m-1` output samples, $[o_n, o_{n+1}, ..., o_{n+m-1}]$, and train the network to generate the next output sample, $o_{n+m}$\n",
    "\n",
    "```\n",
    "                     .-------.\n",
    "[m prev inputs]----->|  The  |\n",
    "[m-1 prev outputs]-->| Model |-->[next output]\n",
    "                     '-------'\n",
    "```\n",
    "\n",
    "This architecture seems good to me because:\n",
    "\n",
    "1. It's easy to generate examples of input data\n",
    "2. It gives the model enough context to (theoretically) recover information like \"what is the current phase of this oscillator\"\n",
    "\n",
    "\n",
    "As for how to actually represent the audio, some initial thoughts:\n",
    "\n",
    "1. You could just pass in and extract straight up $[-1,1]$ float audio into/out of the model.\n",
    "   1. The model will have to grow hardware to implement a threshold detector ADC or something, which seems kind of wasteful\n",
    "   2. This fails to accurately capture entropy density in human audio perception. A signal with peak amplitude 0.01 is often just as clear to humans as a signal with peak amplitude 1.0. Which brings us to a possible improvement\n",
    "2. Pre- and post-process the audio with some sort of compander, like a $\\mu$-law\n",
    "   1. This will probably help the model maintain perceptual accuracy across wide volume ranges\n",
    "3. Encode a binary representation of the audio. This feels to me like it will probably be difficult for the model to reason about.\n",
    "4. Use some sort of one-hot encoding for the amplitude, probably in combination with a companding algorithm. This might be too expensive on the input side (since we have a lot of inputs), but could work well on the output side. We could have 256 different outputs for 8-bit audio, for example.\n",
    "   1. We could also possibly allow the network to output a continuous \"residual\" value for adding additional accuracy on top of the one-hot value.\n",
    "  \n",
    "For now, let's just try the first thing and see how it goes. I expect it will work OK for well-normalized (loud) audio and poorly for quiet audio.\n",
    "\n",
    "As for our loss function: probably some sort of perceptual similarity metric would be best, but let's start with a super simple metric like squared error in $\\mu$-law space."
   ]
  },
  {
   "cell_type": "markdown",
   "id": "c4a8cb6e-486e-43a0-9935-4c501337382f",
   "metadata": {},
   "source": [
    "First up, I need a bunch of training data. I took a bunch of songs from my music library and put them in the `examples` folder. (I'm old enought that I have about 75GB of local music files.) \n",
    "\n",
    "When we want to train a new effect, we'll have a bunch of training runs of the form:\n",
    "\n",
    "1. Pick a bunch of random song slices from the library\n",
    "2. Feed the song slices through the reference implementation of the effect (could be software or hardware)\n",
    "3. Train the model to predict the next sample of the effect across all I/O examples in the batch"
   ]
  },
  {
   "cell_type": "code",
   "execution_count": 1,
   "id": "08e73757-ce9d-47a5-b8e7-c416baae255a",
   "metadata": {},
   "outputs": [],
   "source": [
    "import os\n",
    "import numpy as np\n",
    "import torchaudio\n",
    "import random\n",
    "from pathlib import Path\n",
    "from typing import List, Tuple\n",
    "\n",
    "def list_audio_files(examples_dir: str = \"examples\") -> List[str]:\n",
    "    \"\"\"\n",
    "    List all audio files in the examples directory.\n",
    "    \n",
    "    Args:\n",
    "        examples_dir: Path to the examples directory\n",
    "        \n",
    "    Returns:\n",
    "        List of audio file paths\n",
    "    \"\"\"\n",
    "    audio_extensions = {'.mp3', '.m4a', '.wav', '.flac', '.aac', '.ogg', '.mp4'}\n",
    "    audio_files = []\n",
    "    \n",
    "    examples_path = Path(examples_dir)\n",
    "    if not examples_path.exists():\n",
    "        raise FileNotFoundError(f\"Examples directory '{examples_dir}' not found\")\n",
    "    \n",
    "    for file_path in examples_path.rglob('*'):\n",
    "        if file_path.is_file() and file_path.suffix.lower() in audio_extensions:\n",
    "            audio_files.append(str(file_path))\n",
    "    \n",
    "    return sorted(audio_files)\n",
    "\n",
    "def read_audio_normalized(file_path: str) -> np.ndarray:\n",
    "    \"\"\"\n",
    "    Read an audio file, convert to mono, and normalize so peak absolute value is 1.0.\n",
    "    \n",
    "    Args:\n",
    "        file_path: Path to the audio file\n",
    "        \n",
    "    Returns:\n",
    "        Normalized mono audio as float32 numpy array with shape (samples,)\n",
    "    \"\"\"\n",
    "    # Load audio using torchaudio (handles many formats)\n",
    "    try:\n",
    "        waveform, sample_rate = torchaudio.load(file_path)\n",
    "        \n",
    "        # Convert to numpy float32\n",
    "        audio = waveform.numpy().astype(np.float32)\n",
    "        \n",
    "        # Convert to mono by averaging channels if stereo/multi-channel\n",
    "        if audio.shape[0] > 1:\n",
    "            audio = np.mean(audio, axis=0)\n",
    "        else:\n",
    "            audio = audio.squeeze(0)\n",
    "        \n",
    "        # Normalize to peak amplitude of 1.0\n",
    "        peak = np.max(np.abs(audio))\n",
    "        if peak > 0:  # Avoid division by zero for silent audio\n",
    "            audio = audio / peak\n",
    "            \n",
    "        return audio\n",
    "        \n",
    "    except Exception as e:\n",
    "        raise RuntimeError(f\"Failed to load audio file '{file_path}': {str(e)}\")\n",
    "\n",
    "\n",
    "    "
   ]
  },
  {
   "cell_type": "markdown",
   "id": "3056538a-a779-42bf-b9ec-d16581055df0",
   "metadata": {},
   "source": [
    "OK, now let's write some code to generate input/output data for training the network.\n",
    "\n",
    "Our input tensor will be of shape `(batch size, m input samples + m-1 output samples)` and our output tensor will\n",
    "be of shape `(batch size, 1)`."
   ]
  },
  {
   "cell_type": "code",
   "execution_count": 20,
   "id": "96ab8760-943c-4714-b133-689acefa5b7c",
   "metadata": {},
   "outputs": [],
   "source": [
    "# TODO WYAGER: check Claude's work\n",
    "def generate_audio_pairs(audio_effect, file_count: int = 64) -> List[Tuple[np.ndarray, np.ndarray]]:\n",
    "    \"\"\"\n",
    "    TODO CLAUDE: Read in random audio files from examples directory and apply the effect to them,\n",
    "    creating pairs of (dry, wet) audio for training.\n",
    "\n",
    "    Args:\n",
    "        audio_effect: Function which takes in clean audio (f32 mono array) and outputs a\n",
    "            processed array of the same size\n",
    "        file_count: How many files to read and process\n",
    "\n",
    "    Returns:\n",
    "        List of (dry_audio, wet_audio) pairs as numpy arrays\n",
    "        \n",
    "    Raises:\n",
    "        ValueError: If not enough audio files are available\n",
    "        RuntimeError: If audio processing fails\n",
    "    \"\"\"\n",
    "    audio_files = list_audio_files()\n",
    "    \n",
    "    if len(audio_files) < file_count:\n",
    "        raise ValueError(f\"Not enough audio files: found {len(audio_files)}, need {file_count}\")\n",
    "    \n",
    "    # Sample random files without replacement\n",
    "    selected_files = random.sample(audio_files, file_count)\n",
    "    \n",
    "    audio_pairs = []\n",
    "    failed_files = []\n",
    "    \n",
    "    for file_path in selected_files:\n",
    "        try:\n",
    "            # Read and normalize the dry audio\n",
    "            dry_audio = read_audio_normalized(file_path)\n",
    "            \n",
    "            # Apply the effect to get wet audio\n",
    "            wet_audio = audio_effect(dry_audio)\n",
    "            \n",
    "            # Validate that effect preserved array shape\n",
    "            if wet_audio.shape != dry_audio.shape:\n",
    "                raise RuntimeError(f\"Audio effect changed shape: {dry_audio.shape} -> {wet_audio.shape}\")\n",
    "            \n",
    "            audio_pairs.append((dry_audio, wet_audio))\n",
    "            \n",
    "        except Exception as e:\n",
    "            failed_files.append((file_path, str(e)))\n",
    "            print(f\"Warning: Failed to process {file_path}: {e}\")\n",
    "    \n",
    "    if failed_files and len(audio_pairs) == 0:\n",
    "        raise RuntimeError(f\"All audio files failed to process: {failed_files}\")\n",
    "    \n",
    "    print(f\"Successfully processed {len(audio_pairs)} audio files ({len(failed_files)} failed)\")\n",
    "    return audio_pairs\n",
    "\n",
    "# TODO WYAGER: check Claude's work  \n",
    "def generate_slices_from_pairs(audio_pairs: List[Tuple[np.ndarray, np.ndarray]],\n",
    "                               context_window: int,\n",
    "                               slices_per_pair: int\n",
    "                               ) -> Tuple[np.ndarray, np.ndarray]:\n",
    "    \"\"\"\n",
    "    TODO CLAUDE: Given reference input/output dry/wet audio pairs,\n",
    "    create numpy arrays suitable for training the neural network.\n",
    "    Will generate randomly-selected slices from each audio pair.\n",
    "\n",
    "    Args:\n",
    "        audio_pairs: A list of (dry,wet) mono audio arrays (entire processed songs)\n",
    "        context_window: The number of historical input samples the neural network gets\n",
    "        slices_per_pair: The number of example slices we want for each input/output pair\n",
    "\n",
    "    Returns:\n",
    "        Tuple of (input_features, target_outputs):\n",
    "        - input_features: f32 array of shape (total_slices, context_window * 2 - 1)\n",
    "            Each row contains `context_window` input samples concatenated with \n",
    "            `context_window - 1` previous output samples\n",
    "        - target_outputs: f32 array of shape (total_slices, 1)\n",
    "            The next output sample corresponding to each input block\n",
    "            \n",
    "    Raises:\n",
    "        ValueError: If audio pairs are too short for the context window\n",
    "    \"\"\"\n",
    "    if not audio_pairs:\n",
    "        raise ValueError(\"No audio pairs provided\")\n",
    "    \n",
    "    total_slices = len(audio_pairs) * slices_per_pair\n",
    "    feature_size = context_window * 2 - 1\n",
    "    \n",
    "    # Pre-allocate output arrays\n",
    "    input_features = np.zeros((total_slices, feature_size), dtype=np.float32)\n",
    "    target_outputs = np.zeros((total_slices, 1), dtype=np.float32)\n",
    "    \n",
    "    slice_idx = 0\n",
    "    \n",
    "    for dry_audio, wet_audio in audio_pairs:\n",
    "        # Check minimum length requirement\n",
    "        min_length = context_window * 2  # Need context_window for input + context_window for output history + 1 for target\n",
    "        if len(dry_audio) < min_length:\n",
    "            print(f\"Warning: Audio pair too short ({len(dry_audio)} samples), need at least {min_length}. Skipping.\")\n",
    "            continue\n",
    "            \n",
    "        # Generate random slice positions for this pair\n",
    "        # Valid range: from context_window to len-1 (need context_window previous samples)\n",
    "        max_start = len(dry_audio) - context_window\n",
    "        slice_positions = np.random.randint(context_window, max_start + 1, size=slices_per_pair)\n",
    "        \n",
    "        for pos in slice_positions:\n",
    "            # Extract input context: previous context_window input samples\n",
    "            input_context = dry_audio[pos - context_window:pos]\n",
    "            \n",
    "            # Extract output context: previous context_window-1 output samples  \n",
    "            output_context = wet_audio[pos - context_window:pos - 1]\n",
    "            \n",
    "            # Combine input and output contexts\n",
    "            input_features[slice_idx] = np.concatenate([input_context, output_context])\n",
    "            \n",
    "            # Target is the next output sample\n",
    "            target_outputs[slice_idx, 0] = wet_audio[pos]\n",
    "            \n",
    "            slice_idx += 1\n",
    "    \n",
    "    # Trim arrays if some pairs were skipped\n",
    "    if slice_idx < total_slices:\n",
    "        input_features = input_features[:slice_idx]\n",
    "        target_outputs = target_outputs[:slice_idx]\n",
    "        print(f\"Generated {slice_idx} slices (some audio pairs were too short)\")\n",
    "    else:\n",
    "        print(f\"Generated {slice_idx} slices from {len(audio_pairs)} audio pairs\")\n",
    "    \n",
    "    return input_features, target_outputs"
   ]
  },
  {
   "cell_type": "markdown",
   "id": "e30d7846-e051-4d54-9e10-53212669ef8c",
   "metadata": {},
   "source": [
    "Let's try this with a \"passthrough\" audio effect that does nothing."
   ]
  },
  {
   "cell_type": "code",
   "execution_count": 3,
   "id": "f02b6e12-2c77-45eb-9a0d-1362c546bc8c",
   "metadata": {},
   "outputs": [
    {
     "name": "stderr",
     "output_type": "stream",
     "text": [
      "[src/libmpg123/id3.c:process_comment():587] error: No comment text / valid description?\n",
      "[src/libmpg123/id3.c:process_comment():587] error: No comment text / valid description?\n",
      "[src/libmpg123/id3.c:process_comment():587] error: No comment text / valid description?\n",
      "[src/libmpg123/id3.c:process_comment():587] error: No comment text / valid description?\n",
      "[src/libmpg123/id3.c:process_comment():587] error: No comment text / valid description?\n"
     ]
    },
    {
     "name": "stdout",
     "output_type": "stream",
     "text": [
      "Successfully processed 64 audio files (0 failed)\n",
      "Generated 16384 slices from 64 audio pairs\n"
     ]
    }
   ],
   "source": [
    "context_window = 128\n",
    "slices_per_pair = 256\n",
    "file_count = 64\n",
    "\n",
    "effect = lambda x : x # Do nothing to the audio\n",
    "passthru_data = \\\n",
    "    generate_slices_from_pairs(generate_audio_pairs(effect, \n",
    "                                                    file_count = file_count),\n",
    "                               context_window, \n",
    "                               slices_per_pair)"
   ]
  },
  {
   "cell_type": "markdown",
   "id": "799b5bb0-bdd1-410f-ad38-999fd7ef9cbb",
   "metadata": {},
   "source": [
    "Now for our actual training:"
   ]
  },
  {
   "cell_type": "code",
   "execution_count": 34,
   "id": "26a7d6b8-fb07-4570-a37b-e04f41a6f666",
   "metadata": {},
   "outputs": [],
   "source": [
    "import torch\n",
    "import matplotlib.pyplot as plt\n",
    "from IPython.display import clear_output\n",
    "\n",
    "inner_layer_size = 1024\n",
    "num_inner_layers = 5\n",
    "\n",
    "class Model:\n",
    "    def __init__(self, input_layer, input_biases, inner_layers, inner_biases, output_layer, output_bias, device):\n",
    "        self.input_layer, self.input_biases, self.inner_layers, self.inner_biases, self.output_layer, self.output_bias = \\\n",
    "            input_layer, input_biases, inner_layers, inner_biases, output_layer, output_bias\n",
    "        self.device = device\n",
    "    # TODO claude: Add a type here\n",
    "    def eval(self, inputs):\n",
    "        # Run the model forward\n",
    "        vec = torch.relu(inputs @ self.input_layer + self.input_biases)\n",
    "        for i,layer in enumerate(self.inner_layers):\n",
    "            bias = self.inner_biases[i]\n",
    "            vec = torch.relu(vec @ layer + bias)\n",
    "        vec = torch.relu(vec @ self.output_layer + self.output_bias)\n",
    "        return vec\n",
    "    def to_numpy(self):\n",
    "        return Model(\n",
    "            self.input_layer.cpu().detach().numpy(), \n",
    "            self.input_biases.cpu().detach().numpy(), \n",
    "            [l.cpu().detach().numpy() for l in self.inner_layers], \n",
    "            [b.cpu().detach().numpy() for b in self.inner_biases], \n",
    "            self.output_layer.cpu().detach().numpy(), \n",
    "            self.output_bias.cpu().detach().numpy())\n",
    "    def apply_to_audio(self, audio):\n",
    "        inputs = np.zeros(context_window*2 - 1).astype('float32')\n",
    "        outputs = np.zeros(audio.shape).astype('float32')\n",
    "        for i,sample in enumerate(audio):\n",
    "            if i % 1000 == 0:\n",
    "                clear_output(wait=True)\n",
    "                print(i)\n",
    "            # Shift on the new input sample\n",
    "            inputs[:context_window - 1] = inputs[1:context_window]\n",
    "            inputs[context_window - 1] = sample\n",
    "            with torch.no_grad():\n",
    "                output = self.eval(torch.from_numpy(inputs).to(self.device)).item()\n",
    "            # Shift on the new output sample (which we just generated)\n",
    "            inputs[context_window:-1] = inputs[context_window + 1:]\n",
    "            inputs[-1] = output\n",
    "\n",
    "            outputs[i] = output\n",
    "        return outputs\n",
    "            \n",
    "\n",
    "def train(examples):\n",
    "    if torch.backends.mps.is_available():\n",
    "        device = torch.device(\"mps\")\n",
    "        print(\"Using MPS (GPU) device\")\n",
    "    elif torch.cuda.is_available():\n",
    "        device = torch.device(\"cuda\")\n",
    "        print(\"Using CUDA device\")\n",
    "    else:\n",
    "        device = torch.device(\"cpu\")\n",
    "        print(\"Using CPU device\")\n",
    "    losses = []\n",
    "    inputs, outputs = examples\n",
    "    inputs, outputs = torch.tensor(inputs).to(device), torch.tensor(outputs).to(device)\n",
    "    (samp_count, _) = inputs.shape\n",
    "    # Input layer maps from the input context to our inner layers\n",
    "    input_layer = torch.randn((context_window * 2 - 1, inner_layer_size), requires_grad = True, device=device)\n",
    "    input_biases = torch.randn(inner_layer_size, requires_grad = True, device=device)\n",
    "    # Inner layers do whatever\n",
    "    inner_layers = [torch.randn((inner_layer_size, inner_layer_size), requires_grad=True, device=device) for _ in range(num_inner_layers)]\n",
    "    inner_biases = [torch.randn(inner_layer_size, requires_grad = True, device=device) for _ in range(num_inner_layers)]\n",
    "    # Maps from our last layer to the next audio output value\n",
    "    output_layer = torch.randn((inner_layer_size, 1), requires_grad = True, device=device)\n",
    "    output_bias = torch.randn(1, requires_grad = True, device=device)\n",
    "    model = Model(input_layer, input_biases, inner_layers, inner_biases, output_layer, output_bias, device)\n",
    "    ins = torch.tensor(inputs).to(device)\n",
    "    outs = torch.tensor(outputs).to(device)\n",
    "    # Automatically adjusts learning rate for each param, uses momentum, etc.\n",
    "    optimizer = torch.optim.Adam([input_layer, input_biases] + inner_layers + inner_biases + [output_layer, output_bias], lr=0.01)\n",
    "    # Run a bunch of optimization steps\n",
    "    for step in range(20):\n",
    "        # Reset the gradients on each leaf node\n",
    "        optimizer.zero_grad()\n",
    "        # Run the model forward\n",
    "        vec = model.eval(inputs)\n",
    "        error = vec - outputs\n",
    "        # Squared error\n",
    "        loss = (error ** 2).sum() / samp_count\n",
    "        loss.backward()\n",
    "        losses.append(loss.cpu().item())\n",
    "        if step % 10 == 0:\n",
    "            clear_output(wait=True)\n",
    "            plt.plot(losses)\n",
    "            plt.show()\n",
    "        # Let the optimizer adjust the params\n",
    "        # Conceptually it's basically doing param -= param.grad * 0.01 for each param\n",
    "        # But it's doing stuff with momentum, normalization, etc. to make it converge faster\n",
    "        optimizer.step()\n",
    "    return model"
   ]
  },
  {
   "cell_type": "code",
   "execution_count": 35,
   "id": "90c13f15-56f6-4bb4-bc2d-502d1774d82c",
   "metadata": {},
   "outputs": [
    {
     "data": {
      "image/png": "[encoded data removed]",
      "text/plain": [
       "<Figure size 640x480 with 1 Axes>"
      ]
     },
     "metadata": {},
     "output_type": "display_data"
    }
   ],
   "source": [
    "model = train(passthru_data)"
   ]
  },
  {
   "cell_type": "markdown",
   "id": "bfc986b2-b707-43af-8534-dc608d1b7694",
   "metadata": {},
   "source": [
    "OK, cool, that converged pretty much instantly. Let's sanity check that this sounds OK."
   ]
  },
  {
   "cell_type": "code",
   "execution_count": 36,
   "id": "0403b9e5-ded9-4ca5-aaf6-780dda49767c",
   "metadata": {},
   "outputs": [
    {
     "data": {
      "text/html": [
       "\n",
       "                <audio  controls=\"controls\" >\n",
       "                    <source src=\"data:audio/wav;base64,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\" type=\"audio/wav\" />\n",
       "                    Your browser does not support the audio element.\n",
       "                </audio>\n",
       "              "
      ],
      "text/plain": [
       "<IPython.lib.display.Audio object>"
      ]
     },
     "execution_count": 36,
     "metadata": {},
     "output_type": "execute_result"
    }
   ],
   "source": [
    "from IPython.display import Audio\n",
    "import numpy as np\n",
    "\n",
    "audio = read_audio_normalized(\"validation/1993.wav\")[:5000]\n",
    "\n",
    "sample_rate = 44100\n",
    "Audio(audio, rate=sample_rate)"
   ]
  },
  {
   "cell_type": "code",
   "execution_count": 37,
   "id": "19a0808c-9932-420f-8948-82ee4b26171f",
   "metadata": {},
   "outputs": [
    {
     "name": "stdout",
     "output_type": "stream",
     "text": [
      "4000\n"
     ]
    }
   ],
   "source": [
    "processed = model.apply_to_audio(audio)"
   ]
  },
  {
   "cell_type": "code",
   "execution_count": 38,
   "id": "3a2766a7-edc7-4cc2-ad3c-ec6d8c817394",
   "metadata": {},
   "outputs": [
    {
     "name": "stderr",
     "output_type": "stream",
     "text": [
      "/Users/will/.venv/3.11/lib/python3.11/site-packages/IPython/lib/display.py:187: RuntimeWarning: invalid value encountered in divide\n",
      "  scaled = data / normalization_factor * 32767\n",
      "/Users/will/.venv/3.11/lib/python3.11/site-packages/IPython/lib/display.py:188: RuntimeWarning: invalid value encountered in cast\n",
      "  return scaled.astype(\"<h\").tobytes(), nchan\n"
     ]
    },
    {
     "data": {
      "text/html": [
       "\n",
       "                <audio  controls=\"controls\" >\n",
       "                    <source src=\"data:audio/wav;base64,UklGRjQnAABXQVZFZm10IBAAAAABAAEARKwAAIhYAQACABAAZGF0YRAnAAAAAAAAAAAAAAAAAAAAAAAAAAAAAAAAAAAAAAAAAAAAAAAAAAAAAAAAAAAAAAAAAAAAAAAAAAAAAAAAAAAAAAAAAAAAAAAAAAAAAAAAAAAAAAAAAAAAAAAAAAAAAAAAAAAAAAAAAAAAAAAAAAAAAAAAAAAAAAAAAAAAAAAAAAAAAAAAAAAAAAAAAAAAAAAAAAAAAAAAAAAAAAAAAAAAAAAAAAAAAAAAAAAAAAAAAAAAAAAAAAAAAAAAAAAAAAAAAAAAAAAAAAAAAAAAAAAAAAAAAAAAAAAAAAAAAAAAAAAAAAAAAAAAAAAAAAAAAAAAAAAAAAAAAAAAAAAAAAAAAAAAAAAAAAAAAAAAAAAAAAAAAAAAAAAAAAAAAAAAAAAAAAAAAAAAAAAAAAAAAAAAAAAAAAAAAAAAAAAAAAAAAAAAAAAAAAAAAAAAAAAAAAAAAAAAAAAAAAAAAAAAAAAAAAAAAAAAAAAAAAAAAAAAAAAAAAAAAAAAAAAAAAAAAAAAAAAAAAAAAAAAAAAAAAAAAAAAAAAAAAAAAAAAAAAAAAAAAAAAAAAAAAAAAAAAAAAAAAAAAAAAAAAAAAAAAAAAAAAAAAAAAAAAAAAAAAAAAAAAAAAAAAAAAAAAAAAAAAAAAAAAAAAAAAAAAAAAAAAAAAAAAAAAAAAAAAAAAAAAAAAAAAAAAAAAAAAAAAAAAAAAAAAAAAAAAAAAAAAAAAAAAAAAAAAAAAAAAAAAAAAAAAAAAAAAAAAAAAAAAAAAAAAAAAAAAAAAAAAAAAAAAAAAAAAAAAAAAAAAAAAAAAAAAAAAAAAAAAAAAAAAAAAAAAAAAAAAAAAAAAAAAAAAAAAAAAAAAAAAAAAAAAAAAAAAAAAAAAAAAAAAAAAAAAAAAAAAAAAAAAAAAAAAAAAAAAAAAAAAAAAAAAAAAAAAAAAAAAAAAAAAAAAAAAAAAAAAAAAAAAAAAAAAAAAAAAAAAAAAAAAAAAAAAAAAAAAAAAAAAAAAAAAAAAAAAAAAAAAAAAAAAAAAAAAAAAAAAAAAAAAAAAAAAAAAAAAAAAAAAAAAAAAAAAAAAAAAAAAAAAAAAAAAAAAAAAAAAAAAAAAAAAAAAAAAAAAAAAAAAAAAAAAAAAAAAAAAAAAAAAAAAAAAAAAAAAAAAAAAAAAAAAAAAAAAAAAAAAAAAAAAAAAAAAAAAAAAAAAAAAAAAAAAAAAAAAAAAAAAAAAAAAAAAAAAAAAAAAAAAAAAAAAAAAAAAAAAAAAAAAAAAAAAAAAAAAAAAAAAAAAAAAAAAAAAAAAAAAAAAAAAAAAAAAAAAAAAAAAAAAAAAAAAAAAAAAAAAAAAAAAAAAAAAAAAAAAAAAAAAAAAAAAAAAAAAAAAAAAAAAAAAAAAAAAAAAAAAAAAAAAAAAAAAAAAAAAAAAAAAAAAAAAAAAAAAAAAAAAAAAAAAAAAAAAAAAAAAAAAAAAAAAAAAAAAAAAAAAAAAAAAAAAAAAAAAAAAAAAAAAAAAAAAAAAAAAAAAAAAAAAAAAAAAAAAAAAAAAAAAAAAAAAAAAAAAAAAAAAAAAAAAAAAAAAAAAAAAAAAAAAAAAAAAAAAAAAAAAAAAAAAAAAAAAAAAAAAAAAAAAAAAAAAAAAAAAAAAAAAAAAAAAAAAAAAAAAAAAAAAAAAAAAAAAAAAAAAAAAAAAAAAAAAAAAAAAAAAAAAAAAAAAAAAAAAAAAAAAAAAAAAAAAAAAAAAAAAAAAAAAAAAAAAAAAAAAAAAAAAAAAAAAAAAAAAAAAAAAAAAAAAAAAAAAAAAAAAAAAAAAAAAAAAAAAAAAAAAAAAAAAAAAAAAAAAAAAAAAAAAAAAAAAAAAAAAAAAAAAAAAAAAAAAAAAAAAAAAAAAAAAAAAAAAAAAAAAAAAAAAAAAAAAAAAAAAAAAAAAAAAAAAAAAAAAAAAAAAAAAAAAAAAAAAAAAAAAAAAAAAAAAAAAAAAAAAAAAAAAAAAAAAAAAAAAAAAAAAAAAAAAAAAAAAAAAAAAAAAAAAAAAAAAAAAAAAAAAAAAAAAAAAAAAAAAAAAAAAAAAAAAAAAAAAAAAAAAAAAAAAAAAAAAAAAAAAAAAAAAAAAAAAAAAAAAAAAAAAAAAAAAAAAAAAAAAAAAAAAAAAAAAAAAAAAAAAAAAAAAAAAAAAAAAAAAAAAAAAAAAAAAAAAAAAAAAAAAAAAAAAAAAAAAAAAAAAAAAAAAAAAAAAAAAAAAAAAAAAAAAAAAAAAAAAAAAAAAAAAAAAAAAAAAAAAAAAAAAAAAAAAAAAAAAAAAAAAAAAAAAAAAAAAAAAAAAAAAAAAAAAAAAAAAAAAAAAAAAAAAAAAAAAAAAAAAAAAAAAAAAAAAAAAAAAAAAAAAAAAAAAAAAAAAAAAAAAAAAAAAAAAAAAAAAAAAAAAAAAAAAAAAAAAAAAAAAAAAAAAAAAAAAAAAAAAAAAAAAAAAAAAAAAAAAAAAAAAAAAAAAAAAAAAAAAAAAAAAAAAAAAAAAAAAAAAAAAAAAAAAAAAAAAAAAAAAAAAAAAAAAAAAAAAAAAAAAAAAAAAAAAAAAAAAAAAAAAAAAAAAAAAAAAAAAAAAAAAAAAAAAAAAAAAAAAAAAAAAAAAAAAAAAAAAAAAAAAAAAAAAAAAAAAAAAAAAAAAAAAAAAAAAAAAAAAAAAAAAAAAAAAAAAAAAAAAAAAAAAAAAAAAAAAAAAAAAAAAAAAAAAAAAAAAAAAAAAAAAAAAAAAAAAAAAAAAAAAAAAAAAAAAAAAAAAAAAAAAAAAAAAAAAAAAAAAAAAAAAAAAAAAAAAAAAAAAAAAAAAAAAAAAAAAAAAAAAAAAAAAAAAAAAAAAAAAAAAAAAAAAAAAAAAAAAAAAAAAAAAAAAAAAAAAAAAAAAAAAAAAAAAAAAAAAAAAAAAAAAAAAAAAAAAAAAAAAAAAAAAAAAAAAAAAAAAAAAAAAAAAAAAAAAAAAAAAAAAAAAAAAAAAAAAAAAAAAAAAAAAAAAAAAAAAAAAAAAAAAAAAAAAAAAAAAAAAAAAAAAAAAAAAAAAAAAAAAAAAAAAAAAAAAAAAAAAAAAAAAAAAAAAAAAAAAAAAAAAAAAAAAAAAAAAAAAAAAAAAAAAAAAAAAAAAAAAAAAAAAAAAAAAAAAAAAAAAAAAAAAAAAAAAAAAAAAAAAAAAAAAAAAAAAAAAAAAAAAAAAAAAAAAAAAAAAAAAAAAAAAAAAAAAAAAAAAAAAAAAAAAAAAAAAAAAAAAAAAAAAAAAAAAAAAAAAAAAAAAAAAAAAAAAAAAAAAAAAAAAAAAAAAAAAAAAAAAAAAAAAAAAAAAAAAAAAAAAAAAAAAAAAAAAAAAAAAAAAAAAAAAAAAAAAAAAAAAAAAAAAAAAAAAAAAAAAAAAAAAAAAAAAAAAAAAAAAAAAAAAAAAAAAAAAAAAAAAAAAAAAAAAAAAAAAAAAAAAAAAAAAAAAAAAAAAAAAAAAAAAAAAAAAAAAAAAAAAAAAAAAAAAAAAAAAAAAAAAAAAAAAAAAAAAAAAAAAAAAAAAAAAAAAAAAAAAAAAAAAAAAAAAAAAAAAAAAAAAAAAAAAAAAAAAAAAAAAAAAAAAAAAAAAAAAAAAAAAAAAAAAAAAAAAAAAAAAAAAAAAAAAAAAAAAAAAAAAAAAAAAAAAAAAAAAAAAAAAAAAAAAAAAAAAAAAAAAAAAAAAAAAAAAAAAAAAAAAAAAAAAAAAAAAAAAAAAAAAAAAAAAAAAAAAAAAAAAAAAAAAAAAAAAAAAAAAAAAAAAAAAAAAAAAAAAAAAAAAAAAAAAAAAAAAAAAAAAAAAAAAAAAAAAAAAAAAAAAAAAAAAAAAAAAAAAAAAAAAAAAAAAAAAAAAAAAAAAAAAAAAAAAAAAAAAAAAAAAAAAAAAAAAAAAAAAAAAAAAAAAAAAAAAAAAAAAAAAAAAAAAAAAAAAAAAAAAAAAAAAAAAAAAAAAAAAAAAAAAAAAAAAAAAAAAAAAAAAAAAAAAAAAAAAAAAAAAAAAAAAAAAAAAAAAAAAAAAAAAAAAAAAAAAAAAAAAAAAAAAAAAAAAAAAAAAAAAAAAAAAAAAAAAAAAAAAAAAAAAAAAAAAAAAAAAAAAAAAAAAAAAAAAAAAAAAAAAAAAAAAAAAAAAAAAAAAAAAAAAAAAAAAAAAAAAAAAAAAAAAAAAAAAAAAAAAAAAAAAAAAAAAAAAAAAAAAAAAAAAAAAAAAAAAAAAAAAAAAAAAAAAAAAAAAAAAAAAAAAAAAAAAAAAAAAAAAAAAAAAAAAAAAAAAAAAAAAAAAAAAAAAAAAAAAAAAAAAAAAAAAAAAAAAAAAAAAAAAAAAAAAAAAAAAAAAAAAAAAAAAAAAAAAAAAAAAAAAAAAAAAAAAAAAAAAAAAAAAAAAAAAAAAAAAAAAAAAAAAAAAAAAAAAAAAAAAAAAAAAAAAAAAAAAAAAAAAAAAAAAAAAAAAAAAAAAAAAAAAAAAAAAAAAAAAAAAAAAAAAAAAAAAAAAAAAAAAAAAAAAAAAAAAAAAAAAAAAAAAAAAAAAAAAAAAAAAAAAAAAAAAAAAAAAAAAAAAAAAAAAAAAAAAAAAAAAAAAAAAAAAAAAAAAAAAAAAAAAAAAAAAAAAAAAAAAAAAAAAAAAAAAAAAAAAAAAAAAAAAAAAAAAAAAAAAAAAAAAAAAAAAAAAAAAAAAAAAAAAAAAAAAAAAAAAAAAAAAAAAAAAAAAAAAAAAAAAAAAAAAAAAAAAAAAAAAAAAAAAAAAAAAAAAAAAAAAAAAAAAAAAAAAAAAAAAAAAAAAAAAAAAAAAAAAAAAAAAAAAAAAAAAAAAAAAAAAAAAAAAAAAAAAAAAAAAAAAAAAAAAAAAAAAAAAAAAAAAAAAAAAAAAAAAAAAAAAAAAAAAAAAAAAAAAAAAAAAAAAAAAAAAAAAAAAAAAAAAAAAAAAAAAAAAAAAAAAAAAAAAAAAAAAAAAAAAAAAAAAAAAAAAAAAAAAAAAAAAAAAAAAAAAAAAAAAAAAAAAAAAAAAAAAAAAAAAAAAAAAAAAAAAAAAAAAAAAAAAAAAAAAAAAAAAAAAAAAAAAAAAAAAAAAAAAAAAAAAAAAAAAAAAAAAAAAAAAAAAAAAAAAAAAAAAAAAAAAAAAAAAAAAAAAAAAAAAAAAAAAAAAAAAAAAAAAAAAAAAAAAAAAAAAAAAAAAAAAAAAAAAAAAAAAAAAAAAAAAAAAAAAAAAAAAAAAAAAAAAAAAAAAAAAAAAAAAAAAAAAAAAAAAAAAAAAAAAAAAAAAAAAAAAAAAAAAAAAAAAAAAAAAAAAAAAAAAAAAAAAAAAAAAAAAAAAAAAAAAAAAAAAAAAAAAAAAAAAAAAAAAAAAAAAAAAAAAAAAAAAAAAAAAAAAAAAAAAAAAAAAAAAAAAAAAAAAAAAAAAAAAAAAAAAAAAAAAAAAAAAAAAAAAAAAAAAAAAAAAAAAAAAAAAAAAAAAAAAAAAAAAAAAAAAAAAAAAAAAAAAAAAAAAAAAAAAAAAAAAAAAAAAAAAAAAAAAAAAAAAAAAAAAAAAAAAAAAAAAAAAAAAAAAAAAAAAAAAAAAAAAAAAAAAAAAAAAAAAAAAAAAAAAAAAAAAAAAAAAAAAAAAAAAAAAAAAAAAAAAAAAAAAAAAAAAAAAAAAAAAAAAAAAAAAAAAAAAAAAAAAAAAAAAAAAAAAAAAAAAAAAAAAAAAAAAAAAAAAAAAAAAAAAAAAAAAAAAAAAAAAAAAAAAAAAAAAAAAAAAAAAAAAAAAAAAAAAAAAAAAAAAAAAAAAAAAAAAAAAAAAAAAAAAAAAAAAAAAAAAAAAAAAAAAAAAAAAAAAAAAAAAAAAAAAAAAAAAAAAAAAAAAAAAAAAAAAAAAAAAAAAAAAAAAAAAAAAAAAAAAAAAAAAAAAAAAAAAAAAAAAAAAAAAAAAAAAAAAAAAAAAAAAAAAAAAAAAAAAAAAAAAAAAAAAAAAAAAAAAAAAAAAAAAAAAAAAAAAAAAAAAAAAAAAAAAAAAAAAAAAAAAAAAAAAAAAAAAAAAAAAAAAAAAAAAAAAAAAAAAAAAAAAAAAAAAAAAAAAAAAAAAAAAAAAAAAAAAAAAAAAAAAAAAAAAAAAAAAAAAAAAAAAAAAAAAAAAAAAAAAAAAAAAAAAAAAAAAAAAAAAAAAAAAAAAAAAAAAAAAAAAAAAAAAAAAAAAAAAAAAAAAAAAAAAAAAAAAAAAAAAAAAAAAAAAAAAAAAAAAAAAAAAAAAAAAAAAAAAAAAAAAAAAAAAAAAAAAAAAAAAAAAAAAAAAAAAAAAAAAAAAAAAAAAAAAAAAAAAAAAAAAAAAAAAAAAAAAAAAAAAAAAAAAAAAAAAAAAAAAAAAAAAAAAAAAAAAAAAAAAAAAAAAAAAAAAAAAAAAAAAAAAAAAAAAAAAAAAAAAAAAAAAAAAAAAAAAAAAAAAAAAAAAAAAAAAAAAAAAAAAAAAAAAAAAAAAAAAAAAAAAAAAAAAAAAAAAAAAAAAAAAAAAAAAAAAAAAAAAAAAAAAAAAAAAAAAAAAAAAAAAAAAAAAAAAAAAAAAAAAAAAAAAAAAAAAAAAAAAAAAAAAAAAAAAAAAAAAAAAAAAAAAAAAAAAAAAAAAAAAAAAAAAAAAAAAAAAAAAAAAAAAAAAAAAAAAAAAAAAAAAAAAAAAAAAAAAAAAAAAAAAAAAAAAAAAAAAAAAAAAAAAAAAAAAAAAAAAAAAAAAAAAAAAAAAAAAAAAAAAAAAAAAAAAAAAAAAAAAAAAAAAAAAAAAAAAAAAAAAAAAAAAAAAAAAAAAAAAAAAAAAAAAAAAAAAAAAAAAAAAAAAAAAAAAAAAAAAAAAAAAAAAAAAAAAAAAAAAAAAAAAAAAAAAAAAAAAAAAAAAAAAAAAAAAAAAAAAAAAAAAAAAAAAAAAAAAAAAAAAAAAAAAAAAAAAAAAAAAAAAAAAAAAAAAAAAAAAAAAAAAAAAAAAAAAAAAAAAAAAAAAAAAAAAAAAAAAAAAAAAAAAAAAAAAAAAAAAAAAAAAAAAAAAAAAAAAAAAAAAAAAAAAAAAAAAAAAAAAAAAAAAAAAAAAAAAAAAAAAAAAAAAAAAAAAAAAAAAAAAAAAAAAAAAAAAAAAAAAAAAAAAAAAAAAAAAAAAAAAAAAAAAAAAAAAAAAAAAAAAAAAAAAAAAAAAAAAAAAAAAAAAAAAAAAAAAAAAAAAAAAAAAAAAAAAAAAAAAAAAAAAAAAAAAAAAAAAAAAAAAAAAAAAAAAAAAAAAAAAAAAAAAAAAAAAAAAAAAAAAAAAAAAAAAAAAAAAAAAAAAAAAAAAAAAAAAAAAAAAAAAAAAAAAAAAAAAAAAAAAAAAAAAAAAAAAAAAAAAAAAAAAAAAAAAAAAAAAAAAAAAAAAAAAAAAAAAAAAAAAAAAAAAAAAAAAAAAAAAAAAAAAAAAAAAAAAAAAAAAAAAAAAAAAAAAAAAAAAAAAAAAAAAAAAAAAAAAAAAAAAAAAAAAAAAAAAAAAAAAAAAAAAAAAAAAAAAAAAAAAAAAAAAAAAAAAAAAAAAAAAAAAAAAAAAAAAAAAAAAAAAAAAAAAAAAAAAAAAAAAAAAAAAAAAAAAAAAAAAAAAAAAAAAAAAAAAAAAAAAAAAAAAAAAAAAAAAAAAAAAAAAAAAAAAAAAAAAAAAAAAAAAAAAAAAAAAAAAAAAAAAAAAAAAAAAAAAAAAAAAAAAAAAAAAAAAAAAAAAAAAAAAAAAAAAAAAAAAAAAAAAAAAAAAAAAAAAAAAAAAAAAAAAAAAAAAAAAAAAAAAAAAAAAAAAAAAAAAAAAAAAAAAAAAAAAAAAAAAAAAAAAAAAAAAAAAAAAAAAAAAAAAAAAAAAAAAAAAAAAAAAAAAAAAAAAAAAAAAAAAAAAAAAAAAAAAAAAAAAAAAAAAAAAAAAAAAAAAAAAAAAAAAAAAAAAAAAAAAAAAAAAAAAAAAAAAAAAAAAAAAAAAAAAAAAAAAAAAAAAAAAAAAAAAAAAAAAAAAAAAAAAAAAAAAAAAAAAAAAAAAAAAAAAAAAAAAAAAAAAAAAAAAAAAAAAAAAAAAAAAAAAAAAAAAAAAAAAAAAAAAAAAAAAAAAAAAAAAAAAAAAAAAAAAAAAAAAAAAAAAAAAAAAAAAAAAAAAAAAAAAAAAAAAAAAAAAAAAAAAAAAAAAAAAAAAAAAAAAAAAAAAAAAAAAAAAAAAAAAAAAAAAAAAAAAAAAAAAAAAAAAAAAAAAAAAAAAAAAAAAAAAAAAAAAAAAAAAAAAAAAAAAAAAAAAAAAAAAAAAAAAAAAAAAAAAAAAAAAAAAAAAAAAAAAAAAAAAAAAAAAAAAAAAAAAAAAAAAAAAAAAAAAAAAAAAAAAAAAAAAAAAAAAAAAAAAAAAAAAAAAAAAAAAAAAAAAAAAAAAAAAAAAAAAAAAAAAAAAAAAAAAAAAAAAAAAAAAAAAAAAAAAAAAAAAAAAAAAAAAAAAAAAAAAAAAAAAAAAAAAAAAAAAAAAAAAAAAAAAAAAAAAAAAAAAAAAAAAAAAAAAAAAAAAAAAAAAAAAAAAAAAAAAAAAAAAAAAAAAAAAAAAAAAAAAAAAAAAAAAAAAAAAAAAAAAAAAAAAAAAAAAAAAAAAAAAAAAAAAAAAAAAAAAAAAAAAAAAAAAAAAAAAAAAAAAAAAAAAAAAAAAAAAAAAAAAAAAAAAAAAAAAAAAAAAAAAAAAAAAAAAAAAAAAAAAAAAAAAAAAAAAAAAAAAAAAAAAAAAAAAAAAAAAAAAAAAAAAAAAAAAAAAAAAAAAAAAAAAAAAAAAAAAAAAAAAAAAAAAAAAAAAAAAAAAAAAAAAAAAAAAAAAAAAAAAAAAAAAAAAAAAAAAAAAAAAAAAAAAAAAAAAAAAAAAAAAAAAAAAAAAAAAAAAAAAAAAAAAAAAAAAAAAAAAAAAAAAAAAAAAAAAAAAAAAAAAAAAAAAAAAAAAAAAAAAAAAAAAAAAAAAAAAAAAAAAAAAAAAAAAAAAAAAAAAAAAAAAAAAAAAAAAAAAAAAAAAAAAAAAAAAAAAAAAAAAAAAAAAAAAAAAAAAAAAAAAAAAAAAAAAAAAAAAAAAAAAAAAAAAAAAAAAAAAAAAAAAAAAAAAAAAAAAAAAAAAAAAAAAAAAAAAAAAAAAAAAAAAAAAAAAAAAAAAAAAAAAAAAAAAAAAAAAAAAAAAAAAAAAAAAAAAAAAAAAAAAAAAAAAAAAAAAAAAAAAAAAAAAAAAAAAAAAAAAAAAAAAAAAAAAAAAAAAAAAAAAAAAAAAAAAAAAAAAAAAAAAAAAAAAAAAAAAAAAAAAAAAAAAAAAAAAAAAAAAAAAAAAAAAAAAAAAAAAAAAAAAAAAAAAAAAAAAAAAAAAAAAAAAAAAAAAAAAAAAAAAAAAAAAAAAAAAAAAAAAAAAAAAAAAAAAAAAAAAAAAAAAAAAAAAAAAAAAAAAAAAAAAAAAAAAAAAAAAAAAAAAAAAAAAAAAAAAAAAAAAAAAAAAAAAAAAAAAAAAAAAAAAAAAAAAAAAAAAAAAAAAAAAAAAAAAAAAAAAAAAAAAAAAAAAAAAAAAAAAAAAAAAAAAAAAAAAAAAAAAAAAAAAAAAAAAAAAAAAAAAAAAAAAAAAAAAAAAAAAAAAAAAAAAAAAAAAAAAAAAAAAAAAAAAAAAAAAAAAAAAAAAAAAAAAAAAAAAAAAAAAAAAAAAAAAAAAAAAAAAAAAAAAAAAAAAAAAAAAAAAAAAAAAAAAAAAAAAAAAAAAAAAAAAAAAAAAAAAAAAAAAAAAAAAAAAAAAAAAAAAAAAAAAAAAAAAAAAAAAAAAAAAAAAAAAAAAAAAAAAAAAAAAAAAAAAAAAAAAAAAAAAAAAAAAAAAAAAAAAAAAAAAAAAAAAAAAAAAAAAAAAAAAAAAAAAAAAAAAAAAAAAAAAAAAAAAAAAAAAAAAAAAAAAAAAAAAAAAAAAAAAAAAAAAAAAAAAAAAAAAAAAAAAAAAAAAAAAAAAAAAAAAAAAAAAAAAAAAAAAAAAAAAAAAAAAAAAAAAAAAAAAAAAAAAAAAAAAAAAAAAAAAAAAAAAAAAAAAAAAAAAAAAAAAAAAAAAAAAAAAAAAAAAAAAAAAAAAAAAAAAAAAAAAAAAAAAAAAAAAAAAAAAAAAAAAAAAAAAAAAAAAAAAAAAAAAAAAAAAAAAAAAAAAAAAAAAAAAAAAAAAAAAAAAAAAAAAAAAAAAAAAAAAAAAAAAAAAAAAAAAAAAAAAAAAAAAAAAAAAAAAAAAAAAAAAAAAAAAAAAAAAAAAAAAAAAAAAAAAAAAAAAAAAAAAAAAAAAAAAAAAAAAAAAAAAAAAAAAAAAAAAAAAAAAAAAAAAAAAAAAAAAAAAAAAAAAAAAAAAAAAAAAAAAAAAAAAAAAAAAAAAAAAAAAAAAAAAAAAAAAAAAAAAAAAAAAAAAAAAAAAAAAAAAAAAAAAAAAAAAAAAAAAAAAAAAAAAAAAAAAAAAAAAAAAAAAAAAAAAAAAAAAAAAAAAAAAAAAAAAAAAAAAAAAAAAAAAAAAAAAAAAAAAAAAAAAAAAAAAAAAAAAAAAAAAAAAAAAAAAAAAAAAAAAAAAAAAAAAAAAAAAAAAAAAAAAAAAAAAAAAAAAAAAAAAAAAAAAAAAAAAAAAAAAAAAAAAAAAAAAAAAAAAAAAAAAAAAAAAAAAAAAAAAAAAAAAAAAAAAAAAAAAAAAAAAAAAAAAAAAAAAAAAAAAAAAAAAAAAAAAAAAAAAAAAAAAAAAAAAAAAAAAAAAAAAAAAAAAAAAAAAAAAAAAAAAAAAAAAAAAAAAAAAAAAAAAAAAAAAAAAAAAAAAAAAAAAAAAAAAAAAAAAAAAAAAAAAAAAAAAAAAAAAAAAAAAAAAAAAAAAAAAAAAAAAAAAAAAAAAAAAAAAAAAAAAAAAAAAAAAAAAAAAAAAAAAAAAAAAAAAAAAAAAAAAAAAAAAAAAAAAAAAAAAAAAAAAAAAAAAAAAAAAAAAAAAAAAAAAAAAAAAAAAAAAAAAAAAAAAAAAAAAAAAAAAAAAAAAAAAAAAAAAAAAAAAAAAAAAAAAAAAAAAAAAAAAAAAAAAAAAAAAAAAAAAAAAAAAAAAAAAAAAAAAAAAAAAAAAAAAAAAAAAAAAAAAAAAAAAAAAAAAAAAAAAAAAAAAAAAAAAAAAAAAAAAAAAAAAAAAAAAAAAAAAAAAAAAAAAAAAAAAAAAAAAAAAAAAAAAAAAAAAAAAAAAAAAAAAAAAAAAAAAAAAAAAAAAAAAAAAAAAAAAAAAAAAAAAAAAAAAAAAAAAAAAAAAAAAAAAAAAAAAAAAAAAAAAAAAAAAAAAAAAAAAAAAAAAAAAAAAAAAAAAAAAAAAAAAAAAAAAAAAAAAAAAAAAAAAAAAAAAAAAAAAAAAAAAAAAAAAAAAAAAAAAAAAAAAAAAAAAAAAAAAAAAAAAAAAAAAAAAAAAAAAAAAAAAAAAAAAAAAAAAAAAAAAAAAAAAAAAAAAAAAAAAAAAAAAAAAAAAAAAAAAAAAAAAAAAAAAAAAAAAAAAAAAAAAAAAAAAAAAAAAAAAAAAAAAAAAAAAAAAAAAAAAAAAAAAAAAAAAAAAAAAAAAAAAAAAAAAAAAAAAAAAAAAAAAAAAAAAAAAAAAAAAAAAAAAAAAAAAAAAAAAAAAAAAAAAAAAAAAAAAAAAAAAAAAAAAAAAAAAAAAAAAAAAAAAAAAAAAAAAAAAAAAAAAAAAAAAAAAAAAAAAAAAAAAAAAAAAAAAAAAAAAAAAAAAAAAAAAAAAAAAAAAAAAAAAAAAAAAAAAAAAAAAAAAAAAAAAAAAAAAAAAAAAAAAAAAAAAAAAAAAAAAAAAAAAAAAAAAAAAAAAAAAAAAAAAAAAAAAAAAAAAAAAAAAAAAAAAAAAAAAAAAAAAAAAAAAAAAAAAAAAAAAAAAAAAAAAAAAAAAAAAAAAAAAAAAAAAAAAAAAAAAAAAAAAAAAAAAAAAAAAAAAAAAAAAAAAAAAAAAAAAAAAAAAAAAAAAAAAAAAAAAAAAAAAAAAAAAAAAAAAAAAAAAAAAAAAAAAAAAAAAAAAAAAAAAAAAAAAAAAAAAAAAAAAAAAAAAAAAAAAAAAAAAAAAAAAAAAAAAAAAAAAAAAAAAAAAAAAAAAAAAAAAAAAAAAAAAAAAAAAAAAAAAAAAAAAAAAAAAAAAAAAAAAAAAAAAAAAAAAAAAAAAAAAAAAAAAAAAAAAAAAAAAAAAAAAAAAAAAAAAAAAAAAAAAAAAAAAAAAAAAAAAAAAAAAAAAAAAAAAAAAAAAAAAAAAAAAAAAAAAAAAAAAAAAAAAAAAAAAAAAAAAAAAAAAAAAAAAAAAAAAAAAAAAAAAAAAAAAAAAAAAAAAAAAAAAAAAAAAAAAAAAAAAAAAAAAAAAAAAAAAAAAAAAAAAAAAAAAAAAAAAAAAAAAAAAAAAAAAAAAAAAAAAAAAAAAAAAAAAAAAAAAAAAAAAAAAAAAAAAAAAAAAAAAAAAAAAAAAAAAAAAAAAAAAAAAAAAAAAAAAAAAAAAAAAAAAAAAAAAAAAAAAAAAAAAAAAAAAAAAAAAAAAAAAAAAAAAAAAAAAAAAAAAAAAAAAAAAAAAAAAAAAAAAAAAAAAAAAAAAAAAAAAAAAAAAAAAAAAAAAAAAAAAAAAAAAAAAAAAAAAAAAAAAAAAAAAAAAAAAAAAAAAAAAAAAAAAAAAAAAAAAAAAAAAAAAAAAAAAAAAAAAAAAAAAAAAAAAAAAAAAAAAAAAAAAAAAAAAAAAAAAAAAAAAAAAAAAAAAAAAAAAAAAAAAAAAAAAAAAAAAAAAAAAAAAAAAAAAAAAAAAAAAAAAAAAAAAAAAAAAAAAAAAAAAAAAAAAAAAAAAAAAAAAAAAAAAAAAAAAAAAAAAAAAAAAAAAAAAAAAAAAAAAAAAAAAAAAAAAAAAAAAAAAAAAAAAAAAAAAAAAAAAAAAAAAAAAAAAAAAAAAAAAAAAAAAAAAAAAAAAAAAAAAAAAAAAAAAAAAAAAAAAAAAAAAAAAAAAAAAAAAAAAAAAAAAAAAAAAAAAAAAAAAAAAAAAAAAAAAAAAAAAAAAAAAAAAAAAAAAAAAAAAAAAAAAAAAAAAAAAAAAAAAAAAAAAAAAAAAAAAAAAAAAAAAAAAAAAAAAAAAAAAAAAAAAAAAAAAAAAAAAAAAAAAAAAAAAAAAAAAAAAAAAAAAAAAAAAAAAAAAAAAAAAAAAAAAAAAAAAAAAAAAAAAAAAAAAAAAAAAAAAAAAAAAAAAAAAAAAAAAAAAAAAAAAAAAAAAAAAAAAAAAAAAAAAAAAAAAAAAAAAAAAAAAAAAAAAAAAAAAAAAAAAAAAAAAAAAAAAAAAAAAAAAAAAAAAAAAAAAAAAAAAAAAAAAAAAAAAAA\" type=\"audio/wav\" />\n",
       "                    Your browser does not support the audio element.\n",
       "                </audio>\n",
       "              "
      ],
      "text/plain": [
       "<IPython.lib.display.Audio object>"
      ]
     },
     "execution_count": 38,
     "metadata": {},
     "output_type": "execute_result"
    }
   ],
   "source": [
    "sample_rate = 44100\n",
    "Audio(processed, rate=sample_rate)"
   ]
  },
  {
   "cell_type": "code",
   "execution_count": 40,
   "id": "1e56ab47-5c1e-4efb-afbe-9f5aa1a380a4",
   "metadata": {},
   "outputs": [
    {
     "data": {
      "text/plain": [
       "0.0"
      ]
     },
     "execution_count": 40,
     "metadata": {},
     "output_type": "execute_result"
    }
   ],
   "source": [
    "processed.max()"
   ]
  },
  {
   "cell_type": "code",
   "execution_count": 41,
   "id": "97af1068-def9-408f-b9da-3c3df4ecf034",
   "metadata": {},
   "outputs": [
    {
     "data": {
      "text/plain": [
       "0.5160747"
      ]
     },
     "execution_count": 41,
     "metadata": {},
     "output_type": "execute_result"
    }
   ],
   "source": [
    "audio.max()"
   ]
  },
  {
   "cell_type": "code",
   "execution_count": null,
   "id": "3cbf2040-9f4a-4ee0-b772-dc306353b11f",
   "metadata": {},
   "outputs": [],
   "source": []
  }
 ],
 "metadata": {
  "kernelspec": {
   "display_name": "Python 3 (ipykernel)",
   "language": "python",
   "name": "python3"
  },
  "language_info": {
   "codemirror_mode": {
    "name": "ipython",
    "version": 3
   },
   "file_extension": ".py",
   "mimetype": "text/x-python",
   "name": "python",
   "nbconvert_exporter": "python",
   "pygments_lexer": "ipython3",
   "version": "3.11.11"
  }
 },
 "nbformat": 4,
 "nbformat_minor": 5
}
